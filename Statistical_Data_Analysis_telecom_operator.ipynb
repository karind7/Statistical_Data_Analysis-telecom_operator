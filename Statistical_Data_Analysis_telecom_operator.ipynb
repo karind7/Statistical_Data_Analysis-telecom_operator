{
  "nbformat": 4,
  "nbformat_minor": 0,
  "metadata": {
    "ExecuteTimeLog": [
      {
        "duration": 10,
        "start_time": "2021-07-12T16:32:38.018Z"
      },
      {
        "duration": 1348,
        "start_time": "2021-07-12T16:32:38.031Z"
      },
      {
        "duration": 161,
        "start_time": "2021-07-12T16:32:39.382Z"
      },
      {
        "duration": 24,
        "start_time": "2021-07-12T16:32:39.546Z"
      },
      {
        "duration": 51,
        "start_time": "2021-07-12T16:32:39.573Z"
      },
      {
        "duration": 12,
        "start_time": "2021-07-12T16:32:39.626Z"
      },
      {
        "duration": 141,
        "start_time": "2021-07-12T16:32:39.640Z"
      },
      {
        "duration": 27,
        "start_time": "2021-07-12T16:32:39.784Z"
      },
      {
        "duration": 29,
        "start_time": "2021-07-12T16:32:39.814Z"
      },
      {
        "duration": 12,
        "start_time": "2021-07-12T16:32:39.846Z"
      },
      {
        "duration": 114,
        "start_time": "2021-07-12T16:32:39.860Z"
      },
      {
        "duration": 15,
        "start_time": "2021-07-12T16:32:39.977Z"
      },
      {
        "duration": 30,
        "start_time": "2021-07-12T16:32:39.995Z"
      },
      {
        "duration": 12,
        "start_time": "2021-07-12T16:32:40.028Z"
      },
      {
        "duration": 29,
        "start_time": "2021-07-12T16:32:40.043Z"
      },
      {
        "duration": 27,
        "start_time": "2021-07-12T16:32:40.075Z"
      },
      {
        "duration": 54,
        "start_time": "2021-07-12T16:32:40.105Z"
      },
      {
        "duration": 12,
        "start_time": "2021-07-12T16:32:40.162Z"
      },
      {
        "duration": 27,
        "start_time": "2021-07-12T16:32:40.177Z"
      },
      {
        "duration": 15,
        "start_time": "2021-07-12T16:32:40.206Z"
      },
      {
        "duration": 41,
        "start_time": "2021-07-12T16:32:40.224Z"
      },
      {
        "duration": 17,
        "start_time": "2021-07-12T16:32:40.267Z"
      },
      {
        "duration": 1013,
        "start_time": "2021-07-12T16:32:40.289Z"
      },
      {
        "duration": 744,
        "start_time": "2021-07-12T16:32:41.306Z"
      },
      {
        "duration": 545,
        "start_time": "2021-07-12T16:32:42.053Z"
      },
      {
        "duration": 15,
        "start_time": "2021-07-12T16:32:42.600Z"
      },
      {
        "duration": 23,
        "start_time": "2021-07-12T16:32:42.618Z"
      },
      {
        "duration": 8958,
        "start_time": "2021-07-12T16:32:42.644Z"
      },
      {
        "duration": 10,
        "start_time": "2021-07-12T16:32:51.605Z"
      },
      {
        "duration": 347,
        "start_time": "2021-07-12T16:32:51.618Z"
      },
      {
        "duration": 41,
        "start_time": "2021-07-12T16:32:51.968Z"
      },
      {
        "duration": 336,
        "start_time": "2021-07-12T16:32:52.012Z"
      },
      {
        "duration": 509,
        "start_time": "2021-07-12T16:32:52.352Z"
      },
      {
        "duration": 486,
        "start_time": "2021-07-12T16:32:52.863Z"
      },
      {
        "duration": 494,
        "start_time": "2021-07-12T16:32:53.351Z"
      },
      {
        "duration": 21,
        "start_time": "2021-07-12T16:32:53.848Z"
      },
      {
        "duration": 343,
        "start_time": "2021-07-12T16:32:53.872Z"
      },
      {
        "duration": 1029,
        "start_time": "2021-07-12T16:32:54.218Z"
      },
      {
        "duration": 10,
        "start_time": "2021-07-12T16:32:55.249Z"
      },
      {
        "duration": 529,
        "start_time": "2021-07-12T16:32:55.261Z"
      },
      {
        "duration": 48,
        "start_time": "2021-07-12T16:32:55.744Z"
      },
      {
        "duration": 49,
        "start_time": "2021-07-12T16:32:55.745Z"
      },
      {
        "duration": 37,
        "start_time": "2021-07-12T16:33:12.157Z"
      },
      {
        "duration": 340,
        "start_time": "2021-07-12T16:33:13.081Z"
      },
      {
        "duration": 383,
        "start_time": "2021-07-12T20:19:30.340Z"
      },
      {
        "duration": 342,
        "start_time": "2021-07-12T20:19:55.995Z"
      },
      {
        "duration": 8,
        "start_time": "2021-07-12T20:20:08.443Z"
      },
      {
        "duration": 1419,
        "start_time": "2021-07-12T20:20:08.454Z"
      },
      {
        "duration": 145,
        "start_time": "2021-07-12T20:20:09.876Z"
      },
      {
        "duration": 22,
        "start_time": "2021-07-12T20:20:10.024Z"
      },
      {
        "duration": 37,
        "start_time": "2021-07-12T20:20:10.049Z"
      },
      {
        "duration": 14,
        "start_time": "2021-07-12T20:20:10.110Z"
      },
      {
        "duration": 136,
        "start_time": "2021-07-12T20:20:10.126Z"
      },
      {
        "duration": 20,
        "start_time": "2021-07-12T20:20:10.266Z"
      },
      {
        "duration": 46,
        "start_time": "2021-07-12T20:20:10.288Z"
      },
      {
        "duration": 12,
        "start_time": "2021-07-12T20:20:10.336Z"
      },
      {
        "duration": 91,
        "start_time": "2021-07-12T20:20:10.350Z"
      },
      {
        "duration": 16,
        "start_time": "2021-07-12T20:20:10.444Z"
      },
      {
        "duration": 17,
        "start_time": "2021-07-12T20:20:10.462Z"
      },
      {
        "duration": 36,
        "start_time": "2021-07-12T20:20:10.482Z"
      },
      {
        "duration": 30,
        "start_time": "2021-07-12T20:20:10.520Z"
      },
      {
        "duration": 15,
        "start_time": "2021-07-12T20:20:10.552Z"
      },
      {
        "duration": 47,
        "start_time": "2021-07-12T20:20:10.569Z"
      },
      {
        "duration": 12,
        "start_time": "2021-07-12T20:20:10.618Z"
      },
      {
        "duration": 32,
        "start_time": "2021-07-12T20:20:10.632Z"
      },
      {
        "duration": 9,
        "start_time": "2021-07-12T20:20:10.666Z"
      },
      {
        "duration": 43,
        "start_time": "2021-07-12T20:20:10.677Z"
      },
      {
        "duration": 17,
        "start_time": "2021-07-12T20:20:10.722Z"
      },
      {
        "duration": 382,
        "start_time": "2021-07-12T20:20:12.866Z"
      },
      {
        "duration": 5,
        "start_time": "2021-07-12T20:20:20.202Z"
      },
      {
        "duration": 112,
        "start_time": "2021-07-12T20:21:19.813Z"
      },
      {
        "duration": 345,
        "start_time": "2021-07-12T20:21:23.210Z"
      },
      {
        "duration": 29,
        "start_time": "2021-07-12T20:21:32.476Z"
      },
      {
        "duration": 1001,
        "start_time": "2021-07-12T20:22:51.057Z"
      },
      {
        "duration": 14,
        "start_time": "2021-07-12T20:22:57.861Z"
      },
      {
        "duration": 4,
        "start_time": "2021-07-12T20:24:06.107Z"
      },
      {
        "duration": 6,
        "start_time": "2021-07-12T20:24:06.117Z"
      },
      {
        "duration": 167,
        "start_time": "2021-07-12T20:24:06.126Z"
      },
      {
        "duration": 27,
        "start_time": "2021-07-12T20:24:06.297Z"
      },
      {
        "duration": 38,
        "start_time": "2021-07-12T20:24:06.327Z"
      },
      {
        "duration": 12,
        "start_time": "2021-07-12T20:24:06.368Z"
      },
      {
        "duration": 142,
        "start_time": "2021-07-12T20:24:06.382Z"
      },
      {
        "duration": 18,
        "start_time": "2021-07-12T20:24:06.527Z"
      },
      {
        "duration": 31,
        "start_time": "2021-07-12T20:24:06.547Z"
      },
      {
        "duration": 13,
        "start_time": "2021-07-12T20:24:06.608Z"
      },
      {
        "duration": 102,
        "start_time": "2021-07-12T20:24:06.625Z"
      },
      {
        "duration": 18,
        "start_time": "2021-07-12T20:24:06.730Z"
      },
      {
        "duration": 50,
        "start_time": "2021-07-12T20:24:06.751Z"
      },
      {
        "duration": 27,
        "start_time": "2021-07-12T20:24:06.804Z"
      },
      {
        "duration": 25,
        "start_time": "2021-07-12T20:24:06.834Z"
      },
      {
        "duration": 16,
        "start_time": "2021-07-12T20:24:06.862Z"
      },
      {
        "duration": 61,
        "start_time": "2021-07-12T20:24:06.881Z"
      },
      {
        "duration": 14,
        "start_time": "2021-07-12T20:24:06.945Z"
      },
      {
        "duration": 38,
        "start_time": "2021-07-12T20:24:06.963Z"
      },
      {
        "duration": 12,
        "start_time": "2021-07-12T20:24:07.004Z"
      },
      {
        "duration": 24,
        "start_time": "2021-07-12T20:24:07.019Z"
      },
      {
        "duration": 20,
        "start_time": "2021-07-12T20:24:07.046Z"
      },
      {
        "duration": 1153,
        "start_time": "2021-07-12T20:24:07.069Z"
      },
      {
        "duration": 11,
        "start_time": "2021-07-12T20:24:15.256Z"
      },
      {
        "duration": 46,
        "start_time": "2021-07-12T20:26:46.727Z"
      },
      {
        "duration": 15,
        "start_time": "2021-07-12T20:27:45.414Z"
      },
      {
        "duration": 452,
        "start_time": "2021-07-12T20:29:43.685Z"
      },
      {
        "duration": 53,
        "start_time": "2021-07-12T20:30:13.060Z"
      },
      {
        "duration": 46,
        "start_time": "2021-07-12T20:30:22.385Z"
      },
      {
        "duration": 489,
        "start_time": "2021-07-12T20:31:03.278Z"
      },
      {
        "duration": 7803,
        "start_time": "2021-07-12T20:31:04.517Z"
      },
      {
        "duration": 14,
        "start_time": "2021-07-12T20:31:13.636Z"
      },
      {
        "duration": 307,
        "start_time": "2021-07-12T20:33:51.823Z"
      },
      {
        "duration": 4,
        "start_time": "2021-07-12T20:34:07.080Z"
      },
      {
        "duration": 17,
        "start_time": "2021-07-12T20:34:07.087Z"
      },
      {
        "duration": 173,
        "start_time": "2021-07-12T20:34:07.106Z"
      },
      {
        "duration": 30,
        "start_time": "2021-07-12T20:34:07.282Z"
      },
      {
        "duration": 31,
        "start_time": "2021-07-12T20:34:07.314Z"
      },
      {
        "duration": 12,
        "start_time": "2021-07-12T20:34:07.347Z"
      },
      {
        "duration": 149,
        "start_time": "2021-07-12T20:34:07.362Z"
      },
      {
        "duration": 19,
        "start_time": "2021-07-12T20:34:07.515Z"
      },
      {
        "duration": 28,
        "start_time": "2021-07-12T20:34:07.537Z"
      },
      {
        "duration": 41,
        "start_time": "2021-07-12T20:34:07.568Z"
      },
      {
        "duration": 79,
        "start_time": "2021-07-12T20:34:07.612Z"
      },
      {
        "duration": 20,
        "start_time": "2021-07-12T20:34:07.694Z"
      },
      {
        "duration": 19,
        "start_time": "2021-07-12T20:34:07.717Z"
      },
      {
        "duration": 14,
        "start_time": "2021-07-12T20:34:07.738Z"
      },
      {
        "duration": 25,
        "start_time": "2021-07-12T20:34:07.754Z"
      },
      {
        "duration": 31,
        "start_time": "2021-07-12T20:34:07.781Z"
      },
      {
        "duration": 48,
        "start_time": "2021-07-12T20:34:07.815Z"
      },
      {
        "duration": 14,
        "start_time": "2021-07-12T20:34:07.865Z"
      },
      {
        "duration": 24,
        "start_time": "2021-07-12T20:34:07.909Z"
      },
      {
        "duration": 10,
        "start_time": "2021-07-12T20:34:07.936Z"
      },
      {
        "duration": 29,
        "start_time": "2021-07-12T20:34:07.948Z"
      },
      {
        "duration": 34,
        "start_time": "2021-07-12T20:34:07.979Z"
      },
      {
        "duration": 1117,
        "start_time": "2021-07-12T20:34:08.017Z"
      },
      {
        "duration": 778,
        "start_time": "2021-07-12T20:34:09.137Z"
      },
      {
        "duration": 24,
        "start_time": "2021-07-12T20:34:09.917Z"
      },
      {
        "duration": 584,
        "start_time": "2021-07-12T20:34:09.944Z"
      },
      {
        "duration": 11,
        "start_time": "2021-07-12T20:34:10.530Z"
      },
      {
        "duration": 28,
        "start_time": "2021-07-12T20:34:10.544Z"
      },
      {
        "duration": 6,
        "start_time": "2021-07-12T20:34:17.719Z"
      },
      {
        "duration": 9,
        "start_time": "2021-07-12T20:35:26.345Z"
      },
      {
        "duration": 22,
        "start_time": "2021-07-12T20:39:19.710Z"
      },
      {
        "duration": 8771,
        "start_time": "2021-07-12T20:41:22.893Z"
      },
      {
        "duration": 23,
        "start_time": "2021-07-12T20:41:37.814Z"
      },
      {
        "duration": 14,
        "start_time": "2021-07-12T20:41:55.153Z"
      },
      {
        "duration": 14,
        "start_time": "2021-07-12T20:48:16.491Z"
      },
      {
        "duration": 5,
        "start_time": "2021-07-13T20:01:19.928Z"
      },
      {
        "duration": 1863,
        "start_time": "2021-07-13T20:01:19.937Z"
      },
      {
        "duration": 435,
        "start_time": "2021-07-13T20:01:21.803Z"
      },
      {
        "duration": 22,
        "start_time": "2021-07-13T20:01:22.241Z"
      },
      {
        "duration": 50,
        "start_time": "2021-07-13T20:01:22.266Z"
      },
      {
        "duration": 12,
        "start_time": "2021-07-13T20:01:22.318Z"
      },
      {
        "duration": 156,
        "start_time": "2021-07-13T20:01:22.333Z"
      },
      {
        "duration": 17,
        "start_time": "2021-07-13T20:01:22.492Z"
      },
      {
        "duration": 32,
        "start_time": "2021-07-13T20:01:22.512Z"
      },
      {
        "duration": 11,
        "start_time": "2021-07-13T20:01:22.548Z"
      },
      {
        "duration": 100,
        "start_time": "2021-07-13T20:01:22.562Z"
      },
      {
        "duration": 14,
        "start_time": "2021-07-13T20:01:22.665Z"
      },
      {
        "duration": 34,
        "start_time": "2021-07-13T20:01:22.682Z"
      },
      {
        "duration": 11,
        "start_time": "2021-07-13T20:01:22.718Z"
      },
      {
        "duration": 45,
        "start_time": "2021-07-13T20:01:22.732Z"
      },
      {
        "duration": 8,
        "start_time": "2021-07-13T20:01:22.780Z"
      },
      {
        "duration": 68,
        "start_time": "2021-07-13T20:01:22.801Z"
      },
      {
        "duration": 12,
        "start_time": "2021-07-13T20:01:22.872Z"
      },
      {
        "duration": 46,
        "start_time": "2021-07-13T20:01:22.887Z"
      },
      {
        "duration": 10,
        "start_time": "2021-07-13T20:01:22.935Z"
      },
      {
        "duration": 25,
        "start_time": "2021-07-13T20:01:22.947Z"
      },
      {
        "duration": 16,
        "start_time": "2021-07-13T20:01:22.993Z"
      },
      {
        "duration": 285,
        "start_time": "2021-07-13T20:01:23.012Z"
      },
      {
        "duration": 225,
        "start_time": "2021-07-13T20:01:23.299Z"
      },
      {
        "duration": 25,
        "start_time": "2021-07-13T20:01:23.526Z"
      },
      {
        "duration": 593,
        "start_time": "2021-07-13T20:01:23.554Z"
      },
      {
        "duration": 11,
        "start_time": "2021-07-13T20:01:24.150Z"
      },
      {
        "duration": 44,
        "start_time": "2021-07-13T20:01:24.166Z"
      },
      {
        "duration": 13,
        "start_time": "2021-07-13T20:01:24.214Z"
      },
      {
        "duration": 13,
        "start_time": "2021-07-13T20:01:24.229Z"
      },
      {
        "duration": 20,
        "start_time": "2021-07-13T20:01:24.245Z"
      },
      {
        "duration": 18,
        "start_time": "2021-07-13T20:01:24.268Z"
      },
      {
        "duration": 32,
        "start_time": "2021-07-13T20:01:24.289Z"
      },
      {
        "duration": 11643,
        "start_time": "2021-07-13T20:01:24.324Z"
      },
      {
        "duration": 14,
        "start_time": "2021-07-13T20:01:35.969Z"
      },
      {
        "duration": 29,
        "start_time": "2021-07-13T20:01:35.985Z"
      },
      {
        "duration": 346,
        "start_time": "2021-07-13T20:01:36.016Z"
      },
      {
        "duration": 24,
        "start_time": "2021-07-13T20:01:36.364Z"
      },
      {
        "duration": 359,
        "start_time": "2021-07-13T20:01:36.390Z"
      },
      {
        "duration": 591,
        "start_time": "2021-07-13T20:01:36.752Z"
      },
      {
        "duration": 489,
        "start_time": "2021-07-13T20:01:37.346Z"
      },
      {
        "duration": 437,
        "start_time": "2021-07-13T20:01:37.838Z"
      },
      {
        "duration": 338,
        "start_time": "2021-07-13T20:01:38.278Z"
      },
      {
        "duration": 20,
        "start_time": "2021-07-13T20:01:38.619Z"
      },
      {
        "duration": 358,
        "start_time": "2021-07-13T20:01:38.642Z"
      },
      {
        "duration": 1445,
        "start_time": "2021-07-13T20:01:39.002Z"
      },
      {
        "duration": 16,
        "start_time": "2021-07-13T20:01:40.449Z"
      },
      {
        "duration": 1112,
        "start_time": "2021-07-13T20:01:40.467Z"
      },
      {
        "duration": 2358,
        "start_time": "2021-07-13T20:01:41.582Z"
      },
      {
        "duration": 10,
        "start_time": "2021-07-13T20:01:43.942Z"
      },
      {
        "duration": 10,
        "start_time": "2021-07-13T20:01:43.954Z"
      },
      {
        "duration": 60,
        "start_time": "2021-07-13T20:01:43.966Z"
      },
      {
        "duration": 6,
        "start_time": "2021-07-13T20:01:44.028Z"
      },
      {
        "duration": 9,
        "start_time": "2021-07-13T20:01:44.038Z"
      },
      {
        "duration": 10,
        "start_time": "2021-07-13T20:01:44.049Z"
      },
      {
        "duration": 49,
        "start_time": "2021-07-13T20:01:44.062Z"
      },
      {
        "duration": 19,
        "start_time": "2021-07-13T20:02:35.702Z"
      },
      {
        "duration": 10,
        "start_time": "2021-07-13T20:09:47.226Z"
      },
      {
        "duration": 15,
        "start_time": "2021-07-13T20:14:50.191Z"
      },
      {
        "duration": 15,
        "start_time": "2021-07-13T20:17:10.461Z"
      },
      {
        "duration": 14,
        "start_time": "2021-07-13T20:18:39.164Z"
      },
      {
        "duration": 15,
        "start_time": "2021-07-13T20:18:42.517Z"
      },
      {
        "duration": 16,
        "start_time": "2021-07-13T20:20:19.899Z"
      },
      {
        "duration": 16,
        "start_time": "2021-07-13T20:20:28.276Z"
      },
      {
        "duration": 116,
        "start_time": "2021-07-13T20:42:31.774Z"
      },
      {
        "duration": 5,
        "start_time": "2021-07-13T20:53:30.134Z"
      },
      {
        "duration": 555,
        "start_time": "2021-07-13T20:54:31.665Z"
      },
      {
        "duration": 13,
        "start_time": "2021-07-13T20:54:48.199Z"
      },
      {
        "duration": 25,
        "start_time": "2021-07-13T20:55:50.543Z"
      },
      {
        "duration": 345,
        "start_time": "2021-07-13T20:55:59.504Z"
      },
      {
        "duration": 14,
        "start_time": "2021-07-13T20:56:02.445Z"
      },
      {
        "duration": 30,
        "start_time": "2021-07-13T20:56:03.755Z"
      },
      {
        "duration": 8050,
        "start_time": "2021-07-13T20:56:55.557Z"
      },
      {
        "duration": 9,
        "start_time": "2021-07-13T20:57:25.968Z"
      },
      {
        "duration": 9,
        "start_time": "2021-07-13T20:57:54.162Z"
      },
      {
        "duration": 384,
        "start_time": "2021-07-13T20:58:22.004Z"
      },
      {
        "duration": 8,
        "start_time": "2021-07-13T20:59:02.994Z"
      },
      {
        "duration": 401,
        "start_time": "2021-07-13T21:14:22.338Z"
      },
      {
        "duration": 6,
        "start_time": "2021-07-13T21:23:06.709Z"
      },
      {
        "duration": 5,
        "start_time": "2021-07-16T10:35:45.033Z"
      },
      {
        "duration": 2070,
        "start_time": "2021-07-16T10:35:45.047Z"
      },
      {
        "duration": 156,
        "start_time": "2021-07-16T10:35:47.121Z"
      },
      {
        "duration": 30,
        "start_time": "2021-07-16T10:35:47.280Z"
      },
      {
        "duration": 54,
        "start_time": "2021-07-16T10:35:47.313Z"
      },
      {
        "duration": 12,
        "start_time": "2021-07-16T10:35:47.369Z"
      },
      {
        "duration": 200,
        "start_time": "2021-07-16T10:35:47.384Z"
      },
      {
        "duration": 23,
        "start_time": "2021-07-16T10:35:47.587Z"
      },
      {
        "duration": 57,
        "start_time": "2021-07-16T10:35:47.613Z"
      },
      {
        "duration": 17,
        "start_time": "2021-07-16T10:35:47.676Z"
      },
      {
        "duration": 127,
        "start_time": "2021-07-16T10:35:47.697Z"
      },
      {
        "duration": 43,
        "start_time": "2021-07-16T10:35:47.827Z"
      },
      {
        "duration": 33,
        "start_time": "2021-07-16T10:35:47.873Z"
      },
      {
        "duration": 15,
        "start_time": "2021-07-16T10:35:47.909Z"
      },
      {
        "duration": 30,
        "start_time": "2021-07-16T10:35:47.927Z"
      },
      {
        "duration": 15,
        "start_time": "2021-07-16T10:35:47.961Z"
      },
      {
        "duration": 42,
        "start_time": "2021-07-16T10:35:47.979Z"
      },
      {
        "duration": 47,
        "start_time": "2021-07-16T10:35:48.025Z"
      },
      {
        "duration": 41,
        "start_time": "2021-07-16T10:35:48.075Z"
      },
      {
        "duration": 14,
        "start_time": "2021-07-16T10:35:48.119Z"
      },
      {
        "duration": 35,
        "start_time": "2021-07-16T10:35:48.137Z"
      },
      {
        "duration": 16,
        "start_time": "2021-07-16T10:35:48.175Z"
      },
      {
        "duration": 321,
        "start_time": "2021-07-16T10:35:48.193Z"
      },
      {
        "duration": 239,
        "start_time": "2021-07-16T10:35:48.517Z"
      },
      {
        "duration": 27,
        "start_time": "2021-07-16T10:35:48.762Z"
      },
      {
        "duration": 742,
        "start_time": "2021-07-16T10:35:48.792Z"
      },
      {
        "duration": 11,
        "start_time": "2021-07-16T10:35:49.537Z"
      },
      {
        "duration": 20,
        "start_time": "2021-07-16T10:35:49.565Z"
      },
      {
        "duration": 14,
        "start_time": "2021-07-16T10:35:49.588Z"
      },
      {
        "duration": 11,
        "start_time": "2021-07-16T10:35:49.604Z"
      },
      {
        "duration": 40,
        "start_time": "2021-07-16T10:35:49.622Z"
      },
      {
        "duration": 18,
        "start_time": "2021-07-16T10:35:49.664Z"
      },
      {
        "duration": 20,
        "start_time": "2021-07-16T10:35:49.684Z"
      },
      {
        "duration": 7570,
        "start_time": "2021-07-16T10:35:49.707Z"
      },
      {
        "duration": 14,
        "start_time": "2021-07-16T10:35:57.279Z"
      },
      {
        "duration": 23,
        "start_time": "2021-07-16T10:35:57.296Z"
      },
      {
        "duration": 20,
        "start_time": "2021-07-16T10:35:57.321Z"
      },
      {
        "duration": 340,
        "start_time": "2021-07-16T10:35:57.343Z"
      },
      {
        "duration": 28,
        "start_time": "2021-07-16T10:35:57.686Z"
      },
      {
        "duration": 381,
        "start_time": "2021-07-16T10:35:57.717Z"
      },
      {
        "duration": 496,
        "start_time": "2021-07-16T10:35:58.101Z"
      },
      {
        "duration": 503,
        "start_time": "2021-07-16T10:35:58.600Z"
      },
      {
        "duration": 494,
        "start_time": "2021-07-16T10:35:59.106Z"
      },
      {
        "duration": 253,
        "start_time": "2021-07-16T10:35:59.603Z"
      },
      {
        "duration": 18,
        "start_time": "2021-07-16T10:35:59.858Z"
      },
      {
        "duration": 279,
        "start_time": "2021-07-16T10:35:59.879Z"
      },
      {
        "duration": 1142,
        "start_time": "2021-07-16T10:36:00.161Z"
      },
      {
        "duration": 17,
        "start_time": "2021-07-16T10:36:01.305Z"
      },
      {
        "duration": 984,
        "start_time": "2021-07-16T10:36:01.324Z"
      },
      {
        "duration": 2171,
        "start_time": "2021-07-16T10:36:02.311Z"
      },
      {
        "duration": 10,
        "start_time": "2021-07-16T10:36:04.485Z"
      },
      {
        "duration": 31,
        "start_time": "2021-07-16T10:36:04.497Z"
      },
      {
        "duration": 27,
        "start_time": "2021-07-16T10:36:04.530Z"
      },
      {
        "duration": 8,
        "start_time": "2021-07-16T10:36:04.562Z"
      },
      {
        "duration": 30,
        "start_time": "2021-07-16T10:36:04.572Z"
      },
      {
        "duration": 6,
        "start_time": "2021-07-16T10:50:56.725Z"
      },
      {
        "duration": 7,
        "start_time": "2021-07-16T10:51:30.179Z"
      },
      {
        "duration": 108,
        "start_time": "2021-07-16T11:02:10.277Z"
      },
      {
        "duration": 7,
        "start_time": "2021-07-16T17:33:41.648Z"
      },
      {
        "duration": 2475,
        "start_time": "2021-07-16T17:33:41.658Z"
      },
      {
        "duration": 217,
        "start_time": "2021-07-16T17:33:44.137Z"
      },
      {
        "duration": 35,
        "start_time": "2021-07-16T17:33:44.357Z"
      },
      {
        "duration": 68,
        "start_time": "2021-07-16T17:33:44.395Z"
      },
      {
        "duration": 16,
        "start_time": "2021-07-16T17:33:44.466Z"
      },
      {
        "duration": 179,
        "start_time": "2021-07-16T17:33:44.485Z"
      },
      {
        "duration": 18,
        "start_time": "2021-07-16T17:33:44.667Z"
      },
      {
        "duration": 28,
        "start_time": "2021-07-16T17:33:44.689Z"
      },
      {
        "duration": 11,
        "start_time": "2021-07-16T17:33:44.720Z"
      },
      {
        "duration": 76,
        "start_time": "2021-07-16T17:33:44.761Z"
      },
      {
        "duration": 23,
        "start_time": "2021-07-16T17:33:44.839Z"
      },
      {
        "duration": 17,
        "start_time": "2021-07-16T17:33:44.864Z"
      },
      {
        "duration": 10,
        "start_time": "2021-07-16T17:33:44.883Z"
      },
      {
        "duration": 18,
        "start_time": "2021-07-16T17:33:44.896Z"
      },
      {
        "duration": 15,
        "start_time": "2021-07-16T17:33:44.916Z"
      },
      {
        "duration": 68,
        "start_time": "2021-07-16T17:33:44.933Z"
      },
      {
        "duration": 12,
        "start_time": "2021-07-16T17:33:45.003Z"
      },
      {
        "duration": 69,
        "start_time": "2021-07-16T17:33:45.018Z"
      },
      {
        "duration": 9,
        "start_time": "2021-07-16T17:33:45.089Z"
      },
      {
        "duration": 26,
        "start_time": "2021-07-16T17:33:45.100Z"
      },
      {
        "duration": 19,
        "start_time": "2021-07-16T17:33:45.128Z"
      },
      {
        "duration": 274,
        "start_time": "2021-07-16T17:33:45.150Z"
      },
      {
        "duration": 215,
        "start_time": "2021-07-16T17:33:45.429Z"
      },
      {
        "duration": 29,
        "start_time": "2021-07-16T17:33:45.647Z"
      },
      {
        "duration": 571,
        "start_time": "2021-07-16T17:33:45.678Z"
      },
      {
        "duration": 19,
        "start_time": "2021-07-16T17:33:46.252Z"
      },
      {
        "duration": 28,
        "start_time": "2021-07-16T17:33:46.273Z"
      },
      {
        "duration": 9,
        "start_time": "2021-07-16T17:33:46.303Z"
      },
      {
        "duration": 11,
        "start_time": "2021-07-16T17:33:46.314Z"
      },
      {
        "duration": 35,
        "start_time": "2021-07-16T17:33:46.327Z"
      },
      {
        "duration": 17,
        "start_time": "2021-07-16T17:33:46.364Z"
      },
      {
        "duration": 13,
        "start_time": "2021-07-16T17:33:46.384Z"
      },
      {
        "duration": 11535,
        "start_time": "2021-07-16T17:33:46.399Z"
      },
      {
        "duration": 14,
        "start_time": "2021-07-16T17:33:57.937Z"
      },
      {
        "duration": 28,
        "start_time": "2021-07-16T17:33:57.953Z"
      },
      {
        "duration": 26,
        "start_time": "2021-07-16T17:33:57.984Z"
      },
      {
        "duration": 364,
        "start_time": "2021-07-16T17:33:58.013Z"
      },
      {
        "duration": 24,
        "start_time": "2021-07-16T17:33:58.379Z"
      },
      {
        "duration": 347,
        "start_time": "2021-07-16T17:33:58.406Z"
      },
      {
        "duration": 446,
        "start_time": "2021-07-16T17:33:58.756Z"
      },
      {
        "duration": 486,
        "start_time": "2021-07-16T17:33:59.205Z"
      },
      {
        "duration": 453,
        "start_time": "2021-07-16T17:33:59.693Z"
      },
      {
        "duration": 339,
        "start_time": "2021-07-16T17:34:00.149Z"
      },
      {
        "duration": 23,
        "start_time": "2021-07-16T17:34:00.490Z"
      },
      {
        "duration": 374,
        "start_time": "2021-07-16T17:34:00.515Z"
      },
      {
        "duration": 1388,
        "start_time": "2021-07-16T17:34:00.891Z"
      },
      {
        "duration": 21,
        "start_time": "2021-07-16T17:34:02.282Z"
      },
      {
        "duration": 1115,
        "start_time": "2021-07-16T17:34:02.305Z"
      },
      {
        "duration": 3169,
        "start_time": "2021-07-16T17:34:03.423Z"
      },
      {
        "duration": 15,
        "start_time": "2021-07-16T17:34:06.595Z"
      },
      {
        "duration": 9,
        "start_time": "2021-07-16T17:34:06.613Z"
      },
      {
        "duration": 48,
        "start_time": "2021-07-16T17:34:06.625Z"
      },
      {
        "duration": 9,
        "start_time": "2021-07-16T17:34:06.676Z"
      },
      {
        "duration": 351,
        "start_time": "2021-07-20T07:47:00.043Z"
      },
      {
        "duration": 7,
        "start_time": "2021-07-20T07:47:06.670Z"
      },
      {
        "duration": 1820,
        "start_time": "2021-07-20T07:47:06.680Z"
      },
      {
        "duration": 152,
        "start_time": "2021-07-20T07:47:08.503Z"
      },
      {
        "duration": 24,
        "start_time": "2021-07-20T07:47:08.658Z"
      },
      {
        "duration": 35,
        "start_time": "2021-07-20T07:47:08.685Z"
      },
      {
        "duration": 37,
        "start_time": "2021-07-20T07:47:08.722Z"
      },
      {
        "duration": 119,
        "start_time": "2021-07-20T07:47:08.762Z"
      },
      {
        "duration": 18,
        "start_time": "2021-07-20T07:47:08.884Z"
      },
      {
        "duration": 48,
        "start_time": "2021-07-20T07:47:08.907Z"
      },
      {
        "duration": 14,
        "start_time": "2021-07-20T07:47:08.960Z"
      },
      {
        "duration": 91,
        "start_time": "2021-07-20T07:47:08.977Z"
      },
      {
        "duration": 15,
        "start_time": "2021-07-20T07:47:09.070Z"
      },
      {
        "duration": 24,
        "start_time": "2021-07-20T07:47:09.087Z"
      },
      {
        "duration": 12,
        "start_time": "2021-07-20T07:47:09.113Z"
      },
      {
        "duration": 19,
        "start_time": "2021-07-20T07:47:09.155Z"
      },
      {
        "duration": 10,
        "start_time": "2021-07-20T07:47:09.177Z"
      },
      {
        "duration": 42,
        "start_time": "2021-07-20T07:47:09.190Z"
      },
      {
        "duration": 29,
        "start_time": "2021-07-20T07:47:09.234Z"
      },
      {
        "duration": 60,
        "start_time": "2021-07-20T07:47:09.266Z"
      },
      {
        "duration": 8,
        "start_time": "2021-07-20T07:47:09.329Z"
      },
      {
        "duration": 23,
        "start_time": "2021-07-20T07:47:09.339Z"
      },
      {
        "duration": 18,
        "start_time": "2021-07-20T07:47:09.364Z"
      },
      {
        "duration": 375,
        "start_time": "2021-07-20T07:47:09.384Z"
      },
      {
        "duration": 229,
        "start_time": "2021-07-20T07:47:09.761Z"
      },
      {
        "duration": 25,
        "start_time": "2021-07-20T07:47:09.992Z"
      },
      {
        "duration": 664,
        "start_time": "2021-07-20T07:47:10.019Z"
      },
      {
        "duration": 13,
        "start_time": "2021-07-20T07:47:10.688Z"
      },
      {
        "duration": 51,
        "start_time": "2021-07-20T07:47:10.705Z"
      },
      {
        "duration": 11,
        "start_time": "2021-07-20T07:47:10.759Z"
      },
      {
        "duration": 5,
        "start_time": "2021-07-20T07:47:10.773Z"
      },
      {
        "duration": 8,
        "start_time": "2021-07-20T07:47:10.781Z"
      },
      {
        "duration": 14,
        "start_time": "2021-07-20T07:47:10.791Z"
      },
      {
        "duration": 57,
        "start_time": "2021-07-20T07:47:10.808Z"
      },
      {
        "duration": 11725,
        "start_time": "2021-07-20T07:47:10.869Z"
      },
      {
        "duration": 14,
        "start_time": "2021-07-20T07:47:22.596Z"
      },
      {
        "duration": 18,
        "start_time": "2021-07-20T07:47:22.612Z"
      },
      {
        "duration": 26,
        "start_time": "2021-07-20T07:47:22.633Z"
      },
      {
        "duration": 338,
        "start_time": "2021-07-20T07:47:22.662Z"
      },
      {
        "duration": 20,
        "start_time": "2021-07-20T07:47:23.003Z"
      },
      {
        "duration": 334,
        "start_time": "2021-07-20T07:47:23.025Z"
      },
      {
        "duration": 420,
        "start_time": "2021-07-20T07:47:23.361Z"
      },
      {
        "duration": 462,
        "start_time": "2021-07-20T07:47:23.785Z"
      },
      {
        "duration": 574,
        "start_time": "2021-07-20T07:47:24.249Z"
      },
      {
        "duration": 471,
        "start_time": "2021-07-20T07:47:24.826Z"
      },
      {
        "duration": 30,
        "start_time": "2021-07-20T07:47:25.300Z"
      },
      {
        "duration": 514,
        "start_time": "2021-07-20T07:47:25.334Z"
      },
      {
        "duration": 1878,
        "start_time": "2021-07-20T07:47:25.852Z"
      },
      {
        "duration": 24,
        "start_time": "2021-07-20T07:47:27.733Z"
      },
      {
        "duration": 1145,
        "start_time": "2021-07-20T07:47:27.760Z"
      },
      {
        "duration": 2095,
        "start_time": "2021-07-20T07:47:28.907Z"
      },
      {
        "duration": 11,
        "start_time": "2021-07-20T07:47:31.004Z"
      },
      {
        "duration": 17,
        "start_time": "2021-07-20T07:47:31.017Z"
      },
      {
        "duration": 31,
        "start_time": "2021-07-20T07:47:31.036Z"
      },
      {
        "duration": 15,
        "start_time": "2021-07-20T07:47:31.069Z"
      }
    ],
    "colab": {
      "name": "Statistical Data Analysis - telecom operator.ipynb",
      "provenance": [],
      "collapsed_sections": [],
      "include_colab_link": true
    },
    "kernelspec": {
      "display_name": "Python 3",
      "language": "python",
      "name": "python3"
    },
    "language_info": {
      "codemirror_mode": {
        "name": "ipython",
        "version": 3
      },
      "file_extension": ".py",
      "mimetype": "text/x-python",
      "name": "python",
      "nbconvert_exporter": "python",
      "pygments_lexer": "ipython3",
      "version": "3.7.8"
    },
    "toc": {
      "base_numbering": 1,
      "nav_menu": {},
      "number_sections": true,
      "sideBar": true,
      "skip_h1_title": true,
      "title_cell": "Table of Contents",
      "title_sidebar": "Contents",
      "toc_cell": false,
      "toc_position": {},
      "toc_section_display": true,
      "toc_window_display": false
    }
  },
  "cells": [
    {
      "cell_type": "markdown",
      "metadata": {
        "id": "view-in-github",
        "colab_type": "text"
      },
      "source": [
        "<a href=\"https://colab.research.google.com/github/karind7/Statistical_Data_Analysis-telecom_operator/blob/main/Statistical_Data_Analysis_telecom_operator.ipynb\" target=\"_parent\"><img src=\"https://colab.research.google.com/assets/colab-badge.svg\" alt=\"Open In Colab\"/></a>"
      ]
    },
    {
      "cell_type": "markdown",
      "metadata": {
        "id": "fFF0IUUaorCi"
      },
      "source": [
        "### <font color='orange'>General feedback</font>"
      ]
    },
    {
      "cell_type": "markdown",
      "metadata": {
        "id": "WPGInkViBMlE"
      },
      "source": [
        "# **Telecom operator Megaline user database**\n",
        "\n",
        "The data set we'll be using is the telecom operator Megaline.The company offers its clients two prepaid plans, Surf and Ultimate. The commercial department wants to know which of the plans brings in more revenue in order to adjust the advertising budget.\n",
        "\n",
        "*Note*: Megaline rounds seconds up to minutes, and megabytes to gigabytes. For calls, each individual call is rounded up: even if the call lasted just one second, it will be counted as one minute. For web traffic, individual web sessions are not rounded up. Instead, the total for the month is rounded up. If someone uses 1025 megabytes this month, they will be charged for 2 gigabytes.\n",
        "\n",
        "We are going to carry out a preliminary analysis of the plans based on a relatively small client selection(500 Megaline clients). we will learn who the clients are, where they're from, which plan they use, and the number of calls they made and text messages they sent in 2018 and analyze clients' behavior and determine which prepaid plan brings in more revenue."
      ]
    },
    {
      "cell_type": "markdown",
      "metadata": {
        "id": "QufYaJQ_BJtI"
      },
      "source": [
        "# **Step 1: studying the general information**\n"
      ]
    },
    {
      "cell_type": "code",
      "metadata": {
        "colab": {
          "base_uri": "https://localhost:8080/"
        },
        "id": "PPua2AVFAyzX",
        "outputId": "17deac77-81ef-4f5e-dd6a-69ec90592677"
      },
      "source": [
        "try:\n",
        "  from google.colab import drive\n",
        "  drive.mount('/content/drive')\n",
        "except:\n",
        "  pass"
      ],
      "execution_count": 2,
      "outputs": [
        {
          "output_type": "stream",
          "text": [
            "Mounted at /content/drive\n"
          ],
          "name": "stdout"
        }
      ]
    },
    {
      "cell_type": "code",
      "metadata": {
        "id": "C-j1FKhqBOaV"
      },
      "source": [
        "import csv\n",
        "import pandas as pd\n",
        "import matplotlib.pyplot as plt\n",
        "from scipy import stats as st\n",
        "import numpy as np\n",
        "import math\n",
        "import plotly.express as px"
      ],
      "execution_count": 3,
      "outputs": []
    },
    {
      "cell_type": "code",
      "metadata": {
        "id": "1OH0DtAYBRxZ"
      },
      "source": [
        "try:\n",
        "  data_calls = pd.read_csv(\"/content/drive/MyDrive/data science/megaline_calls.csv\", error_bad_lines=False)\n",
        "except:\n",
        "  data_calls = pd.read_csv(\"/datasets/megaline_calls.csv\")"
      ],
      "execution_count": 4,
      "outputs": []
    },
    {
      "cell_type": "code",
      "metadata": {
        "colab": {
          "base_uri": "https://localhost:8080/"
        },
        "id": "L8ZDqInBE_UW",
        "outputId": "5ffb28c8-31bf-4d37-bbae-7019d60a2985"
      },
      "source": [
        "data_calls.info()"
      ],
      "execution_count": 5,
      "outputs": [
        {
          "output_type": "stream",
          "text": [
            "<class 'pandas.core.frame.DataFrame'>\n",
            "RangeIndex: 137735 entries, 0 to 137734\n",
            "Data columns (total 4 columns):\n",
            " #   Column     Non-Null Count   Dtype  \n",
            "---  ------     --------------   -----  \n",
            " 0   id         137735 non-null  object \n",
            " 1   user_id    137735 non-null  int64  \n",
            " 2   call_date  137735 non-null  object \n",
            " 3   duration   137735 non-null  float64\n",
            "dtypes: float64(1), int64(1), object(2)\n",
            "memory usage: 4.2+ MB\n"
          ],
          "name": "stdout"
        }
      ]
    },
    {
      "cell_type": "markdown",
      "metadata": {
        "id": "zCORo4uXMi1q"
      },
      "source": [
        "we can see there are no missing values\n",
        "\n",
        "looking at the data types user id is an int but probably should be an object, call date should be datatime and duration should be rounded up and cast to int because of the company police"
      ]
    },
    {
      "cell_type": "code",
      "metadata": {
        "colab": {
          "base_uri": "https://localhost:8080/",
          "height": 297
        },
        "id": "JRJZS9PfFATs",
        "outputId": "9e077bc7-767e-4c4d-8466-f2ee881a8206"
      },
      "source": [
        "data_calls.describe()"
      ],
      "execution_count": 6,
      "outputs": [
        {
          "output_type": "execute_result",
          "data": {
            "text/html": [
              "<div>\n",
              "<style scoped>\n",
              "    .dataframe tbody tr th:only-of-type {\n",
              "        vertical-align: middle;\n",
              "    }\n",
              "\n",
              "    .dataframe tbody tr th {\n",
              "        vertical-align: top;\n",
              "    }\n",
              "\n",
              "    .dataframe thead th {\n",
              "        text-align: right;\n",
              "    }\n",
              "</style>\n",
              "<table border=\"1\" class=\"dataframe\">\n",
              "  <thead>\n",
              "    <tr style=\"text-align: right;\">\n",
              "      <th></th>\n",
              "      <th>user_id</th>\n",
              "      <th>duration</th>\n",
              "    </tr>\n",
              "  </thead>\n",
              "  <tbody>\n",
              "    <tr>\n",
              "      <th>count</th>\n",
              "      <td>137735.000000</td>\n",
              "      <td>137735.000000</td>\n",
              "    </tr>\n",
              "    <tr>\n",
              "      <th>mean</th>\n",
              "      <td>1247.658046</td>\n",
              "      <td>6.745927</td>\n",
              "    </tr>\n",
              "    <tr>\n",
              "      <th>std</th>\n",
              "      <td>139.416268</td>\n",
              "      <td>5.839241</td>\n",
              "    </tr>\n",
              "    <tr>\n",
              "      <th>min</th>\n",
              "      <td>1000.000000</td>\n",
              "      <td>0.000000</td>\n",
              "    </tr>\n",
              "    <tr>\n",
              "      <th>25%</th>\n",
              "      <td>1128.000000</td>\n",
              "      <td>1.290000</td>\n",
              "    </tr>\n",
              "    <tr>\n",
              "      <th>50%</th>\n",
              "      <td>1247.000000</td>\n",
              "      <td>5.980000</td>\n",
              "    </tr>\n",
              "    <tr>\n",
              "      <th>75%</th>\n",
              "      <td>1365.000000</td>\n",
              "      <td>10.690000</td>\n",
              "    </tr>\n",
              "    <tr>\n",
              "      <th>max</th>\n",
              "      <td>1499.000000</td>\n",
              "      <td>37.600000</td>\n",
              "    </tr>\n",
              "  </tbody>\n",
              "</table>\n",
              "</div>"
            ],
            "text/plain": [
              "             user_id       duration\n",
              "count  137735.000000  137735.000000\n",
              "mean     1247.658046       6.745927\n",
              "std       139.416268       5.839241\n",
              "min      1000.000000       0.000000\n",
              "25%      1128.000000       1.290000\n",
              "50%      1247.000000       5.980000\n",
              "75%      1365.000000      10.690000\n",
              "max      1499.000000      37.600000"
            ]
          },
          "metadata": {
            "tags": []
          },
          "execution_count": 6
        }
      ]
    },
    {
      "cell_type": "markdown",
      "metadata": {
        "id": "eDLXN76SNDqO"
      },
      "source": [
        "the minimum value in duration is zero, maybe it's unanswered calls.\n",
        "letts rename duration to call length"
      ]
    },
    {
      "cell_type": "code",
      "metadata": {
        "colab": {
          "base_uri": "https://localhost:8080/",
          "height": 359
        },
        "id": "Ll6q3drbFCCt",
        "outputId": "99a95478-06a3-4f41-f5b6-cdbd17cfc163"
      },
      "source": [
        "data_calls.head(10)"
      ],
      "execution_count": 7,
      "outputs": [
        {
          "output_type": "execute_result",
          "data": {
            "text/html": [
              "<div>\n",
              "<style scoped>\n",
              "    .dataframe tbody tr th:only-of-type {\n",
              "        vertical-align: middle;\n",
              "    }\n",
              "\n",
              "    .dataframe tbody tr th {\n",
              "        vertical-align: top;\n",
              "    }\n",
              "\n",
              "    .dataframe thead th {\n",
              "        text-align: right;\n",
              "    }\n",
              "</style>\n",
              "<table border=\"1\" class=\"dataframe\">\n",
              "  <thead>\n",
              "    <tr style=\"text-align: right;\">\n",
              "      <th></th>\n",
              "      <th>id</th>\n",
              "      <th>user_id</th>\n",
              "      <th>call_date</th>\n",
              "      <th>duration</th>\n",
              "    </tr>\n",
              "  </thead>\n",
              "  <tbody>\n",
              "    <tr>\n",
              "      <th>0</th>\n",
              "      <td>1000_93</td>\n",
              "      <td>1000</td>\n",
              "      <td>2018-12-27</td>\n",
              "      <td>8.52</td>\n",
              "    </tr>\n",
              "    <tr>\n",
              "      <th>1</th>\n",
              "      <td>1000_145</td>\n",
              "      <td>1000</td>\n",
              "      <td>2018-12-27</td>\n",
              "      <td>13.66</td>\n",
              "    </tr>\n",
              "    <tr>\n",
              "      <th>2</th>\n",
              "      <td>1000_247</td>\n",
              "      <td>1000</td>\n",
              "      <td>2018-12-27</td>\n",
              "      <td>14.48</td>\n",
              "    </tr>\n",
              "    <tr>\n",
              "      <th>3</th>\n",
              "      <td>1000_309</td>\n",
              "      <td>1000</td>\n",
              "      <td>2018-12-28</td>\n",
              "      <td>5.76</td>\n",
              "    </tr>\n",
              "    <tr>\n",
              "      <th>4</th>\n",
              "      <td>1000_380</td>\n",
              "      <td>1000</td>\n",
              "      <td>2018-12-30</td>\n",
              "      <td>4.22</td>\n",
              "    </tr>\n",
              "    <tr>\n",
              "      <th>5</th>\n",
              "      <td>1000_388</td>\n",
              "      <td>1000</td>\n",
              "      <td>2018-12-31</td>\n",
              "      <td>2.20</td>\n",
              "    </tr>\n",
              "    <tr>\n",
              "      <th>6</th>\n",
              "      <td>1000_510</td>\n",
              "      <td>1000</td>\n",
              "      <td>2018-12-27</td>\n",
              "      <td>5.75</td>\n",
              "    </tr>\n",
              "    <tr>\n",
              "      <th>7</th>\n",
              "      <td>1000_521</td>\n",
              "      <td>1000</td>\n",
              "      <td>2018-12-28</td>\n",
              "      <td>14.18</td>\n",
              "    </tr>\n",
              "    <tr>\n",
              "      <th>8</th>\n",
              "      <td>1000_530</td>\n",
              "      <td>1000</td>\n",
              "      <td>2018-12-28</td>\n",
              "      <td>5.77</td>\n",
              "    </tr>\n",
              "    <tr>\n",
              "      <th>9</th>\n",
              "      <td>1000_544</td>\n",
              "      <td>1000</td>\n",
              "      <td>2018-12-26</td>\n",
              "      <td>4.40</td>\n",
              "    </tr>\n",
              "  </tbody>\n",
              "</table>\n",
              "</div>"
            ],
            "text/plain": [
              "         id  user_id   call_date  duration\n",
              "0   1000_93     1000  2018-12-27      8.52\n",
              "1  1000_145     1000  2018-12-27     13.66\n",
              "2  1000_247     1000  2018-12-27     14.48\n",
              "3  1000_309     1000  2018-12-28      5.76\n",
              "4  1000_380     1000  2018-12-30      4.22\n",
              "5  1000_388     1000  2018-12-31      2.20\n",
              "6  1000_510     1000  2018-12-27      5.75\n",
              "7  1000_521     1000  2018-12-28     14.18\n",
              "8  1000_530     1000  2018-12-28      5.77\n",
              "9  1000_544     1000  2018-12-26      4.40"
            ]
          },
          "metadata": {
            "tags": []
          },
          "execution_count": 7
        }
      ]
    },
    {
      "cell_type": "markdown",
      "metadata": {
        "id": "iq3AyjVANUDZ"
      },
      "source": [
        "view of the table for better understanding of the data we are working with, we can see the duration column is not rounded up"
      ]
    },
    {
      "cell_type": "code",
      "metadata": {
        "id": "0KIrKqcEEkL7"
      },
      "source": [
        "try:\n",
        "  data_internet = pd.read_csv(\"/content/drive/MyDrive/data science/megaline_internet.csv\", error_bad_lines=False)\n",
        "except:\n",
        "  data_internet = pd.read_csv(\"/datasets/megaline_internet.csv\")"
      ],
      "execution_count": 8,
      "outputs": []
    },
    {
      "cell_type": "code",
      "metadata": {
        "colab": {
          "base_uri": "https://localhost:8080/"
        },
        "id": "HGXWp2FwFK0l",
        "outputId": "f795369f-e6fd-481d-ce91-ffc071c2f2ea"
      },
      "source": [
        "data_internet.info()"
      ],
      "execution_count": 9,
      "outputs": [
        {
          "output_type": "stream",
          "text": [
            "<class 'pandas.core.frame.DataFrame'>\n",
            "RangeIndex: 104825 entries, 0 to 104824\n",
            "Data columns (total 4 columns):\n",
            " #   Column        Non-Null Count   Dtype  \n",
            "---  ------        --------------   -----  \n",
            " 0   id            104825 non-null  object \n",
            " 1   user_id       104825 non-null  int64  \n",
            " 2   session_date  104825 non-null  object \n",
            " 3   mb_used       104825 non-null  float64\n",
            "dtypes: float64(1), int64(1), object(2)\n",
            "memory usage: 3.2+ MB\n"
          ],
          "name": "stdout"
        }
      ]
    },
    {
      "cell_type": "markdown",
      "metadata": {
        "id": "NhYObUrlNW59"
      },
      "source": [
        "we can see there are no missing values\n",
        " \n",
        "looking at the data types user id is an int but probably should be an object and session date should be datatime \n",
        "we should change mb to gb for futher use"
      ]
    },
    {
      "cell_type": "code",
      "metadata": {
        "colab": {
          "base_uri": "https://localhost:8080/",
          "height": 297
        },
        "id": "nZoLvgATFMcQ",
        "outputId": "82e46868-3e12-4f7f-d88f-6898af50929d"
      },
      "source": [
        "data_internet.describe()"
      ],
      "execution_count": 10,
      "outputs": [
        {
          "output_type": "execute_result",
          "data": {
            "text/html": [
              "<div>\n",
              "<style scoped>\n",
              "    .dataframe tbody tr th:only-of-type {\n",
              "        vertical-align: middle;\n",
              "    }\n",
              "\n",
              "    .dataframe tbody tr th {\n",
              "        vertical-align: top;\n",
              "    }\n",
              "\n",
              "    .dataframe thead th {\n",
              "        text-align: right;\n",
              "    }\n",
              "</style>\n",
              "<table border=\"1\" class=\"dataframe\">\n",
              "  <thead>\n",
              "    <tr style=\"text-align: right;\">\n",
              "      <th></th>\n",
              "      <th>user_id</th>\n",
              "      <th>mb_used</th>\n",
              "    </tr>\n",
              "  </thead>\n",
              "  <tbody>\n",
              "    <tr>\n",
              "      <th>count</th>\n",
              "      <td>104825.000000</td>\n",
              "      <td>104825.000000</td>\n",
              "    </tr>\n",
              "    <tr>\n",
              "      <th>mean</th>\n",
              "      <td>1242.496361</td>\n",
              "      <td>366.713701</td>\n",
              "    </tr>\n",
              "    <tr>\n",
              "      <th>std</th>\n",
              "      <td>142.053913</td>\n",
              "      <td>277.170542</td>\n",
              "    </tr>\n",
              "    <tr>\n",
              "      <th>min</th>\n",
              "      <td>1000.000000</td>\n",
              "      <td>0.000000</td>\n",
              "    </tr>\n",
              "    <tr>\n",
              "      <th>25%</th>\n",
              "      <td>1122.000000</td>\n",
              "      <td>136.080000</td>\n",
              "    </tr>\n",
              "    <tr>\n",
              "      <th>50%</th>\n",
              "      <td>1236.000000</td>\n",
              "      <td>343.980000</td>\n",
              "    </tr>\n",
              "    <tr>\n",
              "      <th>75%</th>\n",
              "      <td>1367.000000</td>\n",
              "      <td>554.610000</td>\n",
              "    </tr>\n",
              "    <tr>\n",
              "      <th>max</th>\n",
              "      <td>1499.000000</td>\n",
              "      <td>1693.470000</td>\n",
              "    </tr>\n",
              "  </tbody>\n",
              "</table>\n",
              "</div>"
            ],
            "text/plain": [
              "             user_id        mb_used\n",
              "count  104825.000000  104825.000000\n",
              "mean     1242.496361     366.713701\n",
              "std       142.053913     277.170542\n",
              "min      1000.000000       0.000000\n",
              "25%      1122.000000     136.080000\n",
              "50%      1236.000000     343.980000\n",
              "75%      1367.000000     554.610000\n",
              "max      1499.000000    1693.470000"
            ]
          },
          "metadata": {
            "tags": []
          },
          "execution_count": 10
        }
      ]
    },
    {
      "cell_type": "markdown",
      "metadata": {
        "id": "m5dtCYEjV490"
      },
      "source": [
        "letts rename mb_used to gb_used after we convert"
      ]
    },
    {
      "cell_type": "code",
      "metadata": {
        "colab": {
          "base_uri": "https://localhost:8080/",
          "height": 359
        },
        "id": "rNBk11GsFOS0",
        "outputId": "3331650e-2a4c-4659-f7f3-3184c633ccc2"
      },
      "source": [
        "data_internet.head(10)"
      ],
      "execution_count": 11,
      "outputs": [
        {
          "output_type": "execute_result",
          "data": {
            "text/html": [
              "<div>\n",
              "<style scoped>\n",
              "    .dataframe tbody tr th:only-of-type {\n",
              "        vertical-align: middle;\n",
              "    }\n",
              "\n",
              "    .dataframe tbody tr th {\n",
              "        vertical-align: top;\n",
              "    }\n",
              "\n",
              "    .dataframe thead th {\n",
              "        text-align: right;\n",
              "    }\n",
              "</style>\n",
              "<table border=\"1\" class=\"dataframe\">\n",
              "  <thead>\n",
              "    <tr style=\"text-align: right;\">\n",
              "      <th></th>\n",
              "      <th>id</th>\n",
              "      <th>user_id</th>\n",
              "      <th>session_date</th>\n",
              "      <th>mb_used</th>\n",
              "    </tr>\n",
              "  </thead>\n",
              "  <tbody>\n",
              "    <tr>\n",
              "      <th>0</th>\n",
              "      <td>1000_13</td>\n",
              "      <td>1000</td>\n",
              "      <td>2018-12-29</td>\n",
              "      <td>89.86</td>\n",
              "    </tr>\n",
              "    <tr>\n",
              "      <th>1</th>\n",
              "      <td>1000_204</td>\n",
              "      <td>1000</td>\n",
              "      <td>2018-12-31</td>\n",
              "      <td>0.00</td>\n",
              "    </tr>\n",
              "    <tr>\n",
              "      <th>2</th>\n",
              "      <td>1000_379</td>\n",
              "      <td>1000</td>\n",
              "      <td>2018-12-28</td>\n",
              "      <td>660.40</td>\n",
              "    </tr>\n",
              "    <tr>\n",
              "      <th>3</th>\n",
              "      <td>1000_413</td>\n",
              "      <td>1000</td>\n",
              "      <td>2018-12-26</td>\n",
              "      <td>270.99</td>\n",
              "    </tr>\n",
              "    <tr>\n",
              "      <th>4</th>\n",
              "      <td>1000_442</td>\n",
              "      <td>1000</td>\n",
              "      <td>2018-12-27</td>\n",
              "      <td>880.22</td>\n",
              "    </tr>\n",
              "    <tr>\n",
              "      <th>5</th>\n",
              "      <td>1001_0</td>\n",
              "      <td>1001</td>\n",
              "      <td>2018-08-24</td>\n",
              "      <td>284.68</td>\n",
              "    </tr>\n",
              "    <tr>\n",
              "      <th>6</th>\n",
              "      <td>1001_3</td>\n",
              "      <td>1001</td>\n",
              "      <td>2018-12-09</td>\n",
              "      <td>656.04</td>\n",
              "    </tr>\n",
              "    <tr>\n",
              "      <th>7</th>\n",
              "      <td>1001_4</td>\n",
              "      <td>1001</td>\n",
              "      <td>2018-11-04</td>\n",
              "      <td>16.97</td>\n",
              "    </tr>\n",
              "    <tr>\n",
              "      <th>8</th>\n",
              "      <td>1001_10</td>\n",
              "      <td>1001</td>\n",
              "      <td>2018-11-27</td>\n",
              "      <td>135.18</td>\n",
              "    </tr>\n",
              "    <tr>\n",
              "      <th>9</th>\n",
              "      <td>1001_15</td>\n",
              "      <td>1001</td>\n",
              "      <td>2018-12-13</td>\n",
              "      <td>761.92</td>\n",
              "    </tr>\n",
              "  </tbody>\n",
              "</table>\n",
              "</div>"
            ],
            "text/plain": [
              "         id  user_id session_date  mb_used\n",
              "0   1000_13     1000   2018-12-29    89.86\n",
              "1  1000_204     1000   2018-12-31     0.00\n",
              "2  1000_379     1000   2018-12-28   660.40\n",
              "3  1000_413     1000   2018-12-26   270.99\n",
              "4  1000_442     1000   2018-12-27   880.22\n",
              "5    1001_0     1001   2018-08-24   284.68\n",
              "6    1001_3     1001   2018-12-09   656.04\n",
              "7    1001_4     1001   2018-11-04    16.97\n",
              "8   1001_10     1001   2018-11-27   135.18\n",
              "9   1001_15     1001   2018-12-13   761.92"
            ]
          },
          "metadata": {
            "tags": []
          },
          "execution_count": 11
        }
      ]
    },
    {
      "cell_type": "markdown",
      "metadata": {
        "id": "1EsNGEbgNm89"
      },
      "source": [
        "view of the table for better understanding of the data we are working with"
      ]
    },
    {
      "cell_type": "code",
      "metadata": {
        "id": "YadqXoYhEoQY"
      },
      "source": [
        "try:\n",
        "  data_messages = pd.read_csv(\"/content/drive/MyDrive/data science/megaline_messages.csv\", error_bad_lines=False)\n",
        "except:\n",
        "  data_messages = pd.read_csv(\"/datasets/megaline_messages.csv\")"
      ],
      "execution_count": 12,
      "outputs": []
    },
    {
      "cell_type": "code",
      "metadata": {
        "colab": {
          "base_uri": "https://localhost:8080/"
        },
        "id": "FhFbpAKiFYWe",
        "outputId": "bb3ad26e-d199-4d41-d9f3-8d7b21301a5c"
      },
      "source": [
        "data_messages.info()"
      ],
      "execution_count": 13,
      "outputs": [
        {
          "output_type": "stream",
          "text": [
            "<class 'pandas.core.frame.DataFrame'>\n",
            "RangeIndex: 76051 entries, 0 to 76050\n",
            "Data columns (total 3 columns):\n",
            " #   Column        Non-Null Count  Dtype \n",
            "---  ------        --------------  ----- \n",
            " 0   id            76051 non-null  object\n",
            " 1   user_id       76051 non-null  int64 \n",
            " 2   message_date  76051 non-null  object\n",
            "dtypes: int64(1), object(2)\n",
            "memory usage: 1.7+ MB\n"
          ],
          "name": "stdout"
        }
      ]
    },
    {
      "cell_type": "markdown",
      "metadata": {
        "id": "YLRgMifgNwD9"
      },
      "source": [
        "we can see there are no missing values\n",
        " \n",
        "looking at the data types user id is an int but probably should be an object and message date should be datatime "
      ]
    },
    {
      "cell_type": "code",
      "metadata": {
        "colab": {
          "base_uri": "https://localhost:8080/",
          "height": 297
        },
        "id": "FfPA2_NVFZKY",
        "outputId": "bc734418-be16-4b6d-9e8d-a0ed6b4c5349"
      },
      "source": [
        "data_messages.describe()"
      ],
      "execution_count": 14,
      "outputs": [
        {
          "output_type": "execute_result",
          "data": {
            "text/html": [
              "<div>\n",
              "<style scoped>\n",
              "    .dataframe tbody tr th:only-of-type {\n",
              "        vertical-align: middle;\n",
              "    }\n",
              "\n",
              "    .dataframe tbody tr th {\n",
              "        vertical-align: top;\n",
              "    }\n",
              "\n",
              "    .dataframe thead th {\n",
              "        text-align: right;\n",
              "    }\n",
              "</style>\n",
              "<table border=\"1\" class=\"dataframe\">\n",
              "  <thead>\n",
              "    <tr style=\"text-align: right;\">\n",
              "      <th></th>\n",
              "      <th>user_id</th>\n",
              "    </tr>\n",
              "  </thead>\n",
              "  <tbody>\n",
              "    <tr>\n",
              "      <th>count</th>\n",
              "      <td>76051.000000</td>\n",
              "    </tr>\n",
              "    <tr>\n",
              "      <th>mean</th>\n",
              "      <td>1245.972768</td>\n",
              "    </tr>\n",
              "    <tr>\n",
              "      <th>std</th>\n",
              "      <td>139.843635</td>\n",
              "    </tr>\n",
              "    <tr>\n",
              "      <th>min</th>\n",
              "      <td>1000.000000</td>\n",
              "    </tr>\n",
              "    <tr>\n",
              "      <th>25%</th>\n",
              "      <td>1123.000000</td>\n",
              "    </tr>\n",
              "    <tr>\n",
              "      <th>50%</th>\n",
              "      <td>1251.000000</td>\n",
              "    </tr>\n",
              "    <tr>\n",
              "      <th>75%</th>\n",
              "      <td>1362.000000</td>\n",
              "    </tr>\n",
              "    <tr>\n",
              "      <th>max</th>\n",
              "      <td>1497.000000</td>\n",
              "    </tr>\n",
              "  </tbody>\n",
              "</table>\n",
              "</div>"
            ],
            "text/plain": [
              "            user_id\n",
              "count  76051.000000\n",
              "mean    1245.972768\n",
              "std      139.843635\n",
              "min     1000.000000\n",
              "25%     1123.000000\n",
              "50%     1251.000000\n",
              "75%     1362.000000\n",
              "max     1497.000000"
            ]
          },
          "metadata": {
            "tags": []
          },
          "execution_count": 14
        }
      ]
    },
    {
      "cell_type": "code",
      "metadata": {
        "colab": {
          "base_uri": "https://localhost:8080/",
          "height": 359
        },
        "id": "uEvguPRUFZ-M",
        "outputId": "c678be51-6f61-453e-d201-1e397296554e"
      },
      "source": [
        "data_messages.head(10)"
      ],
      "execution_count": 15,
      "outputs": [
        {
          "output_type": "execute_result",
          "data": {
            "text/html": [
              "<div>\n",
              "<style scoped>\n",
              "    .dataframe tbody tr th:only-of-type {\n",
              "        vertical-align: middle;\n",
              "    }\n",
              "\n",
              "    .dataframe tbody tr th {\n",
              "        vertical-align: top;\n",
              "    }\n",
              "\n",
              "    .dataframe thead th {\n",
              "        text-align: right;\n",
              "    }\n",
              "</style>\n",
              "<table border=\"1\" class=\"dataframe\">\n",
              "  <thead>\n",
              "    <tr style=\"text-align: right;\">\n",
              "      <th></th>\n",
              "      <th>id</th>\n",
              "      <th>user_id</th>\n",
              "      <th>message_date</th>\n",
              "    </tr>\n",
              "  </thead>\n",
              "  <tbody>\n",
              "    <tr>\n",
              "      <th>0</th>\n",
              "      <td>1000_125</td>\n",
              "      <td>1000</td>\n",
              "      <td>2018-12-27</td>\n",
              "    </tr>\n",
              "    <tr>\n",
              "      <th>1</th>\n",
              "      <td>1000_160</td>\n",
              "      <td>1000</td>\n",
              "      <td>2018-12-31</td>\n",
              "    </tr>\n",
              "    <tr>\n",
              "      <th>2</th>\n",
              "      <td>1000_223</td>\n",
              "      <td>1000</td>\n",
              "      <td>2018-12-31</td>\n",
              "    </tr>\n",
              "    <tr>\n",
              "      <th>3</th>\n",
              "      <td>1000_251</td>\n",
              "      <td>1000</td>\n",
              "      <td>2018-12-27</td>\n",
              "    </tr>\n",
              "    <tr>\n",
              "      <th>4</th>\n",
              "      <td>1000_255</td>\n",
              "      <td>1000</td>\n",
              "      <td>2018-12-26</td>\n",
              "    </tr>\n",
              "    <tr>\n",
              "      <th>5</th>\n",
              "      <td>1000_346</td>\n",
              "      <td>1000</td>\n",
              "      <td>2018-12-29</td>\n",
              "    </tr>\n",
              "    <tr>\n",
              "      <th>6</th>\n",
              "      <td>1000_386</td>\n",
              "      <td>1000</td>\n",
              "      <td>2018-12-30</td>\n",
              "    </tr>\n",
              "    <tr>\n",
              "      <th>7</th>\n",
              "      <td>1000_413</td>\n",
              "      <td>1000</td>\n",
              "      <td>2018-12-31</td>\n",
              "    </tr>\n",
              "    <tr>\n",
              "      <th>8</th>\n",
              "      <td>1000_502</td>\n",
              "      <td>1000</td>\n",
              "      <td>2018-12-27</td>\n",
              "    </tr>\n",
              "    <tr>\n",
              "      <th>9</th>\n",
              "      <td>1000_525</td>\n",
              "      <td>1000</td>\n",
              "      <td>2018-12-28</td>\n",
              "    </tr>\n",
              "  </tbody>\n",
              "</table>\n",
              "</div>"
            ],
            "text/plain": [
              "         id  user_id message_date\n",
              "0  1000_125     1000   2018-12-27\n",
              "1  1000_160     1000   2018-12-31\n",
              "2  1000_223     1000   2018-12-31\n",
              "3  1000_251     1000   2018-12-27\n",
              "4  1000_255     1000   2018-12-26\n",
              "5  1000_346     1000   2018-12-29\n",
              "6  1000_386     1000   2018-12-30\n",
              "7  1000_413     1000   2018-12-31\n",
              "8  1000_502     1000   2018-12-27\n",
              "9  1000_525     1000   2018-12-28"
            ]
          },
          "metadata": {
            "tags": []
          },
          "execution_count": 15
        }
      ]
    },
    {
      "cell_type": "markdown",
      "metadata": {
        "id": "K_jHyRgEN2mB"
      },
      "source": [
        "view of the table for better understanding of the data we are working with"
      ]
    },
    {
      "cell_type": "code",
      "metadata": {
        "id": "aaPsJ94kEqyZ"
      },
      "source": [
        "try:\n",
        "  data_plans = pd.read_csv(\"/content/drive/MyDrive/data science/megaline_plans.csv\", error_bad_lines=False)\n",
        "except:\n",
        "  data_plans = pd.read_csv(\"/datasets/megaline_plans.csv\")"
      ],
      "execution_count": 16,
      "outputs": []
    },
    {
      "cell_type": "code",
      "metadata": {
        "colab": {
          "base_uri": "https://localhost:8080/"
        },
        "id": "cnkmV6T1FgQI",
        "outputId": "30667d28-ba59-4a76-c95d-8ad0f0d111db"
      },
      "source": [
        "data_plans.info()"
      ],
      "execution_count": 17,
      "outputs": [
        {
          "output_type": "stream",
          "text": [
            "<class 'pandas.core.frame.DataFrame'>\n",
            "RangeIndex: 2 entries, 0 to 1\n",
            "Data columns (total 8 columns):\n",
            " #   Column                 Non-Null Count  Dtype  \n",
            "---  ------                 --------------  -----  \n",
            " 0   messages_included      2 non-null      int64  \n",
            " 1   mb_per_month_included  2 non-null      int64  \n",
            " 2   minutes_included       2 non-null      int64  \n",
            " 3   usd_monthly_pay        2 non-null      int64  \n",
            " 4   usd_per_gb             2 non-null      int64  \n",
            " 5   usd_per_message        2 non-null      float64\n",
            " 6   usd_per_minute         2 non-null      float64\n",
            " 7   plan_name              2 non-null      object \n",
            "dtypes: float64(2), int64(5), object(1)\n",
            "memory usage: 256.0+ bytes\n"
          ],
          "name": "stdout"
        }
      ]
    },
    {
      "cell_type": "markdown",
      "metadata": {
        "id": "Pem1bGFKN_D9"
      },
      "source": [
        "we can see there are no missing values \n",
        "looking at the data types everything looks good"
      ]
    },
    {
      "cell_type": "code",
      "metadata": {
        "colab": {
          "base_uri": "https://localhost:8080/",
          "height": 297
        },
        "id": "5REk1xBAFgJs",
        "outputId": "4adadd04-eef5-4d80-e897-7e420ce1df9e"
      },
      "source": [
        "data_plans.describe()"
      ],
      "execution_count": 18,
      "outputs": [
        {
          "output_type": "execute_result",
          "data": {
            "text/html": [
              "<div>\n",
              "<style scoped>\n",
              "    .dataframe tbody tr th:only-of-type {\n",
              "        vertical-align: middle;\n",
              "    }\n",
              "\n",
              "    .dataframe tbody tr th {\n",
              "        vertical-align: top;\n",
              "    }\n",
              "\n",
              "    .dataframe thead th {\n",
              "        text-align: right;\n",
              "    }\n",
              "</style>\n",
              "<table border=\"1\" class=\"dataframe\">\n",
              "  <thead>\n",
              "    <tr style=\"text-align: right;\">\n",
              "      <th></th>\n",
              "      <th>messages_included</th>\n",
              "      <th>mb_per_month_included</th>\n",
              "      <th>minutes_included</th>\n",
              "      <th>usd_monthly_pay</th>\n",
              "      <th>usd_per_gb</th>\n",
              "      <th>usd_per_message</th>\n",
              "      <th>usd_per_minute</th>\n",
              "    </tr>\n",
              "  </thead>\n",
              "  <tbody>\n",
              "    <tr>\n",
              "      <th>count</th>\n",
              "      <td>2.000000</td>\n",
              "      <td>2.000000</td>\n",
              "      <td>2.000000</td>\n",
              "      <td>2.000000</td>\n",
              "      <td>2.00000</td>\n",
              "      <td>2.000000</td>\n",
              "      <td>2.000000</td>\n",
              "    </tr>\n",
              "    <tr>\n",
              "      <th>mean</th>\n",
              "      <td>525.000000</td>\n",
              "      <td>23040.000000</td>\n",
              "      <td>1750.000000</td>\n",
              "      <td>45.000000</td>\n",
              "      <td>8.50000</td>\n",
              "      <td>0.020000</td>\n",
              "      <td>0.020000</td>\n",
              "    </tr>\n",
              "    <tr>\n",
              "      <th>std</th>\n",
              "      <td>671.751442</td>\n",
              "      <td>10861.160159</td>\n",
              "      <td>1767.766953</td>\n",
              "      <td>35.355339</td>\n",
              "      <td>2.12132</td>\n",
              "      <td>0.014142</td>\n",
              "      <td>0.014142</td>\n",
              "    </tr>\n",
              "    <tr>\n",
              "      <th>min</th>\n",
              "      <td>50.000000</td>\n",
              "      <td>15360.000000</td>\n",
              "      <td>500.000000</td>\n",
              "      <td>20.000000</td>\n",
              "      <td>7.00000</td>\n",
              "      <td>0.010000</td>\n",
              "      <td>0.010000</td>\n",
              "    </tr>\n",
              "    <tr>\n",
              "      <th>25%</th>\n",
              "      <td>287.500000</td>\n",
              "      <td>19200.000000</td>\n",
              "      <td>1125.000000</td>\n",
              "      <td>32.500000</td>\n",
              "      <td>7.75000</td>\n",
              "      <td>0.015000</td>\n",
              "      <td>0.015000</td>\n",
              "    </tr>\n",
              "    <tr>\n",
              "      <th>50%</th>\n",
              "      <td>525.000000</td>\n",
              "      <td>23040.000000</td>\n",
              "      <td>1750.000000</td>\n",
              "      <td>45.000000</td>\n",
              "      <td>8.50000</td>\n",
              "      <td>0.020000</td>\n",
              "      <td>0.020000</td>\n",
              "    </tr>\n",
              "    <tr>\n",
              "      <th>75%</th>\n",
              "      <td>762.500000</td>\n",
              "      <td>26880.000000</td>\n",
              "      <td>2375.000000</td>\n",
              "      <td>57.500000</td>\n",
              "      <td>9.25000</td>\n",
              "      <td>0.025000</td>\n",
              "      <td>0.025000</td>\n",
              "    </tr>\n",
              "    <tr>\n",
              "      <th>max</th>\n",
              "      <td>1000.000000</td>\n",
              "      <td>30720.000000</td>\n",
              "      <td>3000.000000</td>\n",
              "      <td>70.000000</td>\n",
              "      <td>10.00000</td>\n",
              "      <td>0.030000</td>\n",
              "      <td>0.030000</td>\n",
              "    </tr>\n",
              "  </tbody>\n",
              "</table>\n",
              "</div>"
            ],
            "text/plain": [
              "       messages_included  ...  usd_per_minute\n",
              "count           2.000000  ...        2.000000\n",
              "mean          525.000000  ...        0.020000\n",
              "std           671.751442  ...        0.014142\n",
              "min            50.000000  ...        0.010000\n",
              "25%           287.500000  ...        0.015000\n",
              "50%           525.000000  ...        0.020000\n",
              "75%           762.500000  ...        0.025000\n",
              "max          1000.000000  ...        0.030000\n",
              "\n",
              "[8 rows x 7 columns]"
            ]
          },
          "metadata": {
            "tags": []
          },
          "execution_count": 18
        }
      ]
    },
    {
      "cell_type": "code",
      "metadata": {
        "colab": {
          "base_uri": "https://localhost:8080/",
          "height": 111
        },
        "id": "KPWHp5E2Ff2x",
        "outputId": "2c91d5f9-1ff9-49ce-d3c9-79a302c9c253"
      },
      "source": [
        "data_plans.head(10)"
      ],
      "execution_count": 19,
      "outputs": [
        {
          "output_type": "execute_result",
          "data": {
            "text/html": [
              "<div>\n",
              "<style scoped>\n",
              "    .dataframe tbody tr th:only-of-type {\n",
              "        vertical-align: middle;\n",
              "    }\n",
              "\n",
              "    .dataframe tbody tr th {\n",
              "        vertical-align: top;\n",
              "    }\n",
              "\n",
              "    .dataframe thead th {\n",
              "        text-align: right;\n",
              "    }\n",
              "</style>\n",
              "<table border=\"1\" class=\"dataframe\">\n",
              "  <thead>\n",
              "    <tr style=\"text-align: right;\">\n",
              "      <th></th>\n",
              "      <th>messages_included</th>\n",
              "      <th>mb_per_month_included</th>\n",
              "      <th>minutes_included</th>\n",
              "      <th>usd_monthly_pay</th>\n",
              "      <th>usd_per_gb</th>\n",
              "      <th>usd_per_message</th>\n",
              "      <th>usd_per_minute</th>\n",
              "      <th>plan_name</th>\n",
              "    </tr>\n",
              "  </thead>\n",
              "  <tbody>\n",
              "    <tr>\n",
              "      <th>0</th>\n",
              "      <td>50</td>\n",
              "      <td>15360</td>\n",
              "      <td>500</td>\n",
              "      <td>20</td>\n",
              "      <td>10</td>\n",
              "      <td>0.03</td>\n",
              "      <td>0.03</td>\n",
              "      <td>surf</td>\n",
              "    </tr>\n",
              "    <tr>\n",
              "      <th>1</th>\n",
              "      <td>1000</td>\n",
              "      <td>30720</td>\n",
              "      <td>3000</td>\n",
              "      <td>70</td>\n",
              "      <td>7</td>\n",
              "      <td>0.01</td>\n",
              "      <td>0.01</td>\n",
              "      <td>ultimate</td>\n",
              "    </tr>\n",
              "  </tbody>\n",
              "</table>\n",
              "</div>"
            ],
            "text/plain": [
              "   messages_included  mb_per_month_included  ...  usd_per_minute  plan_name\n",
              "0                 50                  15360  ...            0.03       surf\n",
              "1               1000                  30720  ...            0.01   ultimate\n",
              "\n",
              "[2 rows x 8 columns]"
            ]
          },
          "metadata": {
            "tags": []
          },
          "execution_count": 19
        }
      ]
    },
    {
      "cell_type": "markdown",
      "metadata": {
        "id": "WHKfPZvBN7qx"
      },
      "source": [
        "view of the table for better understanding of the data we are working with, this data is the descripshen of the two prepaid plans the company offers"
      ]
    },
    {
      "cell_type": "code",
      "metadata": {
        "id": "-XWceSMMEs5F"
      },
      "source": [
        "try:\n",
        "  data_users = pd.read_csv(\"/content/drive/MyDrive/data science/megaline_users.csv\", error_bad_lines=False)\n",
        "except:\n",
        "  data_users = pd.read_csv(\"/datasets/megaline_users.csv\")"
      ],
      "execution_count": 20,
      "outputs": []
    },
    {
      "cell_type": "code",
      "metadata": {
        "colab": {
          "base_uri": "https://localhost:8080/"
        },
        "id": "jh_G-3dgBVz5",
        "outputId": "8c78bb01-3135-41c2-ae09-1e5ad1101654"
      },
      "source": [
        "data_users.info()"
      ],
      "execution_count": 21,
      "outputs": [
        {
          "output_type": "stream",
          "text": [
            "<class 'pandas.core.frame.DataFrame'>\n",
            "RangeIndex: 500 entries, 0 to 499\n",
            "Data columns (total 8 columns):\n",
            " #   Column      Non-Null Count  Dtype \n",
            "---  ------      --------------  ----- \n",
            " 0   user_id     500 non-null    int64 \n",
            " 1   first_name  500 non-null    object\n",
            " 2   last_name   500 non-null    object\n",
            " 3   age         500 non-null    int64 \n",
            " 4   city        500 non-null    object\n",
            " 5   reg_date    500 non-null    object\n",
            " 6   plan        500 non-null    object\n",
            " 7   churn_date  34 non-null     object\n",
            "dtypes: int64(2), object(6)\n",
            "memory usage: 31.4+ KB\n"
          ],
          "name": "stdout"
        }
      ]
    },
    {
      "cell_type": "markdown",
      "metadata": {
        "id": "TwD7Sw2uOQw9"
      },
      "source": [
        "we can see there are one column with missing values, churn date but in the data description is the date the user stopped using the service so missing values is if the user is still using the service\n",
        " \n",
        "looking at the data types user id is an int but probably should be an object and churn date should be datatime "
      ]
    },
    {
      "cell_type": "code",
      "metadata": {
        "colab": {
          "base_uri": "https://localhost:8080/",
          "height": 297
        },
        "id": "DpsUnzxTBWKd",
        "outputId": "cf0e731a-0061-42b1-9128-38eefd385232"
      },
      "source": [
        "data_users.describe()"
      ],
      "execution_count": 22,
      "outputs": [
        {
          "output_type": "execute_result",
          "data": {
            "text/html": [
              "<div>\n",
              "<style scoped>\n",
              "    .dataframe tbody tr th:only-of-type {\n",
              "        vertical-align: middle;\n",
              "    }\n",
              "\n",
              "    .dataframe tbody tr th {\n",
              "        vertical-align: top;\n",
              "    }\n",
              "\n",
              "    .dataframe thead th {\n",
              "        text-align: right;\n",
              "    }\n",
              "</style>\n",
              "<table border=\"1\" class=\"dataframe\">\n",
              "  <thead>\n",
              "    <tr style=\"text-align: right;\">\n",
              "      <th></th>\n",
              "      <th>user_id</th>\n",
              "      <th>age</th>\n",
              "    </tr>\n",
              "  </thead>\n",
              "  <tbody>\n",
              "    <tr>\n",
              "      <th>count</th>\n",
              "      <td>500.000000</td>\n",
              "      <td>500.000000</td>\n",
              "    </tr>\n",
              "    <tr>\n",
              "      <th>mean</th>\n",
              "      <td>1249.500000</td>\n",
              "      <td>45.486000</td>\n",
              "    </tr>\n",
              "    <tr>\n",
              "      <th>std</th>\n",
              "      <td>144.481833</td>\n",
              "      <td>16.972269</td>\n",
              "    </tr>\n",
              "    <tr>\n",
              "      <th>min</th>\n",
              "      <td>1000.000000</td>\n",
              "      <td>18.000000</td>\n",
              "    </tr>\n",
              "    <tr>\n",
              "      <th>25%</th>\n",
              "      <td>1124.750000</td>\n",
              "      <td>30.000000</td>\n",
              "    </tr>\n",
              "    <tr>\n",
              "      <th>50%</th>\n",
              "      <td>1249.500000</td>\n",
              "      <td>46.000000</td>\n",
              "    </tr>\n",
              "    <tr>\n",
              "      <th>75%</th>\n",
              "      <td>1374.250000</td>\n",
              "      <td>61.000000</td>\n",
              "    </tr>\n",
              "    <tr>\n",
              "      <th>max</th>\n",
              "      <td>1499.000000</td>\n",
              "      <td>75.000000</td>\n",
              "    </tr>\n",
              "  </tbody>\n",
              "</table>\n",
              "</div>"
            ],
            "text/plain": [
              "           user_id         age\n",
              "count   500.000000  500.000000\n",
              "mean   1249.500000   45.486000\n",
              "std     144.481833   16.972269\n",
              "min    1000.000000   18.000000\n",
              "25%    1124.750000   30.000000\n",
              "50%    1249.500000   46.000000\n",
              "75%    1374.250000   61.000000\n",
              "max    1499.000000   75.000000"
            ]
          },
          "metadata": {
            "tags": []
          },
          "execution_count": 22
        }
      ]
    },
    {
      "cell_type": "code",
      "metadata": {
        "colab": {
          "base_uri": "https://localhost:8080/",
          "height": 359
        },
        "id": "DeJVFAUZBYLn",
        "outputId": "6d7c6bd4-0211-4484-973f-5145325505e8"
      },
      "source": [
        "data_users.head(10)"
      ],
      "execution_count": 23,
      "outputs": [
        {
          "output_type": "execute_result",
          "data": {
            "text/html": [
              "<div>\n",
              "<style scoped>\n",
              "    .dataframe tbody tr th:only-of-type {\n",
              "        vertical-align: middle;\n",
              "    }\n",
              "\n",
              "    .dataframe tbody tr th {\n",
              "        vertical-align: top;\n",
              "    }\n",
              "\n",
              "    .dataframe thead th {\n",
              "        text-align: right;\n",
              "    }\n",
              "</style>\n",
              "<table border=\"1\" class=\"dataframe\">\n",
              "  <thead>\n",
              "    <tr style=\"text-align: right;\">\n",
              "      <th></th>\n",
              "      <th>user_id</th>\n",
              "      <th>first_name</th>\n",
              "      <th>last_name</th>\n",
              "      <th>age</th>\n",
              "      <th>city</th>\n",
              "      <th>reg_date</th>\n",
              "      <th>plan</th>\n",
              "      <th>churn_date</th>\n",
              "    </tr>\n",
              "  </thead>\n",
              "  <tbody>\n",
              "    <tr>\n",
              "      <th>0</th>\n",
              "      <td>1000</td>\n",
              "      <td>Anamaria</td>\n",
              "      <td>Bauer</td>\n",
              "      <td>45</td>\n",
              "      <td>Atlanta-Sandy Springs-Roswell, GA MSA</td>\n",
              "      <td>2018-12-24</td>\n",
              "      <td>ultimate</td>\n",
              "      <td>NaN</td>\n",
              "    </tr>\n",
              "    <tr>\n",
              "      <th>1</th>\n",
              "      <td>1001</td>\n",
              "      <td>Mickey</td>\n",
              "      <td>Wilkerson</td>\n",
              "      <td>28</td>\n",
              "      <td>Seattle-Tacoma-Bellevue, WA MSA</td>\n",
              "      <td>2018-08-13</td>\n",
              "      <td>surf</td>\n",
              "      <td>NaN</td>\n",
              "    </tr>\n",
              "    <tr>\n",
              "      <th>2</th>\n",
              "      <td>1002</td>\n",
              "      <td>Carlee</td>\n",
              "      <td>Hoffman</td>\n",
              "      <td>36</td>\n",
              "      <td>Las Vegas-Henderson-Paradise, NV MSA</td>\n",
              "      <td>2018-10-21</td>\n",
              "      <td>surf</td>\n",
              "      <td>NaN</td>\n",
              "    </tr>\n",
              "    <tr>\n",
              "      <th>3</th>\n",
              "      <td>1003</td>\n",
              "      <td>Reynaldo</td>\n",
              "      <td>Jenkins</td>\n",
              "      <td>52</td>\n",
              "      <td>Tulsa, OK MSA</td>\n",
              "      <td>2018-01-28</td>\n",
              "      <td>surf</td>\n",
              "      <td>NaN</td>\n",
              "    </tr>\n",
              "    <tr>\n",
              "      <th>4</th>\n",
              "      <td>1004</td>\n",
              "      <td>Leonila</td>\n",
              "      <td>Thompson</td>\n",
              "      <td>40</td>\n",
              "      <td>Seattle-Tacoma-Bellevue, WA MSA</td>\n",
              "      <td>2018-05-23</td>\n",
              "      <td>surf</td>\n",
              "      <td>NaN</td>\n",
              "    </tr>\n",
              "    <tr>\n",
              "      <th>5</th>\n",
              "      <td>1005</td>\n",
              "      <td>Livia</td>\n",
              "      <td>Shields</td>\n",
              "      <td>31</td>\n",
              "      <td>Dallas-Fort Worth-Arlington, TX MSA</td>\n",
              "      <td>2018-11-29</td>\n",
              "      <td>surf</td>\n",
              "      <td>NaN</td>\n",
              "    </tr>\n",
              "    <tr>\n",
              "      <th>6</th>\n",
              "      <td>1006</td>\n",
              "      <td>Jesusa</td>\n",
              "      <td>Bradford</td>\n",
              "      <td>73</td>\n",
              "      <td>San Francisco-Oakland-Berkeley, CA MSA</td>\n",
              "      <td>2018-11-27</td>\n",
              "      <td>ultimate</td>\n",
              "      <td>2018-12-18</td>\n",
              "    </tr>\n",
              "    <tr>\n",
              "      <th>7</th>\n",
              "      <td>1007</td>\n",
              "      <td>Eusebio</td>\n",
              "      <td>Welch</td>\n",
              "      <td>42</td>\n",
              "      <td>Grand Rapids-Kentwood, MI MSA</td>\n",
              "      <td>2018-07-11</td>\n",
              "      <td>surf</td>\n",
              "      <td>NaN</td>\n",
              "    </tr>\n",
              "    <tr>\n",
              "      <th>8</th>\n",
              "      <td>1008</td>\n",
              "      <td>Emely</td>\n",
              "      <td>Hoffman</td>\n",
              "      <td>53</td>\n",
              "      <td>Orlando-Kissimmee-Sanford, FL MSA</td>\n",
              "      <td>2018-08-03</td>\n",
              "      <td>ultimate</td>\n",
              "      <td>NaN</td>\n",
              "    </tr>\n",
              "    <tr>\n",
              "      <th>9</th>\n",
              "      <td>1009</td>\n",
              "      <td>Gerry</td>\n",
              "      <td>Little</td>\n",
              "      <td>19</td>\n",
              "      <td>San Jose-Sunnyvale-Santa Clara, CA MSA</td>\n",
              "      <td>2018-04-22</td>\n",
              "      <td>surf</td>\n",
              "      <td>NaN</td>\n",
              "    </tr>\n",
              "  </tbody>\n",
              "</table>\n",
              "</div>"
            ],
            "text/plain": [
              "   user_id first_name  last_name  ...    reg_date      plan  churn_date\n",
              "0     1000   Anamaria      Bauer  ...  2018-12-24  ultimate         NaN\n",
              "1     1001     Mickey  Wilkerson  ...  2018-08-13      surf         NaN\n",
              "2     1002     Carlee    Hoffman  ...  2018-10-21      surf         NaN\n",
              "3     1003   Reynaldo    Jenkins  ...  2018-01-28      surf         NaN\n",
              "4     1004    Leonila   Thompson  ...  2018-05-23      surf         NaN\n",
              "5     1005      Livia    Shields  ...  2018-11-29      surf         NaN\n",
              "6     1006     Jesusa   Bradford  ...  2018-11-27  ultimate  2018-12-18\n",
              "7     1007    Eusebio      Welch  ...  2018-07-11      surf         NaN\n",
              "8     1008      Emely    Hoffman  ...  2018-08-03  ultimate         NaN\n",
              "9     1009      Gerry     Little  ...  2018-04-22      surf         NaN\n",
              "\n",
              "[10 rows x 8 columns]"
            ]
          },
          "metadata": {
            "tags": []
          },
          "execution_count": 23
        }
      ]
    },
    {
      "cell_type": "markdown",
      "metadata": {
        "id": "J93za4MfBaLy"
      },
      "source": [
        "view of the table for better understanding of the data we are working with, some str columns should be changed lowercase"
      ]
    },
    {
      "cell_type": "markdown",
      "metadata": {
        "id": "QNdnbX7iBbys"
      },
      "source": [
        "**conclusion**:\n",
        "1. most dataframes have coulombs which type will be needing change\n",
        "2. in the data users there are missing values that need to be dealt with\n"
      ]
    },
    {
      "cell_type": "markdown",
      "metadata": {
        "id": "GrD2H9sVQLqO"
      },
      "source": [
        "# **Step 2: Preparing the data**"
      ]
    },
    {
      "cell_type": "code",
      "metadata": {
        "id": "DS9tYqngUHLD"
      },
      "source": [
        "# in data_calls cast user id to str and the call date to datatime\n",
        "data_calls[\"user_id\"] = data_calls[\"user_id\"].astype(str)\n",
        "data_calls[\"call_date\"] = pd.to_datetime(data_calls[\"call_date\"], format='%Y-%m-%d')\n",
        "#round up the duration of the calls(in minuts) up\n",
        "data_calls[\"duration\"] = np.ceil(data_calls[\"duration\"])\n",
        "#droped the unneeded column id\n",
        "data_calls = data_calls.drop(columns=\"id\")\n",
        "#crated acolumn withe the value 1 for every call made\n",
        "data_calls [\"call_made\"] = [1]*len(data_calls )\n",
        "#created a column of the month\n",
        "data_calls[\"month\"] = data_calls[\"call_date\"].dt.month\n",
        "#droped the now uneeded column of the data becose we have the month and thats what importent fo the analyzes\n",
        "data_calls = data_calls.drop(columns=\"call_date\") \n",
        "data_calls = data_calls.groupby([\"user_id\",\"month\"], as_index=False).sum()\n",
        "#changed the duration column name to call_length\n",
        "data_calls= data_calls.rename(columns = {'duration': 'call_length'})"
      ],
      "execution_count": 24,
      "outputs": []
    },
    {
      "cell_type": "code",
      "metadata": {
        "id": "2iGMiCqSVver"
      },
      "source": [
        "# in data_internet cast user id to str and the session date to datatime\n",
        "data_internet[\"user_id\"] = data_internet[\"user_id\"].astype(str)\n",
        "data_internet[\"session_date\"] = pd.to_datetime(data_internet[\"session_date\"], format='%Y-%m-%d')\n",
        "#turn the mb to gb, but we don't round up yet becose in the plan the round up the sum\n",
        "data_internet[\"mb_used\"] = data_internet[\"mb_used\"].apply(lambda x: x/1024)\n",
        "data_internet= data_internet.rename(columns = {'mb_used': 'gb_used'})\n",
        "#droped the unneeded column id\n",
        "data_internet = data_internet.drop(columns=\"id\")\n",
        "#created a column of the month\n",
        "data_internet[\"month\"] = data_internet[\"session_date\"].dt.month\n",
        "#droped the now uneeded column of the data becose we have the month and thats what importent fo the analyzes\n",
        "data_internet = data_internet.drop(columns=\"session_date\") \n",
        "data_internet = data_internet.groupby([\"user_id\",\"month\"], as_index=False).sum()"
      ],
      "execution_count": 25,
      "outputs": []
    },
    {
      "cell_type": "code",
      "metadata": {
        "id": "64HuycCDorCt"
      },
      "source": [
        "data_messages[\"message_send\"] = [1]*len(data_messages)"
      ],
      "execution_count": 26,
      "outputs": []
    },
    {
      "cell_type": "code",
      "metadata": {
        "id": "hdM4UQF9ghkj"
      },
      "source": [
        "# in data_messages cast user id to str and the message date to datatime\n",
        "data_messages[\"user_id\"] = data_messages[\"user_id\"].astype(str)\n",
        "data_messages[\"message_date\"] = pd.to_datetime(data_messages[\"message_date\"], format='%Y-%m-%d')\n",
        "#droped the unneeded column id\n",
        "data_messages = data_messages.drop(columns=\"id\")\n",
        "#crated acolumn withe the value 1 for every massage send\n",
        "data_messages[\"message_send\"] = [1]*len(data_messages)\n",
        "#created a column of the month\n",
        "data_messages[\"month\"] = data_messages[\"message_date\"].apply(lambda x: x.month)\n",
        "#droped the now uneeded column of the data becose we have the month and thats what importent fo the analyzes\n",
        "data_messages = data_messages.drop(columns=\"message_date\") \n",
        "data_messages = data_messages.groupby([\"user_id\",\"month\"], as_index=False).count()"
      ],
      "execution_count": 27,
      "outputs": []
    },
    {
      "cell_type": "code",
      "metadata": {
        "id": "sBFsnu2ZghgU"
      },
      "source": [
        "# in data_users cast user id to str and the subscription date to datatime\n",
        "data_users[\"user_id\"] = data_users[\"user_id\"].astype(str)\n",
        "data_users[\"churn_date\"] = data_users[\"churn_date\"].fillna(0)\n",
        "data_users[\"reg_date\"] = pd.to_datetime(data_users[\"reg_date\"], format='%Y-%m-%d')\n",
        "#select Db with only the user id and plan\n",
        "data_users_plan = data_users[[\"user_id\", \"plan\"]]"
      ],
      "execution_count": 28,
      "outputs": []
    },
    {
      "cell_type": "code",
      "metadata": {
        "id": "u2inTjXoIYGV"
      },
      "source": [
        "#margin all databases starting with data_users_plan becouse it has all the users\n",
        "data = pd.merge(data_users_plan, data_internet, on = (\"user_id\"), how = 'left')\n",
        "data = pd.merge(data, data_messages, on = ([\"user_id\",\"month\"]), how = 'left' )\n",
        "data = pd.merge(data,data_calls, on = ([\"user_id\",\"month\"]), how = 'left')"
      ],
      "execution_count": 29,
      "outputs": []
    },
    {
      "cell_type": "code",
      "metadata": {
        "colab": {
          "base_uri": "https://localhost:8080/"
        },
        "id": "0LY2P1EvrjIm",
        "outputId": "5be50f80-8581-4d5e-8415-83884d262bce"
      },
      "source": [
        "data.info()"
      ],
      "execution_count": 30,
      "outputs": [
        {
          "output_type": "stream",
          "text": [
            "<class 'pandas.core.frame.DataFrame'>\n",
            "Int64Index: 2288 entries, 0 to 2287\n",
            "Data columns (total 7 columns):\n",
            " #   Column        Non-Null Count  Dtype  \n",
            "---  ------        --------------  -----  \n",
            " 0   user_id       2288 non-null   object \n",
            " 1   plan          2288 non-null   object \n",
            " 2   month         2277 non-null   float64\n",
            " 3   gb_used       2277 non-null   float64\n",
            " 4   message_send  1791 non-null   float64\n",
            " 5   call_length   2243 non-null   float64\n",
            " 6   call_made     2243 non-null   float64\n",
            "dtypes: float64(5), object(2)\n",
            "memory usage: 143.0+ KB\n"
          ],
          "name": "stdout"
        }
      ]
    },
    {
      "cell_type": "markdown",
      "metadata": {
        "id": "gProb-c7tEyC"
      },
      "source": [
        "from the data info we can see missing values in call length, call made and massage send. we will fill it with zero because it just mean in that instance there was data usage but not calls or messages and change call_made,\tmessage_send and call_length to int"
      ]
    },
    {
      "cell_type": "code",
      "metadata": {
        "id": "5YM8SJEktzkc"
      },
      "source": [
        "data = data.fillna(0)"
      ],
      "execution_count": 31,
      "outputs": []
    },
    {
      "cell_type": "code",
      "metadata": {
        "id": "jcKkZtSiu1Fv"
      },
      "source": [
        "data[\"call_made\"] = data[\"call_made\"].astype(int)\n",
        "data[\"message_send\"] = data[\"message_send\"].astype(int)\n",
        "data[\"call_length\"] = data[\"call_length\"].astype(int)\n",
        "data[\"month\"] = data[\"month\"].astype(int)"
      ],
      "execution_count": 32,
      "outputs": []
    },
    {
      "cell_type": "code",
      "metadata": {
        "colab": {
          "base_uri": "https://localhost:8080/"
        },
        "id": "DK6vSwB6ttuE",
        "outputId": "71001fc4-2c10-4cd8-9af8-780700943c55"
      },
      "source": [
        "data.info()"
      ],
      "execution_count": 33,
      "outputs": [
        {
          "output_type": "stream",
          "text": [
            "<class 'pandas.core.frame.DataFrame'>\n",
            "Int64Index: 2288 entries, 0 to 2287\n",
            "Data columns (total 7 columns):\n",
            " #   Column        Non-Null Count  Dtype  \n",
            "---  ------        --------------  -----  \n",
            " 0   user_id       2288 non-null   object \n",
            " 1   plan          2288 non-null   object \n",
            " 2   month         2288 non-null   int64  \n",
            " 3   gb_used       2288 non-null   float64\n",
            " 4   message_send  2288 non-null   int64  \n",
            " 5   call_length   2288 non-null   int64  \n",
            " 6   call_made     2288 non-null   int64  \n",
            "dtypes: float64(1), int64(4), object(2)\n",
            "memory usage: 143.0+ KB\n"
          ],
          "name": "stdout"
        }
      ]
    },
    {
      "cell_type": "code",
      "metadata": {
        "colab": {
          "base_uri": "https://localhost:8080/",
          "height": 204
        },
        "id": "cqodHNVfr_g0",
        "outputId": "c2ab4131-d492-4261-9daa-4200df6dad4e"
      },
      "source": [
        "data.head(5)"
      ],
      "execution_count": 34,
      "outputs": [
        {
          "output_type": "execute_result",
          "data": {
            "text/html": [
              "<div>\n",
              "<style scoped>\n",
              "    .dataframe tbody tr th:only-of-type {\n",
              "        vertical-align: middle;\n",
              "    }\n",
              "\n",
              "    .dataframe tbody tr th {\n",
              "        vertical-align: top;\n",
              "    }\n",
              "\n",
              "    .dataframe thead th {\n",
              "        text-align: right;\n",
              "    }\n",
              "</style>\n",
              "<table border=\"1\" class=\"dataframe\">\n",
              "  <thead>\n",
              "    <tr style=\"text-align: right;\">\n",
              "      <th></th>\n",
              "      <th>user_id</th>\n",
              "      <th>plan</th>\n",
              "      <th>month</th>\n",
              "      <th>gb_used</th>\n",
              "      <th>message_send</th>\n",
              "      <th>call_length</th>\n",
              "      <th>call_made</th>\n",
              "    </tr>\n",
              "  </thead>\n",
              "  <tbody>\n",
              "    <tr>\n",
              "      <th>0</th>\n",
              "      <td>1000</td>\n",
              "      <td>ultimate</td>\n",
              "      <td>12</td>\n",
              "      <td>1.856904</td>\n",
              "      <td>11</td>\n",
              "      <td>124</td>\n",
              "      <td>16</td>\n",
              "    </tr>\n",
              "    <tr>\n",
              "      <th>1</th>\n",
              "      <td>1001</td>\n",
              "      <td>surf</td>\n",
              "      <td>8</td>\n",
              "      <td>6.756982</td>\n",
              "      <td>30</td>\n",
              "      <td>182</td>\n",
              "      <td>27</td>\n",
              "    </tr>\n",
              "    <tr>\n",
              "      <th>2</th>\n",
              "      <td>1001</td>\n",
              "      <td>surf</td>\n",
              "      <td>9</td>\n",
              "      <td>13.002754</td>\n",
              "      <td>44</td>\n",
              "      <td>315</td>\n",
              "      <td>49</td>\n",
              "    </tr>\n",
              "    <tr>\n",
              "      <th>3</th>\n",
              "      <td>1001</td>\n",
              "      <td>surf</td>\n",
              "      <td>10</td>\n",
              "      <td>21.807119</td>\n",
              "      <td>53</td>\n",
              "      <td>393</td>\n",
              "      <td>65</td>\n",
              "    </tr>\n",
              "    <tr>\n",
              "      <th>4</th>\n",
              "      <td>1001</td>\n",
              "      <td>surf</td>\n",
              "      <td>11</td>\n",
              "      <td>18.070605</td>\n",
              "      <td>36</td>\n",
              "      <td>426</td>\n",
              "      <td>64</td>\n",
              "    </tr>\n",
              "  </tbody>\n",
              "</table>\n",
              "</div>"
            ],
            "text/plain": [
              "  user_id      plan  month    gb_used  message_send  call_length  call_made\n",
              "0    1000  ultimate     12   1.856904            11          124         16\n",
              "1    1001      surf      8   6.756982            30          182         27\n",
              "2    1001      surf      9  13.002754            44          315         49\n",
              "3    1001      surf     10  21.807119            53          393         65\n",
              "4    1001      surf     11  18.070605            36          426         64"
            ]
          },
          "metadata": {
            "tags": []
          },
          "execution_count": 34
        }
      ]
    },
    {
      "cell_type": "code",
      "metadata": {
        "id": "3A5mWnzncDkq"
      },
      "source": [
        "#to the merged database addin a \"monthly_revenue\" column, calculatinf the price the user paid for the servise pluse exceeding price\n",
        "#create an ampty column monthly_revenue\n",
        "data[\"monthly_revenue\"] = [0.0]*len(data)\n",
        "for i in range(len(data)):\n",
        "  row = data.loc[i]\n",
        "  #for every row in the db check what is the plan\n",
        "  plan = row[\"plan\"]\n",
        "  #check were the user exceeded the plan, its were the difference between what the used and what the plat allws is greater then zero\n",
        "  message_exceeding =  row[\"message_send\"] - data_plans.loc[data_plans[\"plan_name\"] == plan, \"messages_included\"].values[0]\n",
        "  mb_exceeding = math.ceil(row[\"gb_used\"] - data_plans.loc[data_plans[\"plan_name\"] == plan, \"mb_per_month_included\"].values[0]/1024)\n",
        "  call_exceeding =  row[\"call_length\"] - data_plans.loc[data_plans[\"plan_name\"] == plan, \"minutes_included\"].values[0]\n",
        "  list_1 =[message_exceeding, mb_exceeding, call_exceeding]\n",
        "  list_2 = [0 if i < 0 else i for i in list_1]\n",
        "  #calculate the extra costs plus the base plan price\n",
        "  plan_price = data_plans.loc[data_plans[\"plan_name\"] == plan, \"usd_monthly_pay\"].values[0]\n",
        "  extra_massage_price = list_2[0] * data_plans.loc[data_plans[\"plan_name\"] == plan, \"usd_per_message\"].values[0]\n",
        "  extra_data_price = list_2[1] * data_plans.loc[data_plans[\"plan_name\"] == plan, \"usd_per_gb\"].values[0]\n",
        "  extra_call_price = list_2[2] * data_plans.loc[data_plans[\"plan_name\"] == plan, \"usd_per_minute\"].values[0]\n",
        "  sum = plan_price + extra_massage_price + extra_data_price + extra_call_price\n",
        "  #add the sum to the corisponding row in monthly_revenue\n",
        "  data.at[i, \"monthly_revenue\"] =  sum"
      ],
      "execution_count": 35,
      "outputs": []
    },
    {
      "cell_type": "code",
      "metadata": {
        "colab": {
          "base_uri": "https://localhost:8080/",
          "height": 204
        },
        "id": "ojtnH7gWorCv",
        "outputId": "88da9feb-697f-4908-e15e-d164de842d64"
      },
      "source": [
        "data.head(5)"
      ],
      "execution_count": 36,
      "outputs": [
        {
          "output_type": "execute_result",
          "data": {
            "text/html": [
              "<div>\n",
              "<style scoped>\n",
              "    .dataframe tbody tr th:only-of-type {\n",
              "        vertical-align: middle;\n",
              "    }\n",
              "\n",
              "    .dataframe tbody tr th {\n",
              "        vertical-align: top;\n",
              "    }\n",
              "\n",
              "    .dataframe thead th {\n",
              "        text-align: right;\n",
              "    }\n",
              "</style>\n",
              "<table border=\"1\" class=\"dataframe\">\n",
              "  <thead>\n",
              "    <tr style=\"text-align: right;\">\n",
              "      <th></th>\n",
              "      <th>user_id</th>\n",
              "      <th>plan</th>\n",
              "      <th>month</th>\n",
              "      <th>gb_used</th>\n",
              "      <th>message_send</th>\n",
              "      <th>call_length</th>\n",
              "      <th>call_made</th>\n",
              "      <th>monthly_revenue</th>\n",
              "    </tr>\n",
              "  </thead>\n",
              "  <tbody>\n",
              "    <tr>\n",
              "      <th>0</th>\n",
              "      <td>1000</td>\n",
              "      <td>ultimate</td>\n",
              "      <td>12</td>\n",
              "      <td>1.856904</td>\n",
              "      <td>11</td>\n",
              "      <td>124</td>\n",
              "      <td>16</td>\n",
              "      <td>70.00</td>\n",
              "    </tr>\n",
              "    <tr>\n",
              "      <th>1</th>\n",
              "      <td>1001</td>\n",
              "      <td>surf</td>\n",
              "      <td>8</td>\n",
              "      <td>6.756982</td>\n",
              "      <td>30</td>\n",
              "      <td>182</td>\n",
              "      <td>27</td>\n",
              "      <td>20.00</td>\n",
              "    </tr>\n",
              "    <tr>\n",
              "      <th>2</th>\n",
              "      <td>1001</td>\n",
              "      <td>surf</td>\n",
              "      <td>9</td>\n",
              "      <td>13.002754</td>\n",
              "      <td>44</td>\n",
              "      <td>315</td>\n",
              "      <td>49</td>\n",
              "      <td>20.00</td>\n",
              "    </tr>\n",
              "    <tr>\n",
              "      <th>3</th>\n",
              "      <td>1001</td>\n",
              "      <td>surf</td>\n",
              "      <td>10</td>\n",
              "      <td>21.807119</td>\n",
              "      <td>53</td>\n",
              "      <td>393</td>\n",
              "      <td>65</td>\n",
              "      <td>90.09</td>\n",
              "    </tr>\n",
              "    <tr>\n",
              "      <th>4</th>\n",
              "      <td>1001</td>\n",
              "      <td>surf</td>\n",
              "      <td>11</td>\n",
              "      <td>18.070605</td>\n",
              "      <td>36</td>\n",
              "      <td>426</td>\n",
              "      <td>64</td>\n",
              "      <td>60.00</td>\n",
              "    </tr>\n",
              "  </tbody>\n",
              "</table>\n",
              "</div>"
            ],
            "text/plain": [
              "  user_id      plan  month  ...  call_length  call_made  monthly_revenue\n",
              "0    1000  ultimate     12  ...          124         16            70.00\n",
              "1    1001      surf      8  ...          182         27            20.00\n",
              "2    1001      surf      9  ...          315         49            20.00\n",
              "3    1001      surf     10  ...          393         65            90.09\n",
              "4    1001      surf     11  ...          426         64            60.00\n",
              "\n",
              "[5 rows x 8 columns]"
            ]
          },
          "metadata": {
            "tags": []
          },
          "execution_count": 36
        }
      ]
    },
    {
      "cell_type": "code",
      "metadata": {
        "colab": {
          "base_uri": "https://localhost:8080/",
          "height": 142
        },
        "id": "8G3x6n-AH83e",
        "outputId": "839419fa-a187-42ad-8496-3174ca4ba087"
      },
      "source": [
        "#Reviewer's code\n",
        "data[data['user_id'] == '1175']"
      ],
      "execution_count": 37,
      "outputs": [
        {
          "output_type": "execute_result",
          "data": {
            "text/html": [
              "<div>\n",
              "<style scoped>\n",
              "    .dataframe tbody tr th:only-of-type {\n",
              "        vertical-align: middle;\n",
              "    }\n",
              "\n",
              "    .dataframe tbody tr th {\n",
              "        vertical-align: top;\n",
              "    }\n",
              "\n",
              "    .dataframe thead th {\n",
              "        text-align: right;\n",
              "    }\n",
              "</style>\n",
              "<table border=\"1\" class=\"dataframe\">\n",
              "  <thead>\n",
              "    <tr style=\"text-align: right;\">\n",
              "      <th></th>\n",
              "      <th>user_id</th>\n",
              "      <th>plan</th>\n",
              "      <th>month</th>\n",
              "      <th>gb_used</th>\n",
              "      <th>message_send</th>\n",
              "      <th>call_length</th>\n",
              "      <th>call_made</th>\n",
              "      <th>monthly_revenue</th>\n",
              "    </tr>\n",
              "  </thead>\n",
              "  <tbody>\n",
              "    <tr>\n",
              "      <th>845</th>\n",
              "      <td>1175</td>\n",
              "      <td>surf</td>\n",
              "      <td>10</td>\n",
              "      <td>22.033281</td>\n",
              "      <td>31</td>\n",
              "      <td>703</td>\n",
              "      <td>101</td>\n",
              "      <td>106.09</td>\n",
              "    </tr>\n",
              "    <tr>\n",
              "      <th>846</th>\n",
              "      <td>1175</td>\n",
              "      <td>surf</td>\n",
              "      <td>11</td>\n",
              "      <td>16.793486</td>\n",
              "      <td>30</td>\n",
              "      <td>718</td>\n",
              "      <td>89</td>\n",
              "      <td>46.54</td>\n",
              "    </tr>\n",
              "    <tr>\n",
              "      <th>847</th>\n",
              "      <td>1175</td>\n",
              "      <td>surf</td>\n",
              "      <td>12</td>\n",
              "      <td>16.298564</td>\n",
              "      <td>36</td>\n",
              "      <td>609</td>\n",
              "      <td>72</td>\n",
              "      <td>43.27</td>\n",
              "    </tr>\n",
              "  </tbody>\n",
              "</table>\n",
              "</div>"
            ],
            "text/plain": [
              "    user_id  plan  month  ...  call_length  call_made  monthly_revenue\n",
              "845    1175  surf     10  ...          703        101           106.09\n",
              "846    1175  surf     11  ...          718         89            46.54\n",
              "847    1175  surf     12  ...          609         72            43.27\n",
              "\n",
              "[3 rows x 8 columns]"
            ]
          },
          "metadata": {
            "tags": []
          },
          "execution_count": 37
        }
      ]
    },
    {
      "cell_type": "markdown",
      "metadata": {
        "id": "z_GCy3RXMNYN"
      },
      "source": [
        "# **Step 3: Analyzing the data**"
      ]
    },
    {
      "cell_type": "code",
      "metadata": {
        "id": "qpv0O1P-dVqh"
      },
      "source": [
        "monthly_users =  data.groupby(['plan','month']).agg({'user_id': 'count'}).reset_index()"
      ],
      "execution_count": 38,
      "outputs": []
    },
    {
      "cell_type": "code",
      "metadata": {
        "colab": {
          "base_uri": "https://localhost:8080/",
          "height": 366
        },
        "id": "H34aluAsfgn0",
        "outputId": "70e4bddb-fe15-495d-c75d-5ab02c608321"
      },
      "source": [
        "fig = plt.figure()\n",
        "ax = fig.add_axes([0,0,1,1])\n",
        "surf_month = monthly_users.query(\"plan == 'surf'\")[\"month\"]\n",
        "surf_users = monthly_users.query(\"plan == 'surf'\")[\"user_id\"]\n",
        "ultimate_month = monthly_users.query(\"plan == 'ultimate'\")[\"month\"]\n",
        "ultimate_users = monthly_users.query(\"plan == 'ultimate'\")[\"user_id\"]\n",
        "ax.plot(surf_month, surf_users, color = 'b')\n",
        "ax.plot(ultimate_month,ultimate_users, color = 'r')\n",
        "ax.legend(labels=['surf', 'ultimate'])\n",
        "ax.set_ylabel('clients')\n",
        "ax.set_xlabel('month')\n",
        "ax.set_title('number of clients in a month')\n",
        "plt.show()"
      ],
      "execution_count": 39,
      "outputs": [
        {
          "output_type": "display_data",
          "data": {
            "image/png": "[encoded data removed]",
            "text/plain": [
              "<Figure size 432x288 with 1 Axes>"
            ]
          },
          "metadata": {
            "tags": [],
            "needs_background": "light"
          }
        }
      ]
    },
    {
      "cell_type": "markdown",
      "metadata": {
        "id": "svXqcsbQceIF"
      },
      "source": [
        "in this graph that shows the number of subscribed customers for each mobile plan, we can see without a doute the surf plan attractes alot more clinets.\n",
        "\n",
        "At the end of the year we can see that the number of clintest thet are subscribed to surf is two times the number of clintest subscribed to ultimates"
      ]
    },
    {
      "cell_type": "code",
      "metadata": {
        "id": "61XKhvbVOEQ3"
      },
      "source": [
        "mean_per_month = (data.pivot_table(index = ['plan','month'], values = [\"user_id\", 'message_send','gb_used','call_length',\t'call_made', 'monthly_revenue']))\n",
        "mean_per_month.reset_index(inplace=True)"
      ],
      "execution_count": 40,
      "outputs": []
    },
    {
      "cell_type": "code",
      "metadata": {
        "colab": {
          "base_uri": "https://localhost:8080/",
          "height": 366
        },
        "id": "GwfFtCCHiF13",
        "outputId": "e4454a66-4c1f-4ab8-c21e-30930d9998d6"
      },
      "source": [
        "fig = plt.figure()\n",
        "ax = fig.add_axes([0,0,1,1])\n",
        "surf_month = mean_per_month.query(\"plan == 'surf'\")[\"month\"]\n",
        "surf_users = mean_per_month.query(\"plan == 'surf'\")[\"monthly_revenue\"]\n",
        "ultimate_month = mean_per_month.query(\"plan == 'ultimate'\")[\"month\"]\n",
        "ultimate_users = mean_per_month.query(\"plan == 'ultimate'\")[\"monthly_revenue\"]\n",
        "\n",
        "ax.plot(surf_month, surf_users, color = 'b')\n",
        "ax.plot(ultimate_month,ultimate_users, color = 'r')\n",
        "\n",
        "ax.legend(labels=['surf', 'ultimate'])\n",
        "ax.set_ylabel('avarge monthly revenue')\n",
        "ax.set_xlabel('month')\n",
        "ax.set_title('monthly revenue every month')\n",
        "plt.show()"
      ],
      "execution_count": 41,
      "outputs": [
        {
          "output_type": "display_data",
          "data": {
            "image/png": "[encoded data removed]",
            "text/plain": [
              "<Figure size 432x288 with 1 Axes>"
            ]
          },
          "metadata": {
            "tags": [],
            "needs_background": "light"
          }
        }
      ]
    },
    {
      "cell_type": "markdown",
      "metadata": {
        "id": "U8ROLsX6dWMQ"
      },
      "source": [
        "in this graph that shows the avarge monthly revenue the company gets for each phone plan, we can see that the ultimate brings more revenue in but the surf is on the rise, we should definitely analyze next year data for better conclusions.\n",
        "\n",
        "At the end of the year we can see there is no a lot of difference in the revenue every plan brings in"
      ]
    },
    {
      "cell_type": "code",
      "metadata": {
        "colab": {
          "base_uri": "https://localhost:8080/",
          "height": 366
        },
        "id": "4z0Id1SkpO7d",
        "outputId": "e49d1fd3-242e-4a28-c70a-d3e252c5cb05"
      },
      "source": [
        "fig = plt.figure()\n",
        "ax = fig.add_axes([0,0,1,1])\n",
        "surf_month = mean_per_month.query(\"plan == 'surf'\")[\"month\"]\n",
        "surf_users = mean_per_month.query(\"plan == 'surf'\")[\"message_send\"]\n",
        "ultimate_month = mean_per_month.query(\"plan == 'ultimate'\")[\"month\"]\n",
        "ultimate_users = mean_per_month.query(\"plan == 'ultimate'\")[\"message_send\"]\n",
        "\n",
        "ax.plot(surf_month, surf_users, color = 'b')\n",
        "ax.plot(ultimate_month,ultimate_users, color = 'r')\n",
        "\n",
        "plt.axhline(y=50, color='b', linestyle='-.', label = \"surf max massages\" )\n",
        "\n",
        "ax.legend(labels=['surf', 'ultimate'])\n",
        "ax.set_ylabel(' avarge message send')\n",
        "ax.set_xlabel('month')\n",
        "ax.set_title('number of message send every month')\n",
        "plt.show()"
      ],
      "execution_count": 42,
      "outputs": [
        {
          "output_type": "display_data",
          "data": {
            "image/png": "[encoded data removed]",
            "text/plain": [
              "<Figure size 432x288 with 1 Axes>"
            ]
          },
          "metadata": {
            "tags": [],
            "needs_background": "light"
          }
        }
      ]
    },
    {
      "cell_type": "markdown",
      "metadata": {
        "id": "A9OGBKIcgMIa"
      },
      "source": [
        "*the blue doted line is the surf massages limite\n",
        "\n",
        "in this graph that shows the avrage number of massages send for each phone plan, we can see that from the start that more messages were sent from users in the ultimate, note that the reference is not that great"
      ]
    },
    {
      "cell_type": "code",
      "metadata": {
        "colab": {
          "base_uri": "https://localhost:8080/",
          "height": 366
        },
        "id": "mxqPaG7LqpME",
        "outputId": "6d3f5091-329c-418d-b6b1-8becd12aa1d8"
      },
      "source": [
        "fig = plt.figure()\n",
        "ax = fig.add_axes([0,0,1,1])\n",
        "surf_month = mean_per_month.query(\"plan == 'surf'\")[\"month\"]\n",
        "surf_users = mean_per_month.query(\"plan == 'surf'\")[\"gb_used\"]\n",
        "ultimate_month = mean_per_month.query(\"plan == 'ultimate'\")[\"month\"]\n",
        "ultimate_users = mean_per_month.query(\"plan == 'ultimate'\")[\"gb_used\"]\n",
        "\n",
        "ax.plot(surf_month, surf_users, color = 'b')\n",
        "ax.plot(ultimate_month,ultimate_users, color = 'r')\n",
        "plt.axhline(y=15, color='b', linestyle='-.', label = \"surf max data\" )\n",
        "\n",
        "ax.legend(labels=['surf', 'ultimate'])\n",
        "ax.set_ylabel('avarge gb used')\n",
        "ax.set_xlabel('month')\n",
        "ax.set_title('number of gb used by month')\n",
        "plt.show()"
      ],
      "execution_count": 43,
      "outputs": [
        {
          "output_type": "display_data",
          "data": {
            "image/png": "[encoded data removed]",
            "text/plain": [
              "<Figure size 432x288 with 1 Axes>"
            ]
          },
          "metadata": {
            "tags": [],
            "needs_background": "light"
          }
        }
      ]
    },
    {
      "cell_type": "markdown",
      "metadata": {
        "id": "W0cppjVGizJQ"
      },
      "source": [
        "*the blue doted line is the surf data limite\n",
        "\n",
        "in this graph that shows the avrage usage of data(GB) for each phone plan, we can see that in the start users in the ultimate plan used alot more data, with a spike at 02/2018, but after about six month the usage came down to the aproxsimtly same usage.\n",
        "\n",
        "At the end of the year we can see there is no difference in the data usage of each platform but in the surf plan the average user exceeded the data limit"
      ]
    },
    {
      "cell_type": "code",
      "metadata": {
        "colab": {
          "base_uri": "https://localhost:8080/",
          "height": 366
        },
        "id": "tO-bDfTuqxzA",
        "outputId": "42c6bd84-de23-49b7-9c05-9edcafc1f03e"
      },
      "source": [
        "fig = plt.figure()\n",
        "ax = fig.add_axes([0,0,1,1])\n",
        "surf_month = mean_per_month.query(\"plan == 'surf'\")[\"month\"]\n",
        "surf_users = mean_per_month.query(\"plan == 'surf'\")[\"call_length\"]\n",
        "ultimate_month = mean_per_month.query(\"plan == 'ultimate'\")[\"month\"]\n",
        "ultimate_users = mean_per_month.query(\"plan == 'ultimate'\")[\"call_length\"]\n",
        "\n",
        "ax.plot(surf_month, surf_users, color = 'b')\n",
        "ax.plot(ultimate_month,ultimate_users, color = 'r')\n",
        "plt.axhline(y=500, color='b', linestyle='-.', label = \"surf max call length\" )\n",
        "\n",
        "ax.legend(labels=['surf', 'ultimate'])\n",
        "ax.set_ylabel('avarge call length')\n",
        "ax.set_xlabel('month')\n",
        "ax.set_title('number of call length by month')\n",
        "plt.show()"
      ],
      "execution_count": 44,
      "outputs": [
        {
          "output_type": "display_data",
          "data": {
            "image/png": "[encoded data removed]",
            "text/plain": [
              "<Figure size 432x288 with 1 Axes>"
            ]
          },
          "metadata": {
            "tags": [],
            "needs_background": "light"
          }
        }
      ]
    },
    {
      "cell_type": "markdown",
      "metadata": {
        "id": "WKLewwrAk0Gh"
      },
      "source": [
        "*the blue doted line is the surf call lengthe limite\n",
        "\n",
        "in this graph that shows the avrage call length for each phone plan, we can see that in the start users in the ultimate plan used alot more data, with a huge spike at 02/2018, but after that the usage came down to the aproxsimtly same usage.\n",
        "\n",
        "At the end of the year we can see there is no difference in the call length of each platform"
      ]
    },
    {
      "cell_type": "code",
      "metadata": {
        "colab": {
          "base_uri": "https://localhost:8080/",
          "height": 366
        },
        "id": "aQsQlrX71NMo",
        "outputId": "3b446ee8-754d-427a-a401-915990432eed"
      },
      "source": [
        "fig = plt.figure()\n",
        "ax = fig.add_axes([0,0,1,1])\n",
        "surf_month = mean_per_month.query(\"plan == 'surf'\")[\"month\"]\n",
        "surf_users = mean_per_month.query(\"plan == 'surf'\")[\"call_made\"]\n",
        "ultimate_month = mean_per_month.query(\"plan == 'ultimate'\")[\"month\"]\n",
        "ultimate_users = mean_per_month.query(\"plan == 'ultimate'\")[\"call_made\"]\n",
        "\n",
        "ax.plot(surf_month, surf_users, color = 'b')\n",
        "ax.plot(ultimate_month,ultimate_users, color = 'r')\n",
        "\n",
        "ax.legend(labels=['surf', 'ultimate'])\n",
        "ax.set_ylabel('avarge calls made')\n",
        "ax.set_xlabel('month')\n",
        "ax.set_title('number of calls made by month')\n",
        "plt.show()"
      ],
      "execution_count": 45,
      "outputs": [
        {
          "output_type": "display_data",
          "data": {
            "image/png": "[encoded data removed]",
            "text/plain": [
              "<Figure size 432x288 with 1 Axes>"
            ]
          },
          "metadata": {
            "tags": [],
            "needs_background": "light"
          }
        }
      ]
    },
    {
      "cell_type": "code",
      "metadata": {
        "id": "riOIcRzzPdrA"
      },
      "source": [
        "std_per_month = (data.pivot_table(index = ['plan','month'], values = [\"user_id\", 'message_send','gb_used','call_length', 'call_made', 'monthly_revenue'], aggfunc=np.std))\n",
        "std_per_month.reset_index(inplace=True)"
      ],
      "execution_count": 46,
      "outputs": []
    },
    {
      "cell_type": "code",
      "metadata": {
        "colab": {
          "base_uri": "https://localhost:8080/",
          "height": 366
        },
        "id": "TssU4nU0Piz4",
        "outputId": "dff73758-9d72-43c0-bb40-48e5f8385c3d"
      },
      "source": [
        "fig = plt.figure()\n",
        "ax = fig.add_axes([0,0,1,1])\n",
        "surf_month = std_per_month.query(\"plan == 'surf'\")[\"month\"]\n",
        "surf_users = std_per_month.query(\"plan == 'surf'\")[\"monthly_revenue\"]\n",
        "ultimate_month = std_per_month.query(\"plan == 'ultimate'\")[\"month\"]\n",
        "ultimate_users = std_per_month.query(\"plan == 'ultimate'\")[\"monthly_revenue\"]\n",
        "\n",
        "ax.plot(surf_month, surf_users, color = 'b')\n",
        "ax.plot(ultimate_month,ultimate_users, color = 'r')\n",
        "\n",
        "ax.legend(labels=['surf', 'ultimate'])\n",
        "ax.set_ylabel('monthly revenue standard deviation')\n",
        "ax.set_xlabel('month')\n",
        "ax.set_title('monthly revenue standard deviation by month')\n",
        "plt.show()"
      ],
      "execution_count": 47,
      "outputs": [
        {
          "output_type": "display_data",
          "data": {
            "image/png": "[encoded data removed]",
            "text/plain": [
              "<Figure size 432x288 with 1 Axes>"
            ]
          },
          "metadata": {
            "tags": [],
            "needs_background": "light"
          }
        }
      ]
    },
    {
      "cell_type": "markdown",
      "metadata": {
        "id": "biYGCLqBlqty"
      },
      "source": [
        "in this graph we can see that the standard deviation of the surf plan is much high, higher standard deviation indicates that the monthly revenue of surf is more spread out. as the outliers can be only over paying because there is base plan price we can deduce that there are more people that over pay that are subscribed to surf plan."
      ]
    },
    {
      "cell_type": "code",
      "metadata": {
        "colab": {
          "base_uri": "https://localhost:8080/",
          "height": 1000
        },
        "id": "hzTPzVYyr-ox",
        "outputId": "ad8f7466-7d8d-49e7-9dfa-672764272d91"
      },
      "source": [
        "fig = plt.figure()\n",
        "ax = fig.add_axes([0,0,1,1])\n",
        "surf_month = std_per_month.query(\"plan == 'surf'\")[\"month\"]\n",
        "surf_users = std_per_month.query(\"plan == 'surf'\")[\"message_send\"]\n",
        "ultimate_month = std_per_month.query(\"plan == 'ultimate'\")[\"month\"]\n",
        "ultimate_users = std_per_month.query(\"plan == 'ultimate'\")[\"message_send\"]\n",
        "\n",
        "ax.plot(surf_month, surf_users, color = 'b')\n",
        "ax.plot(ultimate_month,ultimate_users, color = 'r')\n",
        "\n",
        "ax.legend(labels=['surf', 'ultimate'])\n",
        "ax.set_ylabel('messages send standard deviation')\n",
        "ax.set_xlabel('month')\n",
        "ax.set_title('number of message_send by month')\n",
        "plt.show()\n",
        "\n",
        "\n",
        "fig = plt.figure()\n",
        "ax = fig.add_axes([0,0,1,1])\n",
        "surf_month = std_per_month.query(\"plan == 'surf'\")[\"month\"]\n",
        "surf_users = std_per_month.query(\"plan == 'surf'\")[\"gb_used\"]\n",
        "ultimate_month = std_per_month.query(\"plan == 'ultimate'\")[\"month\"]\n",
        "ultimate_users = std_per_month.query(\"plan == 'ultimate'\")[\"gb_used\"]\n",
        "\n",
        "ax.plot(surf_month, surf_users, color = 'b')\n",
        "ax.plot(ultimate_month,ultimate_users, color = 'r')\n",
        "\n",
        "ax.legend(labels=['surf', 'ultimate'])\n",
        "ax.set_ylabel('gb_used standard deviation')\n",
        "ax.set_xlabel('month')\n",
        "ax.set_title('number of gb_used by month')\n",
        "plt.show()\n",
        "\n",
        "\n",
        "fig = plt.figure()\n",
        "ax = fig.add_axes([0,0,1,1])\n",
        "surf_month = std_per_month.query(\"plan == 'surf'\")[\"month\"]\n",
        "surf_users = std_per_month.query(\"plan == 'surf'\")[\"call_length\"]\n",
        "ultimate_month = std_per_month.query(\"plan == 'ultimate'\")[\"month\"]\n",
        "ultimate_users = std_per_month.query(\"plan == 'ultimate'\")[\"call_length\"]\n",
        "\n",
        "ax.plot(surf_month, surf_users, color = 'b')\n",
        "ax.plot(ultimate_month,ultimate_users, color = 'r')\n",
        "\n",
        "ax.legend(labels=['surf', 'ultimate'])\n",
        "ax.set_ylabel('call length standard deviation')\n",
        "ax.set_xlabel('month')\n",
        "ax.set_title('number of call length standard deviation by month')\n",
        "plt.show()\n",
        "\n",
        "fig = plt.figure()\n",
        "ax = fig.add_axes([0,0,1,1])\n",
        "surf_month = std_per_month.query(\"plan == 'surf'\")[\"month\"]\n",
        "surf_users = std_per_month.query(\"plan == 'surf'\")[\"call_made\"]\n",
        "ultimate_month = std_per_month.query(\"plan == 'ultimate'\")[\"month\"]\n",
        "ultimate_users = std_per_month.query(\"plan == 'ultimate'\")[\"call_made\"]\n",
        "\n",
        "ax.plot(surf_month, surf_users, color = 'b')\n",
        "ax.plot(ultimate_month,ultimate_users, color = 'r')\n",
        "\n",
        "ax.legend(labels=['surf', 'ultimate'])\n",
        "ax.set_ylabel('call length standard deviation')\n",
        "ax.set_xlabel('month')\n",
        "ax.set_title('number of call length standard deviation by month')\n",
        "plt.show()"
      ],
      "execution_count": 48,
      "outputs": [
        {
          "output_type": "display_data",
          "data": {
            "image/png": "[encoded data removed]",
            "text/plain": [
              "<Figure size 432x288 with 1 Axes>"
            ]
          },
          "metadata": {
            "tags": [],
            "needs_background": "light"
          }
        },
        {
          "output_type": "display_data",
          "data": {
            "image/png": "[encoded data removed]",
            "text/plain": [
              "<Figure size 432x288 with 1 Axes>"
            ]
          },
          "metadata": {
            "tags": [],
            "needs_background": "light"
          }
        },
        {
          "output_type": "display_data",
          "data": {
            "image/png": "[encoded data removed]",
            "text/plain": [
              "<Figure size 432x288 with 1 Axes>"
            ]
          },
          "metadata": {
            "tags": [],
            "needs_background": "light"
          }
        },
        {
          "output_type": "display_data",
          "data": {
            "image/png": "[encoded data removed]",
            "text/plain": [
              "<Figure size 432x288 with 1 Axes>"
            ]
          },
          "metadata": {
            "tags": [],
            "needs_background": "light"
          }
        }
      ]
    },
    {
      "cell_type": "code",
      "metadata": {
        "colab": {
          "base_uri": "https://localhost:8080/",
          "height": 421
        },
        "id": "qhr2yW4l3Kf2",
        "outputId": "d6f34884-4242-4c70-d5d4-e68e6a7ad591"
      },
      "source": [
        "data.head(12)"
      ],
      "execution_count": 49,
      "outputs": [
        {
          "output_type": "execute_result",
          "data": {
            "text/html": [
              "<div>\n",
              "<style scoped>\n",
              "    .dataframe tbody tr th:only-of-type {\n",
              "        vertical-align: middle;\n",
              "    }\n",
              "\n",
              "    .dataframe tbody tr th {\n",
              "        vertical-align: top;\n",
              "    }\n",
              "\n",
              "    .dataframe thead th {\n",
              "        text-align: right;\n",
              "    }\n",
              "</style>\n",
              "<table border=\"1\" class=\"dataframe\">\n",
              "  <thead>\n",
              "    <tr style=\"text-align: right;\">\n",
              "      <th></th>\n",
              "      <th>user_id</th>\n",
              "      <th>plan</th>\n",
              "      <th>month</th>\n",
              "      <th>gb_used</th>\n",
              "      <th>message_send</th>\n",
              "      <th>call_length</th>\n",
              "      <th>call_made</th>\n",
              "      <th>monthly_revenue</th>\n",
              "    </tr>\n",
              "  </thead>\n",
              "  <tbody>\n",
              "    <tr>\n",
              "      <th>0</th>\n",
              "      <td>1000</td>\n",
              "      <td>ultimate</td>\n",
              "      <td>12</td>\n",
              "      <td>1.856904</td>\n",
              "      <td>11</td>\n",
              "      <td>124</td>\n",
              "      <td>16</td>\n",
              "      <td>70.00</td>\n",
              "    </tr>\n",
              "    <tr>\n",
              "      <th>1</th>\n",
              "      <td>1001</td>\n",
              "      <td>surf</td>\n",
              "      <td>8</td>\n",
              "      <td>6.756982</td>\n",
              "      <td>30</td>\n",
              "      <td>182</td>\n",
              "      <td>27</td>\n",
              "      <td>20.00</td>\n",
              "    </tr>\n",
              "    <tr>\n",
              "      <th>2</th>\n",
              "      <td>1001</td>\n",
              "      <td>surf</td>\n",
              "      <td>9</td>\n",
              "      <td>13.002754</td>\n",
              "      <td>44</td>\n",
              "      <td>315</td>\n",
              "      <td>49</td>\n",
              "      <td>20.00</td>\n",
              "    </tr>\n",
              "    <tr>\n",
              "      <th>3</th>\n",
              "      <td>1001</td>\n",
              "      <td>surf</td>\n",
              "      <td>10</td>\n",
              "      <td>21.807119</td>\n",
              "      <td>53</td>\n",
              "      <td>393</td>\n",
              "      <td>65</td>\n",
              "      <td>90.09</td>\n",
              "    </tr>\n",
              "    <tr>\n",
              "      <th>4</th>\n",
              "      <td>1001</td>\n",
              "      <td>surf</td>\n",
              "      <td>11</td>\n",
              "      <td>18.070605</td>\n",
              "      <td>36</td>\n",
              "      <td>426</td>\n",
              "      <td>64</td>\n",
              "      <td>60.00</td>\n",
              "    </tr>\n",
              "    <tr>\n",
              "      <th>5</th>\n",
              "      <td>1001</td>\n",
              "      <td>surf</td>\n",
              "      <td>12</td>\n",
              "      <td>18.915215</td>\n",
              "      <td>44</td>\n",
              "      <td>412</td>\n",
              "      <td>56</td>\n",
              "      <td>60.00</td>\n",
              "    </tr>\n",
              "    <tr>\n",
              "      <th>6</th>\n",
              "      <td>1002</td>\n",
              "      <td>surf</td>\n",
              "      <td>10</td>\n",
              "      <td>6.398447</td>\n",
              "      <td>15</td>\n",
              "      <td>59</td>\n",
              "      <td>11</td>\n",
              "      <td>20.00</td>\n",
              "    </tr>\n",
              "    <tr>\n",
              "      <th>7</th>\n",
              "      <td>1002</td>\n",
              "      <td>surf</td>\n",
              "      <td>11</td>\n",
              "      <td>18.891680</td>\n",
              "      <td>32</td>\n",
              "      <td>386</td>\n",
              "      <td>55</td>\n",
              "      <td>60.00</td>\n",
              "    </tr>\n",
              "    <tr>\n",
              "      <th>8</th>\n",
              "      <td>1002</td>\n",
              "      <td>surf</td>\n",
              "      <td>12</td>\n",
              "      <td>14.058828</td>\n",
              "      <td>41</td>\n",
              "      <td>384</td>\n",
              "      <td>47</td>\n",
              "      <td>20.00</td>\n",
              "    </tr>\n",
              "    <tr>\n",
              "      <th>9</th>\n",
              "      <td>1003</td>\n",
              "      <td>surf</td>\n",
              "      <td>12</td>\n",
              "      <td>26.410293</td>\n",
              "      <td>50</td>\n",
              "      <td>1104</td>\n",
              "      <td>149</td>\n",
              "      <td>158.12</td>\n",
              "    </tr>\n",
              "    <tr>\n",
              "      <th>10</th>\n",
              "      <td>1004</td>\n",
              "      <td>surf</td>\n",
              "      <td>5</td>\n",
              "      <td>6.393760</td>\n",
              "      <td>7</td>\n",
              "      <td>193</td>\n",
              "      <td>21</td>\n",
              "      <td>20.00</td>\n",
              "    </tr>\n",
              "    <tr>\n",
              "      <th>11</th>\n",
              "      <td>1004</td>\n",
              "      <td>surf</td>\n",
              "      <td>6</td>\n",
              "      <td>20.188301</td>\n",
              "      <td>18</td>\n",
              "      <td>275</td>\n",
              "      <td>44</td>\n",
              "      <td>80.00</td>\n",
              "    </tr>\n",
              "  </tbody>\n",
              "</table>\n",
              "</div>"
            ],
            "text/plain": [
              "   user_id      plan  month  ...  call_length  call_made  monthly_revenue\n",
              "0     1000  ultimate     12  ...          124         16            70.00\n",
              "1     1001      surf      8  ...          182         27            20.00\n",
              "2     1001      surf      9  ...          315         49            20.00\n",
              "3     1001      surf     10  ...          393         65            90.09\n",
              "4     1001      surf     11  ...          426         64            60.00\n",
              "5     1001      surf     12  ...          412         56            60.00\n",
              "6     1002      surf     10  ...           59         11            20.00\n",
              "7     1002      surf     11  ...          386         55            60.00\n",
              "8     1002      surf     12  ...          384         47            20.00\n",
              "9     1003      surf     12  ...         1104        149           158.12\n",
              "10    1004      surf      5  ...          193         21            20.00\n",
              "11    1004      surf      6  ...          275         44            80.00\n",
              "\n",
              "[12 rows x 8 columns]"
            ]
          },
          "metadata": {
            "tags": []
          },
          "execution_count": 49
        }
      ]
    },
    {
      "cell_type": "code",
      "metadata": {
        "colab": {
          "base_uri": "https://localhost:8080/",
          "height": 417
        },
        "id": "dtLz71AQ53J4",
        "outputId": "26c01d60-dd9f-4dc2-9704-5ce7cb0ed335"
      },
      "source": [
        "fig = px.histogram(data, x=\"monthly_revenue\", color=\"plan\", hover_data=mean_per_month.columns)\n",
        "fig.update_layout(\n",
        "    autosize=False,\n",
        "    width=800,\n",
        "    height=400,)\n",
        "fig.show()"
      ],
      "execution_count": 50,
      "outputs": [
        {
          "output_type": "display_data",
          "data": {
            "text/html": [
              "<html>\n",
              "<head><meta charset=\"utf-8\" /></head>\n",
              "<body>\n",
              "    <div>\n",
              "            <script src=\"https://cdnjs.cloudflare.com/ajax/libs/mathjax/2.7.5/MathJax.js?config=TeX-AMS-MML_SVG\"></script><script type=\"text/javascript\">if (window.MathJax) {MathJax.Hub.Config({SVG: {font: \"STIX-Web\"}});}</script>\n",
              "                <script type=\"text/javascript\">window.PlotlyConfig = {MathJaxConfig: 'local'};</script>\n",
              "        <script src=\"https://cdn.plot.ly/plotly-latest.min.js\"></script>    \n",
              "            <div id=\"8ccf1827-3ca5-4651-892e-097f337ee90a\" class=\"plotly-graph-div\" style=\"height:400px; width:800px;\"></div>\n",
              "            <script type=\"text/javascript\">\n",
              "                \n",
              "                    window.PLOTLYENV=window.PLOTLYENV || {};\n",
              "                    \n",
              "                if (document.getElementById(\"8ccf1827-3ca5-4651-892e-097f337ee90a\")) {\n",
              "                    Plotly.newPlot(\n",
              "                        '8ccf1827-3ca5-4651-892e-097f337ee90a',\n",
              "                        [{\"alignmentgroup\": \"True\", \"bingroup\": \"x\", \"hoverlabel\": {\"namelength\": 0}, \"hovertemplate\": \"plan=ultimate<br>monthly_revenue=%{x}<br>count=%{y}\", \"legendgroup\": \"plan=ultimate\", \"marker\": {\"color\": \"#636efa\"}, \"name\": \"plan=ultimate\", \"offsetgroup\": \"plan=ultimate\", \"orientation\": \"v\", \"showlegend\": true, \"type\": \"histogram\", \"x\": [70.0, 70.0, 84.0, 70.0, 70.0, 70.0, 70.0, 70.0, 70.0, 70.0, 70.0, 70.0, 70.0, 70.0, 70.0, 70.0, 70.0, 70.0, 112.0, 119.0, 91.0, 126.0, 126.0, 140.0, 70.0, 182.0, 154.0, 119.0, 70.0, 70.0, 70.0, 70.0, 70.0, 70.0, 70.0, 70.0, 70.0, 70.0, 70.0, 70.0, 70.0, 70.0, 70.0, 70.0, 70.0, 70.0, 70.0, 70.0, 70.0, 70.0, 70.0, 70.0, 126.0, 168.0, 70.0, 70.0, 70.0, 70.0, 70.0, 70.0, 70.0, 70.0, 70.0, 70.0, 70.0, 70.0, 70.0, 70.0, 70.0, 70.0, 70.0, 70.0, 70.0, 70.0, 84.0, 77.0, 91.0, 126.0, 70.0, 70.0, 70.0, 70.0, 70.0, 70.0, 70.0, 70.0, 70.0, 70.0, 70.0, 70.0, 70.0, 105.0, 70.0, 70.0, 70.0, 70.0, 70.0, 70.0, 70.0, 70.0, 70.0, 70.0, 70.0, 70.0, 70.0, 70.0, 70.0, 70.0, 70.0, 70.0, 70.0, 70.0, 70.0, 70.0, 70.0, 70.0, 70.0, 70.0, 70.0, 70.0, 70.0, 70.0, 70.0, 70.0, 70.0, 70.0, 70.0, 70.0, 70.0, 70.0, 70.0, 70.0, 70.0, 70.0, 70.0, 70.0, 70.0, 70.0, 70.0, 70.0, 70.0, 70.0, 70.0, 70.0, 70.0, 70.0, 70.0, 70.0, 70.0, 70.0, 70.0, 70.0, 70.0, 70.0, 70.0, 70.0, 70.0, 70.0, 70.0, 70.0, 70.0, 70.0, 70.0, 70.0, 70.0, 70.0, 70.0, 70.0, 70.0, 70.0, 70.0, 70.0, 70.0, 70.0, 70.0, 70.0, 70.0, 70.0, 98.0, 70.0, 70.0, 70.0, 70.0, 70.0, 70.0, 70.0, 70.0, 70.0, 70.0, 70.0, 70.0, 70.0, 70.0, 70.0, 70.0, 70.0, 70.0, 70.0, 70.0, 70.0, 70.0, 70.0, 70.0, 70.0, 70.0, 70.0, 70.0, 70.0, 70.0, 126.0, 112.0, 119.0, 126.0, 70.0, 91.0, 70.0, 70.0, 70.0, 70.0, 70.0, 70.0, 70.0, 70.0, 70.0, 70.0, 70.0, 70.0, 70.0, 70.0, 70.0, 70.0, 70.0, 70.0, 70.0, 70.0, 70.0, 70.0, 70.0, 70.0, 70.0, 70.0, 70.0, 70.0, 70.0, 70.0, 70.0, 70.0, 70.0, 70.0, 70.0, 70.0, 70.0, 70.0, 70.0, 70.0, 70.0, 70.0, 70.0, 70.0, 70.0, 70.0, 70.0, 84.0, 70.0, 70.0, 70.0, 70.0, 70.0, 70.0, 70.0, 70.0, 70.0, 70.0, 70.0, 70.0, 70.0, 70.0, 70.0, 70.0, 70.0, 70.0, 70.0, 70.0, 70.0, 70.0, 70.0, 70.0, 77.0, 70.0, 70.0, 70.0, 70.0, 70.0, 70.0, 70.0, 70.0, 70.0, 70.0, 70.0, 70.0, 70.0, 70.0, 70.0, 70.0, 70.0, 70.0, 112.0, 70.0, 70.0, 70.0, 70.0, 70.0, 70.0, 70.0, 70.0, 70.0, 70.0, 70.0, 70.0, 70.0, 70.0, 70.0, 70.0, 70.0, 70.0, 70.0, 70.0, 70.0, 70.0, 70.0, 70.0, 70.0, 70.0, 70.0, 70.0, 70.0, 70.0, 70.0, 70.0, 70.0, 70.0, 70.0, 70.0, 70.0, 70.0, 70.0, 70.0, 70.0, 70.0, 70.0, 70.0, 70.0, 70.0, 70.0, 70.0, 70.0, 70.0, 70.0, 70.0, 70.0, 70.0, 70.0, 77.0, 70.0, 70.0, 70.0, 70.0, 70.0, 70.0, 70.0, 70.0, 70.0, 70.0, 70.0, 70.0, 70.0, 70.0, 70.0, 70.0, 70.0, 70.0, 70.0, 70.0, 70.0, 70.0, 70.0, 70.0, 70.0, 70.0, 70.0, 70.0, 70.0, 70.0, 70.0, 70.0, 70.0, 70.0, 70.0, 70.0, 70.0, 70.0, 70.0, 70.0, 70.0, 70.0, 70.0, 70.0, 70.0, 70.0, 70.0, 70.0, 70.0, 70.0, 70.0, 70.0, 70.0, 70.0, 91.0, 70.0, 70.0, 70.0, 70.0, 70.0, 70.0, 105.0, 70.0, 70.0, 70.0, 70.0, 70.0, 70.0, 70.0, 70.0, 70.0, 70.0, 70.0, 70.0, 70.0, 70.0, 70.0, 70.0, 70.0, 70.0, 70.0, 70.0, 70.0, 70.0, 70.0, 70.0, 70.0, 70.0, 70.0, 70.0, 70.0, 70.0, 70.0, 70.0, 70.0, 70.0, 70.0, 70.0, 70.0, 70.0, 70.0, 70.0, 70.0, 70.0, 70.0, 70.0, 70.0, 70.0, 70.0, 70.0, 70.0, 70.0, 70.0, 70.0, 70.0, 70.0, 70.0, 70.0, 70.0, 70.0, 70.0, 70.0, 70.0, 70.0, 70.0, 70.0, 70.0, 70.0, 70.0, 70.0, 84.0, 70.0, 112.0, 70.0, 70.0, 70.0, 70.0, 70.0, 70.0, 70.0, 70.0, 70.0, 70.0, 70.0, 70.0, 70.0, 70.0, 70.0, 70.0, 70.0, 70.0, 70.0, 70.0, 70.0, 70.0, 70.0, 70.0, 70.0, 70.0, 70.0, 70.0, 70.0, 70.0, 70.0, 70.0, 70.0, 70.0, 70.0, 70.0, 70.0, 70.0, 70.0, 70.0, 70.0, 70.0, 70.0, 70.0, 70.0, 70.0, 70.0, 70.0, 70.0, 70.0, 70.0, 70.0, 70.0, 70.0, 70.0, 70.0, 70.0, 105.0, 77.0, 70.0, 70.0, 70.0, 70.0, 70.0, 70.0, 70.0, 70.0, 70.0, 70.0, 70.0, 70.0, 70.0, 70.0, 70.0, 70.0, 70.0, 70.0, 70.0, 70.0, 70.0, 70.0, 70.0, 70.0, 70.0, 70.0, 70.0, 70.0, 70.0, 70.0, 70.0, 70.0, 70.0, 70.0, 70.0, 70.0, 70.0, 70.0, 70.0, 70.0, 70.0, 70.0, 70.0, 70.0, 70.0, 70.0, 70.0, 70.0, 70.0, 70.0, 70.0, 70.0, 70.0, 70.0, 70.0, 70.0, 70.0, 70.0, 91.0, 70.0, 70.0, 70.0, 70.0, 70.0, 70.0, 70.0, 70.0, 70.0, 70.0, 70.0, 70.0, 70.0, 70.0, 70.0, 70.0, 70.0, 70.0, 70.0, 70.0, 70.0, 70.0, 70.0, 70.0, 70.0, 70.0, 70.0, 70.0, 70.0, 70.0, 70.0, 70.0, 70.0, 70.0, 70.0, 70.0, 70.0, 70.0, 70.0, 70.0, 70.0, 70.0, 70.0, 70.0, 70.0, 70.0, 91.0, 70.0, 70.0, 105.0, 70.0, 70.0, 77.0, 70.0, 70.0, 70.0, 70.0, 70.0, 70.0, 70.0, 70.0, 70.0, 70.0, 70.0, 70.0, 70.0, 70.0, 70.0, 70.0, 70.0, 70.0, 70.0, 70.0, 70.0, 70.0, 70.0, 70.0, 70.0, 70.0, 70.0, 70.0, 70.0, 70.0, 70.0, 70.0, 70.0, 70.0, 70.0, 70.0, 70.0, 70.0, 70.0, 70.0, 70.0, 70.0, 70.0, 70.0, 70.0, 133.0, 112.0, 119.0, 70.0, 182.0, 70.0, 70.0, 70.0, 70.0, 70.0, 70.0], \"xaxis\": \"x\", \"yaxis\": \"y\"}, {\"alignmentgroup\": \"True\", \"bingroup\": \"x\", \"hoverlabel\": {\"namelength\": 0}, \"hovertemplate\": \"plan=surf<br>monthly_revenue=%{x}<br>count=%{y}\", \"legendgroup\": \"plan=surf\", \"marker\": {\"color\": \"#EF553B\"}, \"name\": \"plan=surf\", \"offsetgroup\": \"plan=surf\", \"orientation\": \"v\", \"showlegend\": true, \"type\": \"histogram\", \"x\": [20.0, 20.0, 90.09, 60.0, 60.0, 20.0, 60.0, 20.0, 158.12, 20.0, 80.0, 110.0, 150.0, 60.0, 20.0, 90.0, 80.0, 40.0, 110.03, 150.0, 244.62, 110.72, 163.51, 71.02, 69.69, 181.4, 116.93, 88.28, 107.2, 126.42, 117.68, 20.0, 74.68, 30.96, 41.59, 25.939999999999998, 74.11, 43.03, 46.33, 20.0, 20.0, 20.0, 20.0, 38.84, 50.54, 20.0, 144.47, 160.11, 20.0, 110.0, 150.0, 60.0, 80.0, 20.0, 24.08, 40.0, 20.0, 152.34, 20.0, 70.0, 20.0, 20.0, 100.0, 20.0, 83.93, 20.3, 62.22, 90.0, 52.55, 20.0, 20.0, 21.92, 20.0, 70.0, 40.0, 20.0, 30.0, 20.0, 20.0, 27.89, 55.76, 24.14, 83.96, 20.0, 34.29, 40.0, 20.0, 20.0, 20.0, 20.0, 20.0, 20.0, 20.0, 20.0, 20.0, 20.0, 20.0, 20.0, 90.0, 80.0, 110.0, 30.0, 20.0, 122.01, 43.69, 20.0, 90.3, 120.21, 120.66, 132.28, 120.0, 24.32, 20.0, 20.0, 20.0, 20.0, 20.0, 20.0, 20.0, 20.0, 20.0, 20.0, 20.0, 20.0, 20.0, 20.0, 20.3, 20.06, 167.48, 20.0, 80.0, 90.0, 40.0, 70.33, 30.0, 20.0, 50.0, 80.0, 30.0, 110.0, 70.0, 80.0, 80.0, 100.0, 20.0, 20.54, 30.87, 21.32, 20.72, 70.66, 21.35, 30.84, 20.0, 90.0, 30.0, 60.0, 60.0, 120.0, 21.98, 24.38, 20.0, 135.22, 116.27, 62.85, 129.81, 20.0, 30.0, 93.96, 41.89, 54.32, 20.84, 50.0, 20.0, 46.69, 73.78, 50.0, 20.0, 90.0, 90.0, 40.0, 70.0, 70.0, 80.42, 80.0, 80.0, 50.3, 20.0, 80.0, 70.0, 30.0, 20.0, 20.0, 20.0, 20.0, 20.0, 60.0, 20.0, 50.0, 30.0, 20.0, 20.0, 72.46, 20.63, 20.0, 21.26, 20.0, 80.0, 40.0, 143.9, 132.28, 143.42, 200.0, 210.0, 20.0, 20.0, 20.0, 20.0, 40.0, 20.0, 20.0, 20.0, 40.0, 20.0, 20.93, 20.42, 20.03, 20.0, 123.18, 102.85, 83.27, 82.67, 32.46, 20.0, 20.0, 20.0, 90.86, 55.489999999999995, 47.589999999999996, 26.09, 31.189999999999998, 80.0, 120.42, 170.27, 200.0, 110.33, 20.0, 20.0, 50.0, 30.0, 30.0, 50.0, 20.0, 20.0, 50.0, 20.0, 26.15, 54.95, 21.47, 75.4, 23.509999999999998, 53.15, 64.11, 97.23, 20.0, 50.81, 80.0, 20.0, 93.10999999999999, 157.53, 20.0, 20.0, 40.0, 20.0, 30.0, 140.0, 90.0, 40.0, 20.0, 80.0, 20.0, 93.42, 20.0, 20.0, 163.86, 117.17, 20.0, 20.0, 20.0, 30.0, 30.0, 20.0, 20.0, 50.0, 60.0, 20.0, 26.33, 45.85, 83.72, 69.36, 50.03, 162.97, 185.49, 181.17000000000002, 161.44, 20.0, 86.84, 30.84, 80.36, 20.0, 20.0, 40.0, 40.0, 70.45, 26.57, 31.32, 20.0, 60.0, 40.42, 120.0, 90.69, 20.0, 40.93, 20.6, 20.48, 21.68, 20.84, 30.84, 20.45, 21.05, 20.0, 60.0, 60.0, 80.0, 50.0, 20.0, 31.46, 32.75, 20.0, 60.18, 63.09, 112.79, 150.12, 60.0, 121.86, 92.07, 20.0, 20.0, 22.16, 70.69, 20.42, 20.0, 23.06, 20.0, 20.0, 20.0, 110.72, 71.44, 120.27, 110.69, 90.09, 70.0, 80.0, 20.0, 31.71, 50.870000000000005, 21.26, 20.0, 87.98, 25.34, 37.92, 145.73, 59.510000000000005, 20.0, 73.56, 20.0, 20.0, 20.0, 50.0, 100.0, 90.09, 60.0, 50.0, 120.0, 42.269999999999996, 21.65, 22.34, 22.49, 100.0, 100.0, 90.0, 90.0, 60.0, 150.09, 50.0, 80.0, 60.15, 20.0, 531.41, 20.0, 50.09, 30.0, 160.03, 90.0, 50.0, 40.0, 80.0, 20.0, 201.83, 61.56, 50.0, 93.6, 80.0, 126.48, 100.63000000000001, 20.0, 90.0, 80.0, 130.0, 110.0, 150.0, 90.0, 20.0, 20.03, 82.01, 23.75, 51.620000000000005, 20.0, 20.0, 40.0, 20.0, 30.0, 80.0, 20.0, 20.0, 30.0, 50.0, 100.0, 110.0, 20.0, 80.21, 90.27, 20.0, 20.42, 20.18, 30.0, 50.0, 70.0, 100.0, 60.9, 110.0, 61.47, 80.0, 110.0, 40.0, 20.0, 20.0, 40.18, 20.0, 119.12, 82.31, 26.75, 51.07, 20.0, 20.0, 28.58, 45.37, 30.2, 47.07, 49.18, 61.07, 20.0, 90.0, 20.0, 60.0, 30.0, 20.0, 20.0, 40.84, 40.75, 40.72, 110.63, 70.42, 60.33, 20.0, 71.08, 51.769999999999996, 167.77, 224.23, 238.61, 214.4, 231.92, 245.07, 129.24, 143.59, 20.0, 54.08, 20.0, 20.15, 22.94, 20.0, 20.0, 20.21, 80.33, 45.04, 26.6, 44.17, 37.23, 20.0, 23.509999999999998, 25.46, 62.46, 29.060000000000002, 44.769999999999996, 23.9, 20.0, 110.06, 92.88, 100.96, 50.0, 70.0, 70.0, 54.35, 50.0, 20.0, 30.0, 20.9, 20.0, 20.0, 20.24, 20.0, 73.78, 41.77, 33.03, 104.26, 25.4, 125.46, 100.81, 103.06, 20.0, 60.0, 30.0, 40.0, 70.0, 150.0, 70.0, 20.0, 24.38, 22.91, 22.43, 20.0, 34.26, 24.02, 23.419999999999998, 20.0, 61.849999999999994, 20.0, 121.85, 156.36, 121.28, 30.0, 120.0, 80.0, 80.0, 50.0, 70.0, 40.0, 90.0, 130.0, 70.0, 60.0, 20.0, 196.42, 222.54999999999998, 124.71, 118.33999999999999, 20.0, 20.42, 20.12, 94.56, 20.0, 75.82000000000001, 102.19, 122.91, 46.36000000000001, 94.23, 50.989999999999995, 25.28, 106.09, 46.54, 43.27, 20.0, 151.77, 130.78, 20.0, 130.0, 20.0, 50.0, 90.0, 20.0, 42.82, 20.0, 20.0, 50.0, 20.48, 24.23, 20.0, 22.34, 46.3, 32.73, 20.0, 64.2, 50.0, 43.45, 50.36, 20.0, 50.0, 80.0, 60.0, 40.0, 80.0, 90.0, 50.0, 20.0, 57.02, 84.28999999999999, 22.04, 83.78, 133.78, 41.95, 90.63, 34.68, 46.39, 30.0, 82.76, 20.0, 90.06, 40.0, 80.0, 20.0, 22.37, 23.36, 20.03, 70.69, 30.24, 70.15, 60.21, 40.42, 20.0, 240.78, 181.14, 290.36, 180.18, 20.0, 27.71, 55.459999999999994, 28.82, 23.06, 58.64, 20.0, 110.0, 20.0, 20.0, 20.0, 33.15, 110.0, 140.45, 223.81, 120.0, 160.0, 250.0, 140.0, 20.0, 52.13, 23.0, 20.0, 20.24, 70.0, 51.92, 45.13, 20.0, 20.0, 20.0, 60.45, 60.0, 160.0, 140.0, 130.0, 100.0, 150.0, 20.0, 30.15, 20.0, 186.9, 58.91, 26.99, 105.46, 20.6, 21.8, 21.44, 20.0, 20.0, 20.0, 20.0, 20.0, 20.0, 20.0, 60.120000000000005, 193.35, 227.23, 231.45, 20.0, 20.0, 20.0, 30.0, 80.84, 104.5, 52.31, 20.0, 23.45, 146.36, 20.0, 55.73, 20.0, 74.17, 112.1, 82.07, 74.02, 20.0, 61.74, 20.0, 115.97, 50.78, 41.95, 75.16, 53.54, 24.11, 114.05, 77.29, 74.47, 85.7, 111.77, 121.38, 20.0, 60.0, 20.0, 20.0, 20.0, 20.0, 23.509999999999998, 30.15, 32.37, 34.05, 100.0, 30.66, 55.34, 54.41, 20.0, 100.0, 60.0, 20.0, 20.0, 90.0, 100.42, 20.0, 22.43, 44.53, 20.0, 230.28, 377.85, 201.36, 310.82, 215.57, 298.57, 20.0, 27.08, 23.27, 22.46, 20.48, 20.36, 20.42, 20.0, 90.0, 160.0, 70.0, 70.0, 20.0, 20.0, 20.0, 20.0, 20.0, 20.0, 20.0, 55.54, 20.0, 100.0, 82.01, 160.0, 102.7, 213.42, 81.11, 164.56, 51.5, 82.67, 20.0, 20.0, 20.0, 30.0, 40.0, 20.0, 20.0, 82.91000000000001, 51.86, 82.85000000000001, 83.15, 41.8, 20.0, 20.93, 83.12, 20.9, 20.0, 37.35, 23.18, 20.6, 20.36, 22.7, 23.33, 77.41, 34.23, 20.0, 70.0, 60.0, 50.15, 80.0, 110.0, 20.0, 20.0, 20.0, 20.0, 20.0, 20.0, 20.0, 20.0, 20.0, 20.0, 71.02000000000001, 20.0, 50.120000000000005, 90.06, 80.99, 20.06, 120.39, 50.0, 43.81, 53.24, 31.86, 42.37, 30.21, 20.0, 24.29, 21.8, 36.99, 60.0, 43.12, 81.65, 20.15, 62.73, 82.1, 20.0, 150.0, 20.0, 20.0, 272.55, 70.0, 133.51, 231.95, 240.0, 260.63, 210.0, 120.0, 210.0, 164.77, 190.0, 51.919999999999995, 20.0, 284.14, 20.0, 40.0, 20.0, 70.0, 20.0, 108.73, 95.34, 107.14, 134.86, 49.72, 77.08, 127.2, 86.21, 20.0, 100.0, 20.0, 40.0, 20.45, 50.0, 42.7, 20.0, 53.449999999999996, 20.0, 25.759999999999998, 23.24, 20.0, 27.2, 24.35, 91.83, 186.81, 137.74, 93.95, 20.0, 20.0, 20.0, 20.0, 20.27, 20.0, 21.23, 42.129999999999995, 20.0, 20.0, 20.0, 20.0, 20.0, 20.0, 21.74, 35.13, 84.26, 80.0, 23.42, 85.43, 20.51, 23.78, 80.0, 380.0, 200.0, 330.0, 210.0, 380.0, 50.0, 192.25, 273.51, 173.12, 164.89000000000001, 20.0, 174.77, 20.0, 20.0, 43.54, 70.36, 53.57, 90.0, 20.0, 20.0, 54.290000000000006, 20.0, 41.23, 50.0, 60.0, 60.0, 20.0, 50.0, 20.0, 23.54, 20.0, 20.0, 20.0, 110.0, 20.0, 151.2, 100.53999999999999, 20.0, 20.0, 40.0, 20.0, 20.63, 50.0, 30.0, 31.08, 30.0, 20.0, 20.0, 20.0, 90.0, 20.0, 33.93, 20.0, 80.0, 80.0, 150.0, 90.0, 40.0, 140.0, 121.02, 60.0, 80.0, 20.0, 20.0, 50.0, 36.39, 52.22, 91.92, 75.76, 24.2, 20.0, 20.0, 20.0, 20.0, 40.33, 70.3, 110.33, 70.27, 70.48, 120.6, 20.0, 50.0, 120.0, 70.0, 20.0, 20.0, 91.28, 31.099999999999998, 101.39999999999999, 101.82, 31.85, 139.99, 84.39999999999999, 47.519999999999996, 51.89, 112.43, 70.0, 60.0, 100.0, 20.57, 100.0, 20.0, 20.0, 20.0, 40.0, 40.0, 20.0, 38.39, 67.61, 88.21, 86.58999999999999, 38.629999999999995, 107.66999999999999, 99.14, 76.1, 49.260000000000005, 20.0, 150.0, 21.8, 36.5, 30.919999999999998, 31.669999999999998, 36.2, 37.64, 20.0, 60.0, 140.0, 121.95, 62.58, 20.0, 182.87, 123.26, 245.51000000000002, 85.67, 97.83, 162.78, 171.91, 114.72999999999999, 41.14, 41.47, 31.05, 20.93, 71.11, 110.0, 80.0, 150.0, 90.0, 40.0, 20.0, 38.85, 36.65, 51.83, 64.4, 70.92, 30.08, 109.24, 75.63, 36.980000000000004, 61.2, 61.47, 82.46000000000001, 50.870000000000005, 31.5, 43.75000000000001, 41.17, 31.470000000000002, 43.75, 114.25, 42.57, 23.24, 82.4, 67.68, 58.49, 46.42, 20.0, 46.42, 20.0, 52.97, 34.35, 28.58, 100.0, 20.27, 20.63, 20.84, 20.78, 21.2, 20.72, 20.72, 21.08, 21.11, 24.65, 21.26, 20.0, 106.45, 115.82, 20.57, 20.0, 31.62, 122.61, 42.519999999999996, 81.95, 20.0, 20.0, 20.0, 22.82, 20.9, 27.71, 28.549999999999997, 20.78, 40.66, 20.33, 20.0, 116.09, 20.0, 20.0, 60.0, 90.0, 20.0, 50.0, 50.0, 20.0, 21.23, 24.86, 73.69, 20.0, 80.0, 30.0, 70.0, 20.0, 21.35, 24.8, 71.68, 20.03, 20.0, 20.0, 61.17, 40.0, 50.0, 50.84, 50.0, 40.0, 40.0, 20.0, 70.0, 170.0, 130.15, 120.96, 100.0, 160.0, 210.0, 170.0, 140.0, 140.0, 190.0, 119.42, 20.0, 20.0, 20.0, 80.0, 40.0, 20.0, 70.0, 40.15, 20.0, 29.57, 48.91, 24.29, 23.27, 60.45, 33.8, 25.43, 23.689999999999998, 25.34, 26.779999999999998, 24.95, 20.0, 20.0, 30.0, 20.0, 50.0, 20.0, 37.519999999999996, 38.15, 38.93, 41.81, 37.97, 45.709999999999994, 20.0, 53.24, 74.53, 64.68, 75.55, 20.0, 60.0, 40.0, 60.0, 40.0, 50.0, 20.0, 231.86, 20.0, 40.0, 100.0, 60.120000000000005, 20.0, 170.51, 220.48, 200.39, 240.63, 90.33, 170.9, 120.9, 170.99, 20.93, 20.0, 130.0, 80.0, 62.37, 90.0, 110.0, 20.0, 50.0, 590.37, 20.39, 125.28, 113.9, 83.63000000000001, 20.0, 23.6, 21.41, 21.38, 50.15, 20.0, 50.0, 30.0, 80.0, 41.89, 20.0, 90.0, 20.0, 100.39, 80.3, 64.62, 80.0, 20.0, 90.36, 110.0, 120.09, 60.3, 40.36, 30.799999999999997, 31.64, 20.0, 60.0, 20.0, 40.0, 20.0, 120.0, 60.0, 30.0, 49.06, 123.35, 89.0, 89.9, 129.24, 53.69, 123.35, 20.0, 20.0, 30.0, 30.0, 100.0, 100.0, 80.0, 120.0, 60.0, 160.0, 20.0, 20.0, 40.18, 20.0, 80.0, 20.87, 23.03, 52.28, 22.43, 90.84, 20.0, 40.0, 20.0, 30.0, 80.0, 53.78, 115.04, 22.7, 81.59, 20.0, 60.0, 20.0, 40.0, 60.0, 130.0, 60.0, 50.0, 100.0, 110.0, 20.0, 40.78, 20.0, 20.0, 40.0, 20.66, 50.0, 40.0, 21.74, 20.0, 20.0, 50.0, 70.0, 42.73, 20.0, 20.0, 20.06, 20.0, 21.62, 20.0, 20.0, 120.39, 121.97999999999999, 140.0, 170.12, 52.61, 70.0, 80.0, 51.47, 100.99, 80.0, 40.0, 30.0, 220.0, 20.0, 200.0, 210.0, 230.0, 280.0, 20.54, 72.87, 20.0, 40.510000000000005, 61.11, 20.0, 20.0, 20.0, 50.0, 110.0, 50.0, 20.0, 43.6, 74.5, 20.0, 92.28, 20.0, 100.0, 115.1, 30.0, 20.0, 20.0, 20.0, 20.42, 20.0, 20.0, 20.0, 20.6, 50.33, 20.0, 77.32, 20.0, 50.09, 50.0, 80.15, 20.15, 50.57, 70.27, 20.6, 20.51, 50.81, 20.6, 90.33, 20.0, 66.42, 45.28, 95.94, 105.97, 71.86, 28.61, 23.54, 20.0, 148.16, 20.0, 40.09, 120.12, 90.0, 60.09, 20.0, 110.0, 60.0, 70.0, 20.0, 270.54, 243.39, 20.0, 20.15, 20.27, 60.0, 30.0, 110.0, 20.0, 21.529999999999998, 20.0, 20.0, 20.0, 20.0, 20.0, 20.0, 20.93, 63.87, 20.0, 20.0, 70.0, 20.0, 50.0, 20.03, 20.0, 20.0, 20.0, 60.0, 60.0, 20.24, 20.0, 180.0, 20.0, 20.0, 20.0, 20.0, 23.3, 64.83, 24.29, 22.16, 40.0, 20.0, 20.0, 20.0, 100.0, 60.0, 50.0, 50.0, 22.22, 37.879999999999995, 21.26, 20.0, 20.0, 20.0, 20.0, 25.37, 20.0, 20.0, 20.0, 20.0, 20.99, 70.0, 70.0, 20.0, 76.3, 143.78, 105.64, 64.17, 107.2, 68.85, 76.63, 20.27, 21.56, 51.230000000000004, 21.08, 20.0, 20.12, 20.42, 20.0, 20.0, 22.580000000000002, 20.0, 20.0, 20.0, 20.0, 40.0, 20.0, 20.0, 40.0, 30.0, 23.48, 50.27, 20.0, 100.0, 143.3, 120.0, 110.0, 20.0, 40.0, 20.0, 20.0, 40.0, 70.0, 70.0, 70.0, 90.0, 20.0, 120.0, 70.0, 100.0, 80.0, 60.0, 100.0, 20.0, 70.0, 40.0, 90.0], \"xaxis\": \"x\", \"yaxis\": \"y\"}],\n",
              "                        {\"autosize\": false, \"barmode\": \"relative\", \"height\": 400, \"legend\": {\"tracegroupgap\": 0}, \"margin\": {\"t\": 60}, \"template\": {\"data\": {\"bar\": [{\"error_x\": {\"color\": \"#2a3f5f\"}, \"error_y\": {\"color\": \"#2a3f5f\"}, \"marker\": {\"line\": {\"color\": \"#E5ECF6\", \"width\": 0.5}}, \"type\": \"bar\"}], \"barpolar\": [{\"marker\": {\"line\": {\"color\": \"#E5ECF6\", \"width\": 0.5}}, \"type\": \"barpolar\"}], \"carpet\": [{\"aaxis\": {\"endlinecolor\": \"#2a3f5f\", \"gridcolor\": \"white\", \"linecolor\": \"white\", \"minorgridcolor\": \"white\", \"startlinecolor\": \"#2a3f5f\"}, \"baxis\": {\"endlinecolor\": \"#2a3f5f\", \"gridcolor\": \"white\", \"linecolor\": \"white\", \"minorgridcolor\": \"white\", \"startlinecolor\": \"#2a3f5f\"}, \"type\": \"carpet\"}], \"choropleth\": [{\"colorbar\": {\"outlinewidth\": 0, \"ticks\": \"\"}, \"type\": \"choropleth\"}], \"contour\": [{\"colorbar\": {\"outlinewidth\": 0, \"ticks\": \"\"}, \"colorscale\": [[0.0, \"#0d0887\"], [0.1111111111111111, \"#46039f\"], [0.2222222222222222, \"#7201a8\"], [0.3333333333333333, \"#9c179e\"], [0.4444444444444444, \"#bd3786\"], [0.5555555555555556, \"#d8576b\"], [0.6666666666666666, \"#ed7953\"], [0.7777777777777778, \"#fb9f3a\"], [0.8888888888888888, \"#fdca26\"], [1.0, \"#f0f921\"]], \"type\": \"contour\"}], \"contourcarpet\": [{\"colorbar\": {\"outlinewidth\": 0, \"ticks\": \"\"}, \"type\": \"contourcarpet\"}], \"heatmap\": [{\"colorbar\": {\"outlinewidth\": 0, \"ticks\": \"\"}, \"colorscale\": [[0.0, \"#0d0887\"], [0.1111111111111111, \"#46039f\"], [0.2222222222222222, \"#7201a8\"], [0.3333333333333333, \"#9c179e\"], [0.4444444444444444, \"#bd3786\"], [0.5555555555555556, \"#d8576b\"], [0.6666666666666666, \"#ed7953\"], [0.7777777777777778, \"#fb9f3a\"], [0.8888888888888888, \"#fdca26\"], [1.0, \"#f0f921\"]], \"type\": \"heatmap\"}], \"heatmapgl\": [{\"colorbar\": {\"outlinewidth\": 0, \"ticks\": \"\"}, \"colorscale\": [[0.0, \"#0d0887\"], [0.1111111111111111, \"#46039f\"], [0.2222222222222222, \"#7201a8\"], [0.3333333333333333, \"#9c179e\"], [0.4444444444444444, \"#bd3786\"], [0.5555555555555556, \"#d8576b\"], [0.6666666666666666, \"#ed7953\"], [0.7777777777777778, \"#fb9f3a\"], [0.8888888888888888, \"#fdca26\"], [1.0, \"#f0f921\"]], \"type\": \"heatmapgl\"}], \"histogram\": [{\"marker\": {\"colorbar\": {\"outlinewidth\": 0, \"ticks\": \"\"}}, \"type\": \"histogram\"}], \"histogram2d\": [{\"colorbar\": {\"outlinewidth\": 0, \"ticks\": \"\"}, \"colorscale\": [[0.0, \"#0d0887\"], [0.1111111111111111, \"#46039f\"], [0.2222222222222222, \"#7201a8\"], [0.3333333333333333, \"#9c179e\"], [0.4444444444444444, \"#bd3786\"], [0.5555555555555556, \"#d8576b\"], [0.6666666666666666, \"#ed7953\"], [0.7777777777777778, \"#fb9f3a\"], [0.8888888888888888, \"#fdca26\"], [1.0, \"#f0f921\"]], \"type\": \"histogram2d\"}], \"histogram2dcontour\": [{\"colorbar\": {\"outlinewidth\": 0, \"ticks\": \"\"}, \"colorscale\": [[0.0, \"#0d0887\"], [0.1111111111111111, \"#46039f\"], [0.2222222222222222, \"#7201a8\"], [0.3333333333333333, \"#9c179e\"], [0.4444444444444444, \"#bd3786\"], [0.5555555555555556, \"#d8576b\"], [0.6666666666666666, \"#ed7953\"], [0.7777777777777778, \"#fb9f3a\"], [0.8888888888888888, \"#fdca26\"], [1.0, \"#f0f921\"]], \"type\": \"histogram2dcontour\"}], \"mesh3d\": [{\"colorbar\": {\"outlinewidth\": 0, \"ticks\": \"\"}, \"type\": \"mesh3d\"}], \"parcoords\": [{\"line\": {\"colorbar\": {\"outlinewidth\": 0, \"ticks\": \"\"}}, \"type\": \"parcoords\"}], \"pie\": [{\"automargin\": true, \"type\": \"pie\"}], \"scatter\": [{\"marker\": {\"colorbar\": {\"outlinewidth\": 0, \"ticks\": \"\"}}, \"type\": \"scatter\"}], \"scatter3d\": [{\"line\": {\"colorbar\": {\"outlinewidth\": 0, \"ticks\": \"\"}}, \"marker\": {\"colorbar\": {\"outlinewidth\": 0, \"ticks\": \"\"}}, \"type\": \"scatter3d\"}], \"scattercarpet\": [{\"marker\": {\"colorbar\": {\"outlinewidth\": 0, \"ticks\": \"\"}}, \"type\": \"scattercarpet\"}], \"scattergeo\": [{\"marker\": {\"colorbar\": {\"outlinewidth\": 0, \"ticks\": \"\"}}, \"type\": \"scattergeo\"}], \"scattergl\": [{\"marker\": {\"colorbar\": {\"outlinewidth\": 0, \"ticks\": \"\"}}, \"type\": \"scattergl\"}], \"scattermapbox\": [{\"marker\": {\"colorbar\": {\"outlinewidth\": 0, \"ticks\": \"\"}}, \"type\": \"scattermapbox\"}], \"scatterpolar\": [{\"marker\": {\"colorbar\": {\"outlinewidth\": 0, \"ticks\": \"\"}}, \"type\": \"scatterpolar\"}], \"scatterpolargl\": [{\"marker\": {\"colorbar\": {\"outlinewidth\": 0, \"ticks\": \"\"}}, \"type\": \"scatterpolargl\"}], \"scatterternary\": [{\"marker\": {\"colorbar\": {\"outlinewidth\": 0, \"ticks\": \"\"}}, \"type\": \"scatterternary\"}], \"surface\": [{\"colorbar\": {\"outlinewidth\": 0, \"ticks\": \"\"}, \"colorscale\": [[0.0, \"#0d0887\"], [0.1111111111111111, \"#46039f\"], [0.2222222222222222, \"#7201a8\"], [0.3333333333333333, \"#9c179e\"], [0.4444444444444444, \"#bd3786\"], [0.5555555555555556, \"#d8576b\"], [0.6666666666666666, \"#ed7953\"], [0.7777777777777778, \"#fb9f3a\"], [0.8888888888888888, \"#fdca26\"], [1.0, \"#f0f921\"]], \"type\": \"surface\"}], \"table\": [{\"cells\": {\"fill\": {\"color\": \"#EBF0F8\"}, \"line\": {\"color\": \"white\"}}, \"header\": {\"fill\": {\"color\": \"#C8D4E3\"}, \"line\": {\"color\": \"white\"}}, \"type\": \"table\"}]}, \"layout\": {\"annotationdefaults\": {\"arrowcolor\": \"#2a3f5f\", \"arrowhead\": 0, \"arrowwidth\": 1}, \"coloraxis\": {\"colorbar\": {\"outlinewidth\": 0, \"ticks\": \"\"}}, \"colorscale\": {\"diverging\": [[0, \"#8e0152\"], [0.1, \"#c51b7d\"], [0.2, \"#de77ae\"], [0.3, \"#f1b6da\"], [0.4, \"#fde0ef\"], [0.5, \"#f7f7f7\"], [0.6, \"#e6f5d0\"], [0.7, \"#b8e186\"], [0.8, \"#7fbc41\"], [0.9, \"#4d9221\"], [1, \"#276419\"]], \"sequential\": [[0.0, \"#0d0887\"], [0.1111111111111111, \"#46039f\"], [0.2222222222222222, \"#7201a8\"], [0.3333333333333333, \"#9c179e\"], [0.4444444444444444, \"#bd3786\"], [0.5555555555555556, \"#d8576b\"], [0.6666666666666666, \"#ed7953\"], [0.7777777777777778, \"#fb9f3a\"], [0.8888888888888888, \"#fdca26\"], [1.0, \"#f0f921\"]], \"sequentialminus\": [[0.0, \"#0d0887\"], [0.1111111111111111, \"#46039f\"], [0.2222222222222222, \"#7201a8\"], [0.3333333333333333, \"#9c179e\"], [0.4444444444444444, \"#bd3786\"], [0.5555555555555556, \"#d8576b\"], [0.6666666666666666, \"#ed7953\"], [0.7777777777777778, \"#fb9f3a\"], [0.8888888888888888, \"#fdca26\"], [1.0, \"#f0f921\"]]}, \"colorway\": [\"#636efa\", \"#EF553B\", \"#00cc96\", \"#ab63fa\", \"#FFA15A\", \"#19d3f3\", \"#FF6692\", \"#B6E880\", \"#FF97FF\", \"#FECB52\"], \"font\": {\"color\": \"#2a3f5f\"}, \"geo\": {\"bgcolor\": \"white\", \"lakecolor\": \"white\", \"landcolor\": \"#E5ECF6\", \"showlakes\": true, \"showland\": true, \"subunitcolor\": \"white\"}, \"hoverlabel\": {\"align\": \"left\"}, \"hovermode\": \"closest\", \"mapbox\": {\"style\": \"light\"}, \"paper_bgcolor\": \"white\", \"plot_bgcolor\": \"#E5ECF6\", \"polar\": {\"angularaxis\": {\"gridcolor\": \"white\", \"linecolor\": \"white\", \"ticks\": \"\"}, \"bgcolor\": \"#E5ECF6\", \"radialaxis\": {\"gridcolor\": \"white\", \"linecolor\": \"white\", \"ticks\": \"\"}}, \"scene\": {\"xaxis\": {\"backgroundcolor\": \"#E5ECF6\", \"gridcolor\": \"white\", \"gridwidth\": 2, \"linecolor\": \"white\", \"showbackground\": true, \"ticks\": \"\", \"zerolinecolor\": \"white\"}, \"yaxis\": {\"backgroundcolor\": \"#E5ECF6\", \"gridcolor\": \"white\", \"gridwidth\": 2, \"linecolor\": \"white\", \"showbackground\": true, \"ticks\": \"\", \"zerolinecolor\": \"white\"}, \"zaxis\": {\"backgroundcolor\": \"#E5ECF6\", \"gridcolor\": \"white\", \"gridwidth\": 2, \"linecolor\": \"white\", \"showbackground\": true, \"ticks\": \"\", \"zerolinecolor\": \"white\"}}, \"shapedefaults\": {\"line\": {\"color\": \"#2a3f5f\"}}, \"ternary\": {\"aaxis\": {\"gridcolor\": \"white\", \"linecolor\": \"white\", \"ticks\": \"\"}, \"baxis\": {\"gridcolor\": \"white\", \"linecolor\": \"white\", \"ticks\": \"\"}, \"bgcolor\": \"#E5ECF6\", \"caxis\": {\"gridcolor\": \"white\", \"linecolor\": \"white\", \"ticks\": \"\"}}, \"title\": {\"x\": 0.05}, \"xaxis\": {\"automargin\": true, \"gridcolor\": \"white\", \"linecolor\": \"white\", \"ticks\": \"\", \"title\": {\"standoff\": 15}, \"zerolinecolor\": \"white\", \"zerolinewidth\": 2}, \"yaxis\": {\"automargin\": true, \"gridcolor\": \"white\", \"linecolor\": \"white\", \"ticks\": \"\", \"title\": {\"standoff\": 15}, \"zerolinecolor\": \"white\", \"zerolinewidth\": 2}}}, \"width\": 800, \"xaxis\": {\"anchor\": \"y\", \"domain\": [0.0, 1.0], \"title\": {\"text\": \"monthly_revenue\"}}, \"yaxis\": {\"anchor\": \"x\", \"domain\": [0.0, 1.0], \"title\": {\"text\": \"count\"}}},\n",
              "                        {\"responsive\": true}\n",
              "                    ).then(function(){\n",
              "                            \n",
              "var gd = document.getElementById('8ccf1827-3ca5-4651-892e-097f337ee90a');\n",
              "var x = new MutationObserver(function (mutations, observer) {{\n",
              "        var display = window.getComputedStyle(gd).display;\n",
              "        if (!display || display === 'none') {{\n",
              "            console.log([gd, 'removed!']);\n",
              "            Plotly.purge(gd);\n",
              "            observer.disconnect();\n",
              "        }}\n",
              "}});\n",
              "\n",
              "// Listen for the removal of the full notebook cells\n",
              "var notebookContainer = gd.closest('#notebook-container');\n",
              "if (notebookContainer) {{\n",
              "    x.observe(notebookContainer, {childList: true});\n",
              "}}\n",
              "\n",
              "// Listen for the clearing of the current output cell\n",
              "var outputEl = gd.closest('.output');\n",
              "if (outputEl) {{\n",
              "    x.observe(outputEl, {childList: true});\n",
              "}}\n",
              "\n",
              "                        })\n",
              "                };\n",
              "                \n",
              "            </script>\n",
              "        </div>\n",
              "</body>\n",
              "</html>"
            ]
          },
          "metadata": {
            "tags": []
          }
        }
      ]
    },
    {
      "cell_type": "markdown",
      "metadata": {
        "id": "mZwG5d9CASK7"
      },
      "source": [
        "as we concluded before we can see that there is more variance in the monthly revenue from surf plan and there are more outliers in that data"
      ]
    },
    {
      "cell_type": "code",
      "metadata": {
        "colab": {
          "base_uri": "https://localhost:8080/",
          "height": 1000
        },
        "id": "YuOqrE7m7-t-",
        "outputId": "7f4c285d-5d41-4e46-84d9-e4fb06d0c225"
      },
      "source": [
        "for i in [\"gb_used\",\"message_send\",\t\"call_length\", \"call_made\"]:\n",
        "  fig = px.histogram(mean_per_month, x=i, color=\"plan\", marginal=\"rug\",\n",
        "                    hover_data=mean_per_month.columns, title=\"{} a month\".format(i))\n",
        "  fig.update_layout(\n",
        "    autosize=False,\n",
        "    width=800,\n",
        "    height=400,)\n",
        "  fig.show()"
      ],
      "execution_count": 51,
      "outputs": [
        {
          "output_type": "display_data",
          "data": {
            "text/html": [
              "<html>\n",
              "<head><meta charset=\"utf-8\" /></head>\n",
              "<body>\n",
              "    <div>\n",
              "            <script src=\"https://cdnjs.cloudflare.com/ajax/libs/mathjax/2.7.5/MathJax.js?config=TeX-AMS-MML_SVG\"></script><script type=\"text/javascript\">if (window.MathJax) {MathJax.Hub.Config({SVG: {font: \"STIX-Web\"}});}</script>\n",
              "                <script type=\"text/javascript\">window.PlotlyConfig = {MathJaxConfig: 'local'};</script>\n",
              "        <script src=\"https://cdn.plot.ly/plotly-latest.min.js\"></script>    \n",
              "            <div id=\"86a626c6-b18c-4e2b-8797-056c239d3c2f\" class=\"plotly-graph-div\" style=\"height:400px; width:800px;\"></div>\n",
              "            <script type=\"text/javascript\">\n",
              "                \n",
              "                    window.PLOTLYENV=window.PLOTLYENV || {};\n",
              "                    \n",
              "                if (document.getElementById(\"86a626c6-b18c-4e2b-8797-056c239d3c2f\")) {\n",
              "                    Plotly.newPlot(\n",
              "                        '86a626c6-b18c-4e2b-8797-056c239d3c2f',\n",
              "                        [{\"alignmentgroup\": \"True\", \"bingroup\": \"x\", \"hoverlabel\": {\"namelength\": 0}, \"hovertemplate\": \"plan=surf<br>gb_used=%{x}<br>count=%{y}\", \"legendgroup\": \"plan=surf\", \"marker\": {\"color\": \"#636efa\"}, \"name\": \"plan=surf\", \"offsetgroup\": \"plan=surf\", \"orientation\": \"v\", \"showlegend\": true, \"type\": \"histogram\", \"x\": [0.0, 4.76060546875, 11.893401692708332, 13.032656249999995, 11.942166573660714, 13.788796900699008, 15.257486944901315, 16.52682023111979, 16.711156643081765, 16.28652075574806, 17.12233911758814, 16.069871135453734, 17.763349208891945], \"xaxis\": \"x\", \"yaxis\": \"y\"}, {\"alignmentgroup\": \"True\", \"boxpoints\": \"all\", \"customdata\": [[\"surf\", 0, 0.0, 0.0, 0.0, 0.0, 20.0], [\"surf\", 1, 203.0, 30.0, 4.76060546875, 10.5, 20.0], [\"surf\", 2, 297.0, 40.666666666666664, 11.893401692708332, 12.0, 34.39666666666667], [\"surf\", 3, 330.0, 46.43478260869565, 13.032656249999995, 15.26086956521739, 45.94130434782609], [\"surf\", 4, 357.81632653061223, 49.714285714285715, 11.942166573660714, 17.632653061224488, 41.133265306122446], [\"surf\", 5, 401.6842105263158, 56.06578947368421, 13.788796900699008, 23.657894736842106, 47.99131578947369], [\"surf\", 6, 434.2842105263158, 59.94736842105263, 15.257486944901315, 24.410526315789475, 49.845894736842105], [\"surf\", 7, 449.3666666666667, 63.05833333333333, 16.52682023111979, 26.033333333333335, 62.99941666666668], [\"surf\", 8, 413.8301886792453, 58.062893081761004, 16.711156643081765, 28.38364779874214, 64.72779874213838], [\"surf\", 9, 413.9326424870466, 58.04663212435233, 16.28652075574806, 30.248704663212436, 58.45735751295338], [\"surf\", 10, 431.0897435897436, 60.47863247863248, 17.12233911758814, 33.37179487179487, 65.98982905982908], [\"surf\", 11, 423.9537366548043, 59.245551601423486, 16.069871135453734, 32.05693950177936, 58.24935943060502], [\"surf\", 12, 473.4637223974763, 65.41324921135647, 17.763349208891945, 38.2397476340694, 70.69807570977919]], \"fillcolor\": \"rgba(255,255,255,0)\", \"hoverlabel\": {\"namelength\": 0}, \"hoveron\": \"points\", \"hovertemplate\": \"plan=%{customdata[0]}<br>gb_used=%{customdata[4]}<br>month=%{customdata[1]}<br>call_length=%{customdata[2]}<br>call_made=%{customdata[3]}<br>message_send=%{customdata[5]}<br>monthly_revenue=%{customdata[6]}\", \"jitter\": 0, \"legendgroup\": \"plan=surf\", \"line\": {\"color\": \"rgba(255,255,255,0)\"}, \"marker\": {\"color\": \"#636efa\", \"symbol\": \"line-ns-open\"}, \"name\": \"plan=surf\", \"offsetgroup\": \"plan=surf\", \"showlegend\": false, \"type\": \"box\", \"x\": [0.0, 4.76060546875, 11.893401692708332, 13.032656249999995, 11.942166573660714, 13.788796900699008, 15.257486944901315, 16.52682023111979, 16.711156643081765, 16.28652075574806, 17.12233911758814, 16.069871135453734, 17.763349208891945], \"xaxis\": \"x2\", \"yaxis\": \"y2\"}, {\"alignmentgroup\": \"True\", \"bingroup\": \"x\", \"hoverlabel\": {\"namelength\": 0}, \"hovertemplate\": \"plan=ultimate<br>gb_used=%{x}<br>count=%{y}\", \"legendgroup\": \"plan=ultimate\", \"marker\": {\"color\": \"#EF553B\"}, \"name\": \"plan=ultimate\", \"offsetgroup\": \"plan=ultimate\", \"orientation\": \"v\", \"showlegend\": true, \"type\": \"histogram\", \"x\": [0.0, 6.75594970703125, 16.727352120535716, 17.892107747395833, 15.743803478422619, 16.234846107219827, 14.97843853889628, 15.961664459745762, 17.397187637544015, 16.57213821765988, 17.363566406249994, 16.634458353838575, 17.89374204521937], \"xaxis\": \"x\", \"yaxis\": \"y\"}, {\"alignmentgroup\": \"True\", \"boxpoints\": \"all\", \"customdata\": [[\"ultimate\", 0, 0.0, 0.0, 0.0, 0.0, 70.0], [\"ultimate\", 1, 193.5, 28.0, 6.75594970703125, 15.5, 70.0], [\"ultimate\", 2, 403.14285714285717, 58.285714285714285, 16.727352120535716, 21.571428571428573, 70.0], [\"ultimate\", 3, 304.25, 46.0, 17.892107747395833, 20.25, 74.66666666666667], [\"ultimate\", 4, 336.85714285714283, 47.523809523809526, 15.743803478422619, 22.047619047619047, 73.0], [\"ultimate\", 5, 406.2413793103448, 57.58620689655172, 16.234846107219827, 32.10344827586207, 70.72413793103448], [\"ultimate\", 6, 370.9574468085106, 52.170212765957444, 14.97843853889628, 29.340425531914892, 71.63829787234043], [\"ultimate\", 7, 427.06779661016947, 58.69491525423729, 15.961664459745762, 32.83050847457627, 71.89830508474576], [\"ultimate\", 8, 421.4366197183099, 60.070422535211264, 17.397187637544015, 38.478873239436616, 72.85915492957747], [\"ultimate\", 9, 437.51162790697674, 61.04651162790697, 16.57213821765988, 37.895348837209305, 72.03488372093024], [\"ultimate\", 10, 455.0285714285714, 64.39047619047619, 17.363566406249994, 39.8, 72.33333333333333], [\"ultimate\", 11, 445.1968503937008, 62.36220472440945, 16.634458353838575, 38.60629921259842, 71.70866141732283], [\"ultimate\", 12, 459.0993377483444, 64.90066225165563, 17.89374204521937, 45.00662251655629, 73.29139072847683]], \"fillcolor\": \"rgba(255,255,255,0)\", \"hoverlabel\": {\"namelength\": 0}, \"hoveron\": \"points\", \"hovertemplate\": \"plan=%{customdata[0]}<br>gb_used=%{customdata[4]}<br>month=%{customdata[1]}<br>call_length=%{customdata[2]}<br>call_made=%{customdata[3]}<br>message_send=%{customdata[5]}<br>monthly_revenue=%{customdata[6]}\", \"jitter\": 0, \"legendgroup\": \"plan=ultimate\", \"line\": {\"color\": \"rgba(255,255,255,0)\"}, \"marker\": {\"color\": \"#EF553B\", \"symbol\": \"line-ns-open\"}, \"name\": \"plan=ultimate\", \"offsetgroup\": \"plan=ultimate\", \"showlegend\": false, \"type\": \"box\", \"x\": [0.0, 6.75594970703125, 16.727352120535716, 17.892107747395833, 15.743803478422619, 16.234846107219827, 14.97843853889628, 15.961664459745762, 17.397187637544015, 16.57213821765988, 17.363566406249994, 16.634458353838575, 17.89374204521937], \"xaxis\": \"x2\", \"yaxis\": \"y2\"}],\n",
              "                        {\"autosize\": false, \"barmode\": \"relative\", \"height\": 400, \"legend\": {\"tracegroupgap\": 0}, \"template\": {\"data\": {\"bar\": [{\"error_x\": {\"color\": \"#2a3f5f\"}, \"error_y\": {\"color\": \"#2a3f5f\"}, \"marker\": {\"line\": {\"color\": \"#E5ECF6\", \"width\": 0.5}}, \"type\": \"bar\"}], \"barpolar\": [{\"marker\": {\"line\": {\"color\": \"#E5ECF6\", \"width\": 0.5}}, \"type\": \"barpolar\"}], \"carpet\": [{\"aaxis\": {\"endlinecolor\": \"#2a3f5f\", \"gridcolor\": \"white\", \"linecolor\": \"white\", \"minorgridcolor\": \"white\", \"startlinecolor\": \"#2a3f5f\"}, \"baxis\": {\"endlinecolor\": \"#2a3f5f\", \"gridcolor\": \"white\", \"linecolor\": \"white\", \"minorgridcolor\": \"white\", \"startlinecolor\": \"#2a3f5f\"}, \"type\": \"carpet\"}], \"choropleth\": [{\"colorbar\": {\"outlinewidth\": 0, \"ticks\": \"\"}, \"type\": \"choropleth\"}], \"contour\": [{\"colorbar\": {\"outlinewidth\": 0, \"ticks\": \"\"}, \"colorscale\": [[0.0, \"#0d0887\"], [0.1111111111111111, \"#46039f\"], [0.2222222222222222, \"#7201a8\"], [0.3333333333333333, \"#9c179e\"], [0.4444444444444444, \"#bd3786\"], [0.5555555555555556, \"#d8576b\"], [0.6666666666666666, \"#ed7953\"], [0.7777777777777778, \"#fb9f3a\"], [0.8888888888888888, \"#fdca26\"], [1.0, \"#f0f921\"]], \"type\": \"contour\"}], \"contourcarpet\": [{\"colorbar\": {\"outlinewidth\": 0, \"ticks\": \"\"}, \"type\": \"contourcarpet\"}], \"heatmap\": [{\"colorbar\": {\"outlinewidth\": 0, \"ticks\": \"\"}, \"colorscale\": [[0.0, \"#0d0887\"], [0.1111111111111111, \"#46039f\"], [0.2222222222222222, \"#7201a8\"], [0.3333333333333333, \"#9c179e\"], [0.4444444444444444, \"#bd3786\"], [0.5555555555555556, \"#d8576b\"], [0.6666666666666666, \"#ed7953\"], [0.7777777777777778, \"#fb9f3a\"], [0.8888888888888888, \"#fdca26\"], [1.0, \"#f0f921\"]], \"type\": \"heatmap\"}], \"heatmapgl\": [{\"colorbar\": {\"outlinewidth\": 0, \"ticks\": \"\"}, \"colorscale\": [[0.0, \"#0d0887\"], [0.1111111111111111, \"#46039f\"], [0.2222222222222222, \"#7201a8\"], [0.3333333333333333, \"#9c179e\"], [0.4444444444444444, \"#bd3786\"], [0.5555555555555556, \"#d8576b\"], [0.6666666666666666, \"#ed7953\"], [0.7777777777777778, \"#fb9f3a\"], [0.8888888888888888, \"#fdca26\"], [1.0, \"#f0f921\"]], \"type\": \"heatmapgl\"}], \"histogram\": [{\"marker\": {\"colorbar\": {\"outlinewidth\": 0, \"ticks\": \"\"}}, \"type\": \"histogram\"}], \"histogram2d\": [{\"colorbar\": {\"outlinewidth\": 0, \"ticks\": \"\"}, \"colorscale\": [[0.0, \"#0d0887\"], [0.1111111111111111, \"#46039f\"], [0.2222222222222222, \"#7201a8\"], [0.3333333333333333, \"#9c179e\"], [0.4444444444444444, \"#bd3786\"], [0.5555555555555556, \"#d8576b\"], [0.6666666666666666, \"#ed7953\"], [0.7777777777777778, \"#fb9f3a\"], [0.8888888888888888, \"#fdca26\"], [1.0, \"#f0f921\"]], \"type\": \"histogram2d\"}], \"histogram2dcontour\": [{\"colorbar\": {\"outlinewidth\": 0, \"ticks\": \"\"}, \"colorscale\": [[0.0, \"#0d0887\"], [0.1111111111111111, \"#46039f\"], [0.2222222222222222, \"#7201a8\"], [0.3333333333333333, \"#9c179e\"], [0.4444444444444444, \"#bd3786\"], [0.5555555555555556, \"#d8576b\"], [0.6666666666666666, \"#ed7953\"], [0.7777777777777778, \"#fb9f3a\"], [0.8888888888888888, \"#fdca26\"], [1.0, \"#f0f921\"]], \"type\": \"histogram2dcontour\"}], \"mesh3d\": [{\"colorbar\": {\"outlinewidth\": 0, \"ticks\": \"\"}, \"type\": \"mesh3d\"}], \"parcoords\": [{\"line\": {\"colorbar\": {\"outlinewidth\": 0, \"ticks\": \"\"}}, \"type\": \"parcoords\"}], \"pie\": [{\"automargin\": true, \"type\": \"pie\"}], \"scatter\": [{\"marker\": {\"colorbar\": {\"outlinewidth\": 0, \"ticks\": \"\"}}, \"type\": \"scatter\"}], \"scatter3d\": [{\"line\": {\"colorbar\": {\"outlinewidth\": 0, \"ticks\": \"\"}}, \"marker\": {\"colorbar\": {\"outlinewidth\": 0, \"ticks\": \"\"}}, \"type\": \"scatter3d\"}], \"scattercarpet\": [{\"marker\": {\"colorbar\": {\"outlinewidth\": 0, \"ticks\": \"\"}}, \"type\": \"scattercarpet\"}], \"scattergeo\": [{\"marker\": {\"colorbar\": {\"outlinewidth\": 0, \"ticks\": \"\"}}, \"type\": \"scattergeo\"}], \"scattergl\": [{\"marker\": {\"colorbar\": {\"outlinewidth\": 0, \"ticks\": \"\"}}, \"type\": \"scattergl\"}], \"scattermapbox\": [{\"marker\": {\"colorbar\": {\"outlinewidth\": 0, \"ticks\": \"\"}}, \"type\": \"scattermapbox\"}], \"scatterpolar\": [{\"marker\": {\"colorbar\": {\"outlinewidth\": 0, \"ticks\": \"\"}}, \"type\": \"scatterpolar\"}], \"scatterpolargl\": [{\"marker\": {\"colorbar\": {\"outlinewidth\": 0, \"ticks\": \"\"}}, \"type\": \"scatterpolargl\"}], \"scatterternary\": [{\"marker\": {\"colorbar\": {\"outlinewidth\": 0, \"ticks\": \"\"}}, \"type\": \"scatterternary\"}], \"surface\": [{\"colorbar\": {\"outlinewidth\": 0, \"ticks\": \"\"}, \"colorscale\": [[0.0, \"#0d0887\"], [0.1111111111111111, \"#46039f\"], [0.2222222222222222, \"#7201a8\"], [0.3333333333333333, \"#9c179e\"], [0.4444444444444444, \"#bd3786\"], [0.5555555555555556, \"#d8576b\"], [0.6666666666666666, \"#ed7953\"], [0.7777777777777778, \"#fb9f3a\"], [0.8888888888888888, \"#fdca26\"], [1.0, \"#f0f921\"]], \"type\": \"surface\"}], \"table\": [{\"cells\": {\"fill\": {\"color\": \"#EBF0F8\"}, \"line\": {\"color\": \"white\"}}, \"header\": {\"fill\": {\"color\": \"#C8D4E3\"}, \"line\": {\"color\": \"white\"}}, \"type\": \"table\"}]}, \"layout\": {\"annotationdefaults\": {\"arrowcolor\": \"#2a3f5f\", \"arrowhead\": 0, \"arrowwidth\": 1}, \"coloraxis\": {\"colorbar\": {\"outlinewidth\": 0, \"ticks\": \"\"}}, \"colorscale\": {\"diverging\": [[0, \"#8e0152\"], [0.1, \"#c51b7d\"], [0.2, \"#de77ae\"], [0.3, \"#f1b6da\"], [0.4, \"#fde0ef\"], [0.5, \"#f7f7f7\"], [0.6, \"#e6f5d0\"], [0.7, \"#b8e186\"], [0.8, \"#7fbc41\"], [0.9, \"#4d9221\"], [1, \"#276419\"]], \"sequential\": [[0.0, \"#0d0887\"], [0.1111111111111111, \"#46039f\"], [0.2222222222222222, \"#7201a8\"], [0.3333333333333333, \"#9c179e\"], [0.4444444444444444, \"#bd3786\"], [0.5555555555555556, \"#d8576b\"], [0.6666666666666666, \"#ed7953\"], [0.7777777777777778, \"#fb9f3a\"], [0.8888888888888888, \"#fdca26\"], [1.0, \"#f0f921\"]], \"sequentialminus\": [[0.0, \"#0d0887\"], [0.1111111111111111, \"#46039f\"], [0.2222222222222222, \"#7201a8\"], [0.3333333333333333, \"#9c179e\"], [0.4444444444444444, \"#bd3786\"], [0.5555555555555556, \"#d8576b\"], [0.6666666666666666, \"#ed7953\"], [0.7777777777777778, \"#fb9f3a\"], [0.8888888888888888, \"#fdca26\"], [1.0, \"#f0f921\"]]}, \"colorway\": [\"#636efa\", \"#EF553B\", \"#00cc96\", \"#ab63fa\", \"#FFA15A\", \"#19d3f3\", \"#FF6692\", \"#B6E880\", \"#FF97FF\", \"#FECB52\"], \"font\": {\"color\": \"#2a3f5f\"}, \"geo\": {\"bgcolor\": \"white\", \"lakecolor\": \"white\", \"landcolor\": \"#E5ECF6\", \"showlakes\": true, \"showland\": true, \"subunitcolor\": \"white\"}, \"hoverlabel\": {\"align\": \"left\"}, \"hovermode\": \"closest\", \"mapbox\": {\"style\": \"light\"}, \"paper_bgcolor\": \"white\", \"plot_bgcolor\": \"#E5ECF6\", \"polar\": {\"angularaxis\": {\"gridcolor\": \"white\", \"linecolor\": \"white\", \"ticks\": \"\"}, \"bgcolor\": \"#E5ECF6\", \"radialaxis\": {\"gridcolor\": \"white\", \"linecolor\": \"white\", \"ticks\": \"\"}}, \"scene\": {\"xaxis\": {\"backgroundcolor\": \"#E5ECF6\", \"gridcolor\": \"white\", \"gridwidth\": 2, \"linecolor\": \"white\", \"showbackground\": true, \"ticks\": \"\", \"zerolinecolor\": \"white\"}, \"yaxis\": {\"backgroundcolor\": \"#E5ECF6\", \"gridcolor\": \"white\", \"gridwidth\": 2, \"linecolor\": \"white\", \"showbackground\": true, \"ticks\": \"\", \"zerolinecolor\": \"white\"}, \"zaxis\": {\"backgroundcolor\": \"#E5ECF6\", \"gridcolor\": \"white\", \"gridwidth\": 2, \"linecolor\": \"white\", \"showbackground\": true, \"ticks\": \"\", \"zerolinecolor\": \"white\"}}, \"shapedefaults\": {\"line\": {\"color\": \"#2a3f5f\"}}, \"ternary\": {\"aaxis\": {\"gridcolor\": \"white\", \"linecolor\": \"white\", \"ticks\": \"\"}, \"baxis\": {\"gridcolor\": \"white\", \"linecolor\": \"white\", \"ticks\": \"\"}, \"bgcolor\": \"#E5ECF6\", \"caxis\": {\"gridcolor\": \"white\", \"linecolor\": \"white\", \"ticks\": \"\"}}, \"title\": {\"x\": 0.05}, \"xaxis\": {\"automargin\": true, \"gridcolor\": \"white\", \"linecolor\": \"white\", \"ticks\": \"\", \"title\": {\"standoff\": 15}, \"zerolinecolor\": \"white\", \"zerolinewidth\": 2}, \"yaxis\": {\"automargin\": true, \"gridcolor\": \"white\", \"linecolor\": \"white\", \"ticks\": \"\", \"title\": {\"standoff\": 15}, \"zerolinecolor\": \"white\", \"zerolinewidth\": 2}}}, \"title\": {\"text\": \"gb_used a month\"}, \"width\": 800, \"xaxis\": {\"anchor\": \"y\", \"domain\": [0.0, 1.0], \"title\": {\"text\": \"gb_used\"}}, \"xaxis2\": {\"anchor\": \"y2\", \"domain\": [0.0, 1.0], \"matches\": \"x\", \"showgrid\": true, \"showticklabels\": false}, \"yaxis\": {\"anchor\": \"x\", \"domain\": [0.0, 0.7326], \"title\": {\"text\": \"count\"}}, \"yaxis2\": {\"anchor\": \"x2\", \"domain\": [0.7426, 1.0], \"matches\": \"y2\", \"showgrid\": false, \"showline\": false, \"showticklabels\": false, \"ticks\": \"\"}},\n",
              "                        {\"responsive\": true}\n",
              "                    ).then(function(){\n",
              "                            \n",
              "var gd = document.getElementById('86a626c6-b18c-4e2b-8797-056c239d3c2f');\n",
              "var x = new MutationObserver(function (mutations, observer) {{\n",
              "        var display = window.getComputedStyle(gd).display;\n",
              "        if (!display || display === 'none') {{\n",
              "            console.log([gd, 'removed!']);\n",
              "            Plotly.purge(gd);\n",
              "            observer.disconnect();\n",
              "        }}\n",
              "}});\n",
              "\n",
              "// Listen for the removal of the full notebook cells\n",
              "var notebookContainer = gd.closest('#notebook-container');\n",
              "if (notebookContainer) {{\n",
              "    x.observe(notebookContainer, {childList: true});\n",
              "}}\n",
              "\n",
              "// Listen for the clearing of the current output cell\n",
              "var outputEl = gd.closest('.output');\n",
              "if (outputEl) {{\n",
              "    x.observe(outputEl, {childList: true});\n",
              "}}\n",
              "\n",
              "                        })\n",
              "                };\n",
              "                \n",
              "            </script>\n",
              "        </div>\n",
              "</body>\n",
              "</html>"
            ]
          },
          "metadata": {
            "tags": []
          }
        },
        {
          "output_type": "display_data",
          "data": {
            "text/html": [
              "<html>\n",
              "<head><meta charset=\"utf-8\" /></head>\n",
              "<body>\n",
              "    <div>\n",
              "            <script src=\"https://cdnjs.cloudflare.com/ajax/libs/mathjax/2.7.5/MathJax.js?config=TeX-AMS-MML_SVG\"></script><script type=\"text/javascript\">if (window.MathJax) {MathJax.Hub.Config({SVG: {font: \"STIX-Web\"}});}</script>\n",
              "                <script type=\"text/javascript\">window.PlotlyConfig = {MathJaxConfig: 'local'};</script>\n",
              "        <script src=\"https://cdn.plot.ly/plotly-latest.min.js\"></script>    \n",
              "            <div id=\"b025026e-c911-46c5-bc1a-bec1f806f4de\" class=\"plotly-graph-div\" style=\"height:400px; width:800px;\"></div>\n",
              "            <script type=\"text/javascript\">\n",
              "                \n",
              "                    window.PLOTLYENV=window.PLOTLYENV || {};\n",
              "                    \n",
              "                if (document.getElementById(\"b025026e-c911-46c5-bc1a-bec1f806f4de\")) {\n",
              "                    Plotly.newPlot(\n",
              "                        'b025026e-c911-46c5-bc1a-bec1f806f4de',\n",
              "                        [{\"alignmentgroup\": \"True\", \"bingroup\": \"x\", \"hoverlabel\": {\"namelength\": 0}, \"hovertemplate\": \"plan=surf<br>message_send=%{x}<br>count=%{y}\", \"legendgroup\": \"plan=surf\", \"marker\": {\"color\": \"#636efa\"}, \"name\": \"plan=surf\", \"offsetgroup\": \"plan=surf\", \"orientation\": \"v\", \"showlegend\": true, \"type\": \"histogram\", \"x\": [0.0, 10.5, 12.0, 15.26086956521739, 17.632653061224488, 23.657894736842106, 24.410526315789475, 26.033333333333335, 28.38364779874214, 30.248704663212436, 33.37179487179487, 32.05693950177936, 38.2397476340694], \"xaxis\": \"x\", \"yaxis\": \"y\"}, {\"alignmentgroup\": \"True\", \"boxpoints\": \"all\", \"customdata\": [[\"surf\", 0, 0.0, 0.0, 0.0, 0.0, 20.0], [\"surf\", 1, 203.0, 30.0, 4.76060546875, 10.5, 20.0], [\"surf\", 2, 297.0, 40.666666666666664, 11.893401692708332, 12.0, 34.39666666666667], [\"surf\", 3, 330.0, 46.43478260869565, 13.032656249999995, 15.26086956521739, 45.94130434782609], [\"surf\", 4, 357.81632653061223, 49.714285714285715, 11.942166573660714, 17.632653061224488, 41.133265306122446], [\"surf\", 5, 401.6842105263158, 56.06578947368421, 13.788796900699008, 23.657894736842106, 47.99131578947369], [\"surf\", 6, 434.2842105263158, 59.94736842105263, 15.257486944901315, 24.410526315789475, 49.845894736842105], [\"surf\", 7, 449.3666666666667, 63.05833333333333, 16.52682023111979, 26.033333333333335, 62.99941666666668], [\"surf\", 8, 413.8301886792453, 58.062893081761004, 16.711156643081765, 28.38364779874214, 64.72779874213838], [\"surf\", 9, 413.9326424870466, 58.04663212435233, 16.28652075574806, 30.248704663212436, 58.45735751295338], [\"surf\", 10, 431.0897435897436, 60.47863247863248, 17.12233911758814, 33.37179487179487, 65.98982905982908], [\"surf\", 11, 423.9537366548043, 59.245551601423486, 16.069871135453734, 32.05693950177936, 58.24935943060502], [\"surf\", 12, 473.4637223974763, 65.41324921135647, 17.763349208891945, 38.2397476340694, 70.69807570977919]], \"fillcolor\": \"rgba(255,255,255,0)\", \"hoverlabel\": {\"namelength\": 0}, \"hoveron\": \"points\", \"hovertemplate\": \"plan=%{customdata[0]}<br>message_send=%{customdata[5]}<br>month=%{customdata[1]}<br>call_length=%{customdata[2]}<br>call_made=%{customdata[3]}<br>gb_used=%{customdata[4]}<br>monthly_revenue=%{customdata[6]}\", \"jitter\": 0, \"legendgroup\": \"plan=surf\", \"line\": {\"color\": \"rgba(255,255,255,0)\"}, \"marker\": {\"color\": \"#636efa\", \"symbol\": \"line-ns-open\"}, \"name\": \"plan=surf\", \"offsetgroup\": \"plan=surf\", \"showlegend\": false, \"type\": \"box\", \"x\": [0.0, 10.5, 12.0, 15.26086956521739, 17.632653061224488, 23.657894736842106, 24.410526315789475, 26.033333333333335, 28.38364779874214, 30.248704663212436, 33.37179487179487, 32.05693950177936, 38.2397476340694], \"xaxis\": \"x2\", \"yaxis\": \"y2\"}, {\"alignmentgroup\": \"True\", \"bingroup\": \"x\", \"hoverlabel\": {\"namelength\": 0}, \"hovertemplate\": \"plan=ultimate<br>message_send=%{x}<br>count=%{y}\", \"legendgroup\": \"plan=ultimate\", \"marker\": {\"color\": \"#EF553B\"}, \"name\": \"plan=ultimate\", \"offsetgroup\": \"plan=ultimate\", \"orientation\": \"v\", \"showlegend\": true, \"type\": \"histogram\", \"x\": [0.0, 15.5, 21.571428571428573, 20.25, 22.047619047619047, 32.10344827586207, 29.340425531914892, 32.83050847457627, 38.478873239436616, 37.895348837209305, 39.8, 38.60629921259842, 45.00662251655629], \"xaxis\": \"x\", \"yaxis\": \"y\"}, {\"alignmentgroup\": \"True\", \"boxpoints\": \"all\", \"customdata\": [[\"ultimate\", 0, 0.0, 0.0, 0.0, 0.0, 70.0], [\"ultimate\", 1, 193.5, 28.0, 6.75594970703125, 15.5, 70.0], [\"ultimate\", 2, 403.14285714285717, 58.285714285714285, 16.727352120535716, 21.571428571428573, 70.0], [\"ultimate\", 3, 304.25, 46.0, 17.892107747395833, 20.25, 74.66666666666667], [\"ultimate\", 4, 336.85714285714283, 47.523809523809526, 15.743803478422619, 22.047619047619047, 73.0], [\"ultimate\", 5, 406.2413793103448, 57.58620689655172, 16.234846107219827, 32.10344827586207, 70.72413793103448], [\"ultimate\", 6, 370.9574468085106, 52.170212765957444, 14.97843853889628, 29.340425531914892, 71.63829787234043], [\"ultimate\", 7, 427.06779661016947, 58.69491525423729, 15.961664459745762, 32.83050847457627, 71.89830508474576], [\"ultimate\", 8, 421.4366197183099, 60.070422535211264, 17.397187637544015, 38.478873239436616, 72.85915492957747], [\"ultimate\", 9, 437.51162790697674, 61.04651162790697, 16.57213821765988, 37.895348837209305, 72.03488372093024], [\"ultimate\", 10, 455.0285714285714, 64.39047619047619, 17.363566406249994, 39.8, 72.33333333333333], [\"ultimate\", 11, 445.1968503937008, 62.36220472440945, 16.634458353838575, 38.60629921259842, 71.70866141732283], [\"ultimate\", 12, 459.0993377483444, 64.90066225165563, 17.89374204521937, 45.00662251655629, 73.29139072847683]], \"fillcolor\": \"rgba(255,255,255,0)\", \"hoverlabel\": {\"namelength\": 0}, \"hoveron\": \"points\", \"hovertemplate\": \"plan=%{customdata[0]}<br>message_send=%{customdata[5]}<br>month=%{customdata[1]}<br>call_length=%{customdata[2]}<br>call_made=%{customdata[3]}<br>gb_used=%{customdata[4]}<br>monthly_revenue=%{customdata[6]}\", \"jitter\": 0, \"legendgroup\": \"plan=ultimate\", \"line\": {\"color\": \"rgba(255,255,255,0)\"}, \"marker\": {\"color\": \"#EF553B\", \"symbol\": \"line-ns-open\"}, \"name\": \"plan=ultimate\", \"offsetgroup\": \"plan=ultimate\", \"showlegend\": false, \"type\": \"box\", \"x\": [0.0, 15.5, 21.571428571428573, 20.25, 22.047619047619047, 32.10344827586207, 29.340425531914892, 32.83050847457627, 38.478873239436616, 37.895348837209305, 39.8, 38.60629921259842, 45.00662251655629], \"xaxis\": \"x2\", \"yaxis\": \"y2\"}],\n",
              "                        {\"autosize\": false, \"barmode\": \"relative\", \"height\": 400, \"legend\": {\"tracegroupgap\": 0}, \"template\": {\"data\": {\"bar\": [{\"error_x\": {\"color\": \"#2a3f5f\"}, \"error_y\": {\"color\": \"#2a3f5f\"}, \"marker\": {\"line\": {\"color\": \"#E5ECF6\", \"width\": 0.5}}, \"type\": \"bar\"}], \"barpolar\": [{\"marker\": {\"line\": {\"color\": \"#E5ECF6\", \"width\": 0.5}}, \"type\": \"barpolar\"}], \"carpet\": [{\"aaxis\": {\"endlinecolor\": \"#2a3f5f\", \"gridcolor\": \"white\", \"linecolor\": \"white\", \"minorgridcolor\": \"white\", \"startlinecolor\": \"#2a3f5f\"}, \"baxis\": {\"endlinecolor\": \"#2a3f5f\", \"gridcolor\": \"white\", \"linecolor\": \"white\", \"minorgridcolor\": \"white\", \"startlinecolor\": \"#2a3f5f\"}, \"type\": \"carpet\"}], \"choropleth\": [{\"colorbar\": {\"outlinewidth\": 0, \"ticks\": \"\"}, \"type\": \"choropleth\"}], \"contour\": [{\"colorbar\": {\"outlinewidth\": 0, \"ticks\": \"\"}, \"colorscale\": [[0.0, \"#0d0887\"], [0.1111111111111111, \"#46039f\"], [0.2222222222222222, \"#7201a8\"], [0.3333333333333333, \"#9c179e\"], [0.4444444444444444, \"#bd3786\"], [0.5555555555555556, \"#d8576b\"], [0.6666666666666666, \"#ed7953\"], [0.7777777777777778, \"#fb9f3a\"], [0.8888888888888888, \"#fdca26\"], [1.0, \"#f0f921\"]], \"type\": \"contour\"}], \"contourcarpet\": [{\"colorbar\": {\"outlinewidth\": 0, \"ticks\": \"\"}, \"type\": \"contourcarpet\"}], \"heatmap\": [{\"colorbar\": {\"outlinewidth\": 0, \"ticks\": \"\"}, \"colorscale\": [[0.0, \"#0d0887\"], [0.1111111111111111, \"#46039f\"], [0.2222222222222222, \"#7201a8\"], [0.3333333333333333, \"#9c179e\"], [0.4444444444444444, \"#bd3786\"], [0.5555555555555556, \"#d8576b\"], [0.6666666666666666, \"#ed7953\"], [0.7777777777777778, \"#fb9f3a\"], [0.8888888888888888, \"#fdca26\"], [1.0, \"#f0f921\"]], \"type\": \"heatmap\"}], \"heatmapgl\": [{\"colorbar\": {\"outlinewidth\": 0, \"ticks\": \"\"}, \"colorscale\": [[0.0, \"#0d0887\"], [0.1111111111111111, \"#46039f\"], [0.2222222222222222, \"#7201a8\"], [0.3333333333333333, \"#9c179e\"], [0.4444444444444444, \"#bd3786\"], [0.5555555555555556, \"#d8576b\"], [0.6666666666666666, \"#ed7953\"], [0.7777777777777778, \"#fb9f3a\"], [0.8888888888888888, \"#fdca26\"], [1.0, \"#f0f921\"]], \"type\": \"heatmapgl\"}], \"histogram\": [{\"marker\": {\"colorbar\": {\"outlinewidth\": 0, \"ticks\": \"\"}}, \"type\": \"histogram\"}], \"histogram2d\": [{\"colorbar\": {\"outlinewidth\": 0, \"ticks\": \"\"}, \"colorscale\": [[0.0, \"#0d0887\"], [0.1111111111111111, \"#46039f\"], [0.2222222222222222, \"#7201a8\"], [0.3333333333333333, \"#9c179e\"], [0.4444444444444444, \"#bd3786\"], [0.5555555555555556, \"#d8576b\"], [0.6666666666666666, \"#ed7953\"], [0.7777777777777778, \"#fb9f3a\"], [0.8888888888888888, \"#fdca26\"], [1.0, \"#f0f921\"]], \"type\": \"histogram2d\"}], \"histogram2dcontour\": [{\"colorbar\": {\"outlinewidth\": 0, \"ticks\": \"\"}, \"colorscale\": [[0.0, \"#0d0887\"], [0.1111111111111111, \"#46039f\"], [0.2222222222222222, \"#7201a8\"], [0.3333333333333333, \"#9c179e\"], [0.4444444444444444, \"#bd3786\"], [0.5555555555555556, \"#d8576b\"], [0.6666666666666666, \"#ed7953\"], [0.7777777777777778, \"#fb9f3a\"], [0.8888888888888888, \"#fdca26\"], [1.0, \"#f0f921\"]], \"type\": \"histogram2dcontour\"}], \"mesh3d\": [{\"colorbar\": {\"outlinewidth\": 0, \"ticks\": \"\"}, \"type\": \"mesh3d\"}], \"parcoords\": [{\"line\": {\"colorbar\": {\"outlinewidth\": 0, \"ticks\": \"\"}}, \"type\": \"parcoords\"}], \"pie\": [{\"automargin\": true, \"type\": \"pie\"}], \"scatter\": [{\"marker\": {\"colorbar\": {\"outlinewidth\": 0, \"ticks\": \"\"}}, \"type\": \"scatter\"}], \"scatter3d\": [{\"line\": {\"colorbar\": {\"outlinewidth\": 0, \"ticks\": \"\"}}, \"marker\": {\"colorbar\": {\"outlinewidth\": 0, \"ticks\": \"\"}}, \"type\": \"scatter3d\"}], \"scattercarpet\": [{\"marker\": {\"colorbar\": {\"outlinewidth\": 0, \"ticks\": \"\"}}, \"type\": \"scattercarpet\"}], \"scattergeo\": [{\"marker\": {\"colorbar\": {\"outlinewidth\": 0, \"ticks\": \"\"}}, \"type\": \"scattergeo\"}], \"scattergl\": [{\"marker\": {\"colorbar\": {\"outlinewidth\": 0, \"ticks\": \"\"}}, \"type\": \"scattergl\"}], \"scattermapbox\": [{\"marker\": {\"colorbar\": {\"outlinewidth\": 0, \"ticks\": \"\"}}, \"type\": \"scattermapbox\"}], \"scatterpolar\": [{\"marker\": {\"colorbar\": {\"outlinewidth\": 0, \"ticks\": \"\"}}, \"type\": \"scatterpolar\"}], \"scatterpolargl\": [{\"marker\": {\"colorbar\": {\"outlinewidth\": 0, \"ticks\": \"\"}}, \"type\": \"scatterpolargl\"}], \"scatterternary\": [{\"marker\": {\"colorbar\": {\"outlinewidth\": 0, \"ticks\": \"\"}}, \"type\": \"scatterternary\"}], \"surface\": [{\"colorbar\": {\"outlinewidth\": 0, \"ticks\": \"\"}, \"colorscale\": [[0.0, \"#0d0887\"], [0.1111111111111111, \"#46039f\"], [0.2222222222222222, \"#7201a8\"], [0.3333333333333333, \"#9c179e\"], [0.4444444444444444, \"#bd3786\"], [0.5555555555555556, \"#d8576b\"], [0.6666666666666666, \"#ed7953\"], [0.7777777777777778, \"#fb9f3a\"], [0.8888888888888888, \"#fdca26\"], [1.0, \"#f0f921\"]], \"type\": \"surface\"}], \"table\": [{\"cells\": {\"fill\": {\"color\": \"#EBF0F8\"}, \"line\": {\"color\": \"white\"}}, \"header\": {\"fill\": {\"color\": \"#C8D4E3\"}, \"line\": {\"color\": \"white\"}}, \"type\": \"table\"}]}, \"layout\": {\"annotationdefaults\": {\"arrowcolor\": \"#2a3f5f\", \"arrowhead\": 0, \"arrowwidth\": 1}, \"coloraxis\": {\"colorbar\": {\"outlinewidth\": 0, \"ticks\": \"\"}}, \"colorscale\": {\"diverging\": [[0, \"#8e0152\"], [0.1, \"#c51b7d\"], [0.2, \"#de77ae\"], [0.3, \"#f1b6da\"], [0.4, \"#fde0ef\"], [0.5, \"#f7f7f7\"], [0.6, \"#e6f5d0\"], [0.7, \"#b8e186\"], [0.8, \"#7fbc41\"], [0.9, \"#4d9221\"], [1, \"#276419\"]], \"sequential\": [[0.0, \"#0d0887\"], [0.1111111111111111, \"#46039f\"], [0.2222222222222222, \"#7201a8\"], [0.3333333333333333, \"#9c179e\"], [0.4444444444444444, \"#bd3786\"], [0.5555555555555556, \"#d8576b\"], [0.6666666666666666, \"#ed7953\"], [0.7777777777777778, \"#fb9f3a\"], [0.8888888888888888, \"#fdca26\"], [1.0, \"#f0f921\"]], \"sequentialminus\": [[0.0, \"#0d0887\"], [0.1111111111111111, \"#46039f\"], [0.2222222222222222, \"#7201a8\"], [0.3333333333333333, \"#9c179e\"], [0.4444444444444444, \"#bd3786\"], [0.5555555555555556, \"#d8576b\"], [0.6666666666666666, \"#ed7953\"], [0.7777777777777778, \"#fb9f3a\"], [0.8888888888888888, \"#fdca26\"], [1.0, \"#f0f921\"]]}, \"colorway\": [\"#636efa\", \"#EF553B\", \"#00cc96\", \"#ab63fa\", \"#FFA15A\", \"#19d3f3\", \"#FF6692\", \"#B6E880\", \"#FF97FF\", \"#FECB52\"], \"font\": {\"color\": \"#2a3f5f\"}, \"geo\": {\"bgcolor\": \"white\", \"lakecolor\": \"white\", \"landcolor\": \"#E5ECF6\", \"showlakes\": true, \"showland\": true, \"subunitcolor\": \"white\"}, \"hoverlabel\": {\"align\": \"left\"}, \"hovermode\": \"closest\", \"mapbox\": {\"style\": \"light\"}, \"paper_bgcolor\": \"white\", \"plot_bgcolor\": \"#E5ECF6\", \"polar\": {\"angularaxis\": {\"gridcolor\": \"white\", \"linecolor\": \"white\", \"ticks\": \"\"}, \"bgcolor\": \"#E5ECF6\", \"radialaxis\": {\"gridcolor\": \"white\", \"linecolor\": \"white\", \"ticks\": \"\"}}, \"scene\": {\"xaxis\": {\"backgroundcolor\": \"#E5ECF6\", \"gridcolor\": \"white\", \"gridwidth\": 2, \"linecolor\": \"white\", \"showbackground\": true, \"ticks\": \"\", \"zerolinecolor\": \"white\"}, \"yaxis\": {\"backgroundcolor\": \"#E5ECF6\", \"gridcolor\": \"white\", \"gridwidth\": 2, \"linecolor\": \"white\", \"showbackground\": true, \"ticks\": \"\", \"zerolinecolor\": \"white\"}, \"zaxis\": {\"backgroundcolor\": \"#E5ECF6\", \"gridcolor\": \"white\", \"gridwidth\": 2, \"linecolor\": \"white\", \"showbackground\": true, \"ticks\": \"\", \"zerolinecolor\": \"white\"}}, \"shapedefaults\": {\"line\": {\"color\": \"#2a3f5f\"}}, \"ternary\": {\"aaxis\": {\"gridcolor\": \"white\", \"linecolor\": \"white\", \"ticks\": \"\"}, \"baxis\": {\"gridcolor\": \"white\", \"linecolor\": \"white\", \"ticks\": \"\"}, \"bgcolor\": \"#E5ECF6\", \"caxis\": {\"gridcolor\": \"white\", \"linecolor\": \"white\", \"ticks\": \"\"}}, \"title\": {\"x\": 0.05}, \"xaxis\": {\"automargin\": true, \"gridcolor\": \"white\", \"linecolor\": \"white\", \"ticks\": \"\", \"title\": {\"standoff\": 15}, \"zerolinecolor\": \"white\", \"zerolinewidth\": 2}, \"yaxis\": {\"automargin\": true, \"gridcolor\": \"white\", \"linecolor\": \"white\", \"ticks\": \"\", \"title\": {\"standoff\": 15}, \"zerolinecolor\": \"white\", \"zerolinewidth\": 2}}}, \"title\": {\"text\": \"message_send a month\"}, \"width\": 800, \"xaxis\": {\"anchor\": \"y\", \"domain\": [0.0, 1.0], \"title\": {\"text\": \"message_send\"}}, \"xaxis2\": {\"anchor\": \"y2\", \"domain\": [0.0, 1.0], \"matches\": \"x\", \"showgrid\": true, \"showticklabels\": false}, \"yaxis\": {\"anchor\": \"x\", \"domain\": [0.0, 0.7326], \"title\": {\"text\": \"count\"}}, \"yaxis2\": {\"anchor\": \"x2\", \"domain\": [0.7426, 1.0], \"matches\": \"y2\", \"showgrid\": false, \"showline\": false, \"showticklabels\": false, \"ticks\": \"\"}},\n",
              "                        {\"responsive\": true}\n",
              "                    ).then(function(){\n",
              "                            \n",
              "var gd = document.getElementById('b025026e-c911-46c5-bc1a-bec1f806f4de');\n",
              "var x = new MutationObserver(function (mutations, observer) {{\n",
              "        var display = window.getComputedStyle(gd).display;\n",
              "        if (!display || display === 'none') {{\n",
              "            console.log([gd, 'removed!']);\n",
              "            Plotly.purge(gd);\n",
              "            observer.disconnect();\n",
              "        }}\n",
              "}});\n",
              "\n",
              "// Listen for the removal of the full notebook cells\n",
              "var notebookContainer = gd.closest('#notebook-container');\n",
              "if (notebookContainer) {{\n",
              "    x.observe(notebookContainer, {childList: true});\n",
              "}}\n",
              "\n",
              "// Listen for the clearing of the current output cell\n",
              "var outputEl = gd.closest('.output');\n",
              "if (outputEl) {{\n",
              "    x.observe(outputEl, {childList: true});\n",
              "}}\n",
              "\n",
              "                        })\n",
              "                };\n",
              "                \n",
              "            </script>\n",
              "        </div>\n",
              "</body>\n",
              "</html>"
            ]
          },
          "metadata": {
            "tags": []
          }
        },
        {
          "output_type": "display_data",
          "data": {
            "text/html": [
              "<html>\n",
              "<head><meta charset=\"utf-8\" /></head>\n",
              "<body>\n",
              "    <div>\n",
              "            <script src=\"https://cdnjs.cloudflare.com/ajax/libs/mathjax/2.7.5/MathJax.js?config=TeX-AMS-MML_SVG\"></script><script type=\"text/javascript\">if (window.MathJax) {MathJax.Hub.Config({SVG: {font: \"STIX-Web\"}});}</script>\n",
              "                <script type=\"text/javascript\">window.PlotlyConfig = {MathJaxConfig: 'local'};</script>\n",
              "        <script src=\"https://cdn.plot.ly/plotly-latest.min.js\"></script>    \n",
              "            <div id=\"50f6dc94-e3a5-4c39-bdcc-d37c6edec909\" class=\"plotly-graph-div\" style=\"height:400px; width:800px;\"></div>\n",
              "            <script type=\"text/javascript\">\n",
              "                \n",
              "                    window.PLOTLYENV=window.PLOTLYENV || {};\n",
              "                    \n",
              "                if (document.getElementById(\"50f6dc94-e3a5-4c39-bdcc-d37c6edec909\")) {\n",
              "                    Plotly.newPlot(\n",
              "                        '50f6dc94-e3a5-4c39-bdcc-d37c6edec909',\n",
              "                        [{\"alignmentgroup\": \"True\", \"bingroup\": \"x\", \"hoverlabel\": {\"namelength\": 0}, \"hovertemplate\": \"plan=surf<br>call_length=%{x}<br>count=%{y}\", \"legendgroup\": \"plan=surf\", \"marker\": {\"color\": \"#636efa\"}, \"name\": \"plan=surf\", \"offsetgroup\": \"plan=surf\", \"orientation\": \"v\", \"showlegend\": true, \"type\": \"histogram\", \"x\": [0.0, 203.0, 297.0, 330.0, 357.81632653061223, 401.6842105263158, 434.2842105263158, 449.3666666666667, 413.8301886792453, 413.9326424870466, 431.0897435897436, 423.9537366548043, 473.4637223974763], \"xaxis\": \"x\", \"yaxis\": \"y\"}, {\"alignmentgroup\": \"True\", \"boxpoints\": \"all\", \"customdata\": [[\"surf\", 0, 0.0, 0.0, 0.0, 0.0, 20.0], [\"surf\", 1, 203.0, 30.0, 4.76060546875, 10.5, 20.0], [\"surf\", 2, 297.0, 40.666666666666664, 11.893401692708332, 12.0, 34.39666666666667], [\"surf\", 3, 330.0, 46.43478260869565, 13.032656249999995, 15.26086956521739, 45.94130434782609], [\"surf\", 4, 357.81632653061223, 49.714285714285715, 11.942166573660714, 17.632653061224488, 41.133265306122446], [\"surf\", 5, 401.6842105263158, 56.06578947368421, 13.788796900699008, 23.657894736842106, 47.99131578947369], [\"surf\", 6, 434.2842105263158, 59.94736842105263, 15.257486944901315, 24.410526315789475, 49.845894736842105], [\"surf\", 7, 449.3666666666667, 63.05833333333333, 16.52682023111979, 26.033333333333335, 62.99941666666668], [\"surf\", 8, 413.8301886792453, 58.062893081761004, 16.711156643081765, 28.38364779874214, 64.72779874213838], [\"surf\", 9, 413.9326424870466, 58.04663212435233, 16.28652075574806, 30.248704663212436, 58.45735751295338], [\"surf\", 10, 431.0897435897436, 60.47863247863248, 17.12233911758814, 33.37179487179487, 65.98982905982908], [\"surf\", 11, 423.9537366548043, 59.245551601423486, 16.069871135453734, 32.05693950177936, 58.24935943060502], [\"surf\", 12, 473.4637223974763, 65.41324921135647, 17.763349208891945, 38.2397476340694, 70.69807570977919]], \"fillcolor\": \"rgba(255,255,255,0)\", \"hoverlabel\": {\"namelength\": 0}, \"hoveron\": \"points\", \"hovertemplate\": \"plan=%{customdata[0]}<br>call_length=%{customdata[2]}<br>month=%{customdata[1]}<br>call_made=%{customdata[3]}<br>gb_used=%{customdata[4]}<br>message_send=%{customdata[5]}<br>monthly_revenue=%{customdata[6]}\", \"jitter\": 0, \"legendgroup\": \"plan=surf\", \"line\": {\"color\": \"rgba(255,255,255,0)\"}, \"marker\": {\"color\": \"#636efa\", \"symbol\": \"line-ns-open\"}, \"name\": \"plan=surf\", \"offsetgroup\": \"plan=surf\", \"showlegend\": false, \"type\": \"box\", \"x\": [0.0, 203.0, 297.0, 330.0, 357.81632653061223, 401.6842105263158, 434.2842105263158, 449.3666666666667, 413.8301886792453, 413.9326424870466, 431.0897435897436, 423.9537366548043, 473.4637223974763], \"xaxis\": \"x2\", \"yaxis\": \"y2\"}, {\"alignmentgroup\": \"True\", \"bingroup\": \"x\", \"hoverlabel\": {\"namelength\": 0}, \"hovertemplate\": \"plan=ultimate<br>call_length=%{x}<br>count=%{y}\", \"legendgroup\": \"plan=ultimate\", \"marker\": {\"color\": \"#EF553B\"}, \"name\": \"plan=ultimate\", \"offsetgroup\": \"plan=ultimate\", \"orientation\": \"v\", \"showlegend\": true, \"type\": \"histogram\", \"x\": [0.0, 193.5, 403.14285714285717, 304.25, 336.85714285714283, 406.2413793103448, 370.9574468085106, 427.06779661016947, 421.4366197183099, 437.51162790697674, 455.0285714285714, 445.1968503937008, 459.0993377483444], \"xaxis\": \"x\", \"yaxis\": \"y\"}, {\"alignmentgroup\": \"True\", \"boxpoints\": \"all\", \"customdata\": [[\"ultimate\", 0, 0.0, 0.0, 0.0, 0.0, 70.0], [\"ultimate\", 1, 193.5, 28.0, 6.75594970703125, 15.5, 70.0], [\"ultimate\", 2, 403.14285714285717, 58.285714285714285, 16.727352120535716, 21.571428571428573, 70.0], [\"ultimate\", 3, 304.25, 46.0, 17.892107747395833, 20.25, 74.66666666666667], [\"ultimate\", 4, 336.85714285714283, 47.523809523809526, 15.743803478422619, 22.047619047619047, 73.0], [\"ultimate\", 5, 406.2413793103448, 57.58620689655172, 16.234846107219827, 32.10344827586207, 70.72413793103448], [\"ultimate\", 6, 370.9574468085106, 52.170212765957444, 14.97843853889628, 29.340425531914892, 71.63829787234043], [\"ultimate\", 7, 427.06779661016947, 58.69491525423729, 15.961664459745762, 32.83050847457627, 71.89830508474576], [\"ultimate\", 8, 421.4366197183099, 60.070422535211264, 17.397187637544015, 38.478873239436616, 72.85915492957747], [\"ultimate\", 9, 437.51162790697674, 61.04651162790697, 16.57213821765988, 37.895348837209305, 72.03488372093024], [\"ultimate\", 10, 455.0285714285714, 64.39047619047619, 17.363566406249994, 39.8, 72.33333333333333], [\"ultimate\", 11, 445.1968503937008, 62.36220472440945, 16.634458353838575, 38.60629921259842, 71.70866141732283], [\"ultimate\", 12, 459.0993377483444, 64.90066225165563, 17.89374204521937, 45.00662251655629, 73.29139072847683]], \"fillcolor\": \"rgba(255,255,255,0)\", \"hoverlabel\": {\"namelength\": 0}, \"hoveron\": \"points\", \"hovertemplate\": \"plan=%{customdata[0]}<br>call_length=%{customdata[2]}<br>month=%{customdata[1]}<br>call_made=%{customdata[3]}<br>gb_used=%{customdata[4]}<br>message_send=%{customdata[5]}<br>monthly_revenue=%{customdata[6]}\", \"jitter\": 0, \"legendgroup\": \"plan=ultimate\", \"line\": {\"color\": \"rgba(255,255,255,0)\"}, \"marker\": {\"color\": \"#EF553B\", \"symbol\": \"line-ns-open\"}, \"name\": \"plan=ultimate\", \"offsetgroup\": \"plan=ultimate\", \"showlegend\": false, \"type\": \"box\", \"x\": [0.0, 193.5, 403.14285714285717, 304.25, 336.85714285714283, 406.2413793103448, 370.9574468085106, 427.06779661016947, 421.4366197183099, 437.51162790697674, 455.0285714285714, 445.1968503937008, 459.0993377483444], \"xaxis\": \"x2\", \"yaxis\": \"y2\"}],\n",
              "                        {\"autosize\": false, \"barmode\": \"relative\", \"height\": 400, \"legend\": {\"tracegroupgap\": 0}, \"template\": {\"data\": {\"bar\": [{\"error_x\": {\"color\": \"#2a3f5f\"}, \"error_y\": {\"color\": \"#2a3f5f\"}, \"marker\": {\"line\": {\"color\": \"#E5ECF6\", \"width\": 0.5}}, \"type\": \"bar\"}], \"barpolar\": [{\"marker\": {\"line\": {\"color\": \"#E5ECF6\", \"width\": 0.5}}, \"type\": \"barpolar\"}], \"carpet\": [{\"aaxis\": {\"endlinecolor\": \"#2a3f5f\", \"gridcolor\": \"white\", \"linecolor\": \"white\", \"minorgridcolor\": \"white\", \"startlinecolor\": \"#2a3f5f\"}, \"baxis\": {\"endlinecolor\": \"#2a3f5f\", \"gridcolor\": \"white\", \"linecolor\": \"white\", \"minorgridcolor\": \"white\", \"startlinecolor\": \"#2a3f5f\"}, \"type\": \"carpet\"}], \"choropleth\": [{\"colorbar\": {\"outlinewidth\": 0, \"ticks\": \"\"}, \"type\": \"choropleth\"}], \"contour\": [{\"colorbar\": {\"outlinewidth\": 0, \"ticks\": \"\"}, \"colorscale\": [[0.0, \"#0d0887\"], [0.1111111111111111, \"#46039f\"], [0.2222222222222222, \"#7201a8\"], [0.3333333333333333, \"#9c179e\"], [0.4444444444444444, \"#bd3786\"], [0.5555555555555556, \"#d8576b\"], [0.6666666666666666, \"#ed7953\"], [0.7777777777777778, \"#fb9f3a\"], [0.8888888888888888, \"#fdca26\"], [1.0, \"#f0f921\"]], \"type\": \"contour\"}], \"contourcarpet\": [{\"colorbar\": {\"outlinewidth\": 0, \"ticks\": \"\"}, \"type\": \"contourcarpet\"}], \"heatmap\": [{\"colorbar\": {\"outlinewidth\": 0, \"ticks\": \"\"}, \"colorscale\": [[0.0, \"#0d0887\"], [0.1111111111111111, \"#46039f\"], [0.2222222222222222, \"#7201a8\"], [0.3333333333333333, \"#9c179e\"], [0.4444444444444444, \"#bd3786\"], [0.5555555555555556, \"#d8576b\"], [0.6666666666666666, \"#ed7953\"], [0.7777777777777778, \"#fb9f3a\"], [0.8888888888888888, \"#fdca26\"], [1.0, \"#f0f921\"]], \"type\": \"heatmap\"}], \"heatmapgl\": [{\"colorbar\": {\"outlinewidth\": 0, \"ticks\": \"\"}, \"colorscale\": [[0.0, \"#0d0887\"], [0.1111111111111111, \"#46039f\"], [0.2222222222222222, \"#7201a8\"], [0.3333333333333333, \"#9c179e\"], [0.4444444444444444, \"#bd3786\"], [0.5555555555555556, \"#d8576b\"], [0.6666666666666666, \"#ed7953\"], [0.7777777777777778, \"#fb9f3a\"], [0.8888888888888888, \"#fdca26\"], [1.0, \"#f0f921\"]], \"type\": \"heatmapgl\"}], \"histogram\": [{\"marker\": {\"colorbar\": {\"outlinewidth\": 0, \"ticks\": \"\"}}, \"type\": \"histogram\"}], \"histogram2d\": [{\"colorbar\": {\"outlinewidth\": 0, \"ticks\": \"\"}, \"colorscale\": [[0.0, \"#0d0887\"], [0.1111111111111111, \"#46039f\"], [0.2222222222222222, \"#7201a8\"], [0.3333333333333333, \"#9c179e\"], [0.4444444444444444, \"#bd3786\"], [0.5555555555555556, \"#d8576b\"], [0.6666666666666666, \"#ed7953\"], [0.7777777777777778, \"#fb9f3a\"], [0.8888888888888888, \"#fdca26\"], [1.0, \"#f0f921\"]], \"type\": \"histogram2d\"}], \"histogram2dcontour\": [{\"colorbar\": {\"outlinewidth\": 0, \"ticks\": \"\"}, \"colorscale\": [[0.0, \"#0d0887\"], [0.1111111111111111, \"#46039f\"], [0.2222222222222222, \"#7201a8\"], [0.3333333333333333, \"#9c179e\"], [0.4444444444444444, \"#bd3786\"], [0.5555555555555556, \"#d8576b\"], [0.6666666666666666, \"#ed7953\"], [0.7777777777777778, \"#fb9f3a\"], [0.8888888888888888, \"#fdca26\"], [1.0, \"#f0f921\"]], \"type\": \"histogram2dcontour\"}], \"mesh3d\": [{\"colorbar\": {\"outlinewidth\": 0, \"ticks\": \"\"}, \"type\": \"mesh3d\"}], \"parcoords\": [{\"line\": {\"colorbar\": {\"outlinewidth\": 0, \"ticks\": \"\"}}, \"type\": \"parcoords\"}], \"pie\": [{\"automargin\": true, \"type\": \"pie\"}], \"scatter\": [{\"marker\": {\"colorbar\": {\"outlinewidth\": 0, \"ticks\": \"\"}}, \"type\": \"scatter\"}], \"scatter3d\": [{\"line\": {\"colorbar\": {\"outlinewidth\": 0, \"ticks\": \"\"}}, \"marker\": {\"colorbar\": {\"outlinewidth\": 0, \"ticks\": \"\"}}, \"type\": \"scatter3d\"}], \"scattercarpet\": [{\"marker\": {\"colorbar\": {\"outlinewidth\": 0, \"ticks\": \"\"}}, \"type\": \"scattercarpet\"}], \"scattergeo\": [{\"marker\": {\"colorbar\": {\"outlinewidth\": 0, \"ticks\": \"\"}}, \"type\": \"scattergeo\"}], \"scattergl\": [{\"marker\": {\"colorbar\": {\"outlinewidth\": 0, \"ticks\": \"\"}}, \"type\": \"scattergl\"}], \"scattermapbox\": [{\"marker\": {\"colorbar\": {\"outlinewidth\": 0, \"ticks\": \"\"}}, \"type\": \"scattermapbox\"}], \"scatterpolar\": [{\"marker\": {\"colorbar\": {\"outlinewidth\": 0, \"ticks\": \"\"}}, \"type\": \"scatterpolar\"}], \"scatterpolargl\": [{\"marker\": {\"colorbar\": {\"outlinewidth\": 0, \"ticks\": \"\"}}, \"type\": \"scatterpolargl\"}], \"scatterternary\": [{\"marker\": {\"colorbar\": {\"outlinewidth\": 0, \"ticks\": \"\"}}, \"type\": \"scatterternary\"}], \"surface\": [{\"colorbar\": {\"outlinewidth\": 0, \"ticks\": \"\"}, \"colorscale\": [[0.0, \"#0d0887\"], [0.1111111111111111, \"#46039f\"], [0.2222222222222222, \"#7201a8\"], [0.3333333333333333, \"#9c179e\"], [0.4444444444444444, \"#bd3786\"], [0.5555555555555556, \"#d8576b\"], [0.6666666666666666, \"#ed7953\"], [0.7777777777777778, \"#fb9f3a\"], [0.8888888888888888, \"#fdca26\"], [1.0, \"#f0f921\"]], \"type\": \"surface\"}], \"table\": [{\"cells\": {\"fill\": {\"color\": \"#EBF0F8\"}, \"line\": {\"color\": \"white\"}}, \"header\": {\"fill\": {\"color\": \"#C8D4E3\"}, \"line\": {\"color\": \"white\"}}, \"type\": \"table\"}]}, \"layout\": {\"annotationdefaults\": {\"arrowcolor\": \"#2a3f5f\", \"arrowhead\": 0, \"arrowwidth\": 1}, \"coloraxis\": {\"colorbar\": {\"outlinewidth\": 0, \"ticks\": \"\"}}, \"colorscale\": {\"diverging\": [[0, \"#8e0152\"], [0.1, \"#c51b7d\"], [0.2, \"#de77ae\"], [0.3, \"#f1b6da\"], [0.4, \"#fde0ef\"], [0.5, \"#f7f7f7\"], [0.6, \"#e6f5d0\"], [0.7, \"#b8e186\"], [0.8, \"#7fbc41\"], [0.9, \"#4d9221\"], [1, \"#276419\"]], \"sequential\": [[0.0, \"#0d0887\"], [0.1111111111111111, \"#46039f\"], [0.2222222222222222, \"#7201a8\"], [0.3333333333333333, \"#9c179e\"], [0.4444444444444444, \"#bd3786\"], [0.5555555555555556, \"#d8576b\"], [0.6666666666666666, \"#ed7953\"], [0.7777777777777778, \"#fb9f3a\"], [0.8888888888888888, \"#fdca26\"], [1.0, \"#f0f921\"]], \"sequentialminus\": [[0.0, \"#0d0887\"], [0.1111111111111111, \"#46039f\"], [0.2222222222222222, \"#7201a8\"], [0.3333333333333333, \"#9c179e\"], [0.4444444444444444, \"#bd3786\"], [0.5555555555555556, \"#d8576b\"], [0.6666666666666666, \"#ed7953\"], [0.7777777777777778, \"#fb9f3a\"], [0.8888888888888888, \"#fdca26\"], [1.0, \"#f0f921\"]]}, \"colorway\": [\"#636efa\", \"#EF553B\", \"#00cc96\", \"#ab63fa\", \"#FFA15A\", \"#19d3f3\", \"#FF6692\", \"#B6E880\", \"#FF97FF\", \"#FECB52\"], \"font\": {\"color\": \"#2a3f5f\"}, \"geo\": {\"bgcolor\": \"white\", \"lakecolor\": \"white\", \"landcolor\": \"#E5ECF6\", \"showlakes\": true, \"showland\": true, \"subunitcolor\": \"white\"}, \"hoverlabel\": {\"align\": \"left\"}, \"hovermode\": \"closest\", \"mapbox\": {\"style\": \"light\"}, \"paper_bgcolor\": \"white\", \"plot_bgcolor\": \"#E5ECF6\", \"polar\": {\"angularaxis\": {\"gridcolor\": \"white\", \"linecolor\": \"white\", \"ticks\": \"\"}, \"bgcolor\": \"#E5ECF6\", \"radialaxis\": {\"gridcolor\": \"white\", \"linecolor\": \"white\", \"ticks\": \"\"}}, \"scene\": {\"xaxis\": {\"backgroundcolor\": \"#E5ECF6\", \"gridcolor\": \"white\", \"gridwidth\": 2, \"linecolor\": \"white\", \"showbackground\": true, \"ticks\": \"\", \"zerolinecolor\": \"white\"}, \"yaxis\": {\"backgroundcolor\": \"#E5ECF6\", \"gridcolor\": \"white\", \"gridwidth\": 2, \"linecolor\": \"white\", \"showbackground\": true, \"ticks\": \"\", \"zerolinecolor\": \"white\"}, \"zaxis\": {\"backgroundcolor\": \"#E5ECF6\", \"gridcolor\": \"white\", \"gridwidth\": 2, \"linecolor\": \"white\", \"showbackground\": true, \"ticks\": \"\", \"zerolinecolor\": \"white\"}}, \"shapedefaults\": {\"line\": {\"color\": \"#2a3f5f\"}}, \"ternary\": {\"aaxis\": {\"gridcolor\": \"white\", \"linecolor\": \"white\", \"ticks\": \"\"}, \"baxis\": {\"gridcolor\": \"white\", \"linecolor\": \"white\", \"ticks\": \"\"}, \"bgcolor\": \"#E5ECF6\", \"caxis\": {\"gridcolor\": \"white\", \"linecolor\": \"white\", \"ticks\": \"\"}}, \"title\": {\"x\": 0.05}, \"xaxis\": {\"automargin\": true, \"gridcolor\": \"white\", \"linecolor\": \"white\", \"ticks\": \"\", \"title\": {\"standoff\": 15}, \"zerolinecolor\": \"white\", \"zerolinewidth\": 2}, \"yaxis\": {\"automargin\": true, \"gridcolor\": \"white\", \"linecolor\": \"white\", \"ticks\": \"\", \"title\": {\"standoff\": 15}, \"zerolinecolor\": \"white\", \"zerolinewidth\": 2}}}, \"title\": {\"text\": \"call_length a month\"}, \"width\": 800, \"xaxis\": {\"anchor\": \"y\", \"domain\": [0.0, 1.0], \"title\": {\"text\": \"call_length\"}}, \"xaxis2\": {\"anchor\": \"y2\", \"domain\": [0.0, 1.0], \"matches\": \"x\", \"showgrid\": true, \"showticklabels\": false}, \"yaxis\": {\"anchor\": \"x\", \"domain\": [0.0, 0.7326], \"title\": {\"text\": \"count\"}}, \"yaxis2\": {\"anchor\": \"x2\", \"domain\": [0.7426, 1.0], \"matches\": \"y2\", \"showgrid\": false, \"showline\": false, \"showticklabels\": false, \"ticks\": \"\"}},\n",
              "                        {\"responsive\": true}\n",
              "                    ).then(function(){\n",
              "                            \n",
              "var gd = document.getElementById('50f6dc94-e3a5-4c39-bdcc-d37c6edec909');\n",
              "var x = new MutationObserver(function (mutations, observer) {{\n",
              "        var display = window.getComputedStyle(gd).display;\n",
              "        if (!display || display === 'none') {{\n",
              "            console.log([gd, 'removed!']);\n",
              "            Plotly.purge(gd);\n",
              "            observer.disconnect();\n",
              "        }}\n",
              "}});\n",
              "\n",
              "// Listen for the removal of the full notebook cells\n",
              "var notebookContainer = gd.closest('#notebook-container');\n",
              "if (notebookContainer) {{\n",
              "    x.observe(notebookContainer, {childList: true});\n",
              "}}\n",
              "\n",
              "// Listen for the clearing of the current output cell\n",
              "var outputEl = gd.closest('.output');\n",
              "if (outputEl) {{\n",
              "    x.observe(outputEl, {childList: true});\n",
              "}}\n",
              "\n",
              "                        })\n",
              "                };\n",
              "                \n",
              "            </script>\n",
              "        </div>\n",
              "</body>\n",
              "</html>"
            ]
          },
          "metadata": {
            "tags": []
          }
        },
        {
          "output_type": "display_data",
          "data": {
            "text/html": [
              "<html>\n",
              "<head><meta charset=\"utf-8\" /></head>\n",
              "<body>\n",
              "    <div>\n",
              "            <script src=\"https://cdnjs.cloudflare.com/ajax/libs/mathjax/2.7.5/MathJax.js?config=TeX-AMS-MML_SVG\"></script><script type=\"text/javascript\">if (window.MathJax) {MathJax.Hub.Config({SVG: {font: \"STIX-Web\"}});}</script>\n",
              "                <script type=\"text/javascript\">window.PlotlyConfig = {MathJaxConfig: 'local'};</script>\n",
              "        <script src=\"https://cdn.plot.ly/plotly-latest.min.js\"></script>    \n",
              "            <div id=\"e1138d17-61b8-4593-b2c1-229be816f262\" class=\"plotly-graph-div\" style=\"height:400px; width:800px;\"></div>\n",
              "            <script type=\"text/javascript\">\n",
              "                \n",
              "                    window.PLOTLYENV=window.PLOTLYENV || {};\n",
              "                    \n",
              "                if (document.getElementById(\"e1138d17-61b8-4593-b2c1-229be816f262\")) {\n",
              "                    Plotly.newPlot(\n",
              "                        'e1138d17-61b8-4593-b2c1-229be816f262',\n",
              "                        [{\"alignmentgroup\": \"True\", \"bingroup\": \"x\", \"hoverlabel\": {\"namelength\": 0}, \"hovertemplate\": \"plan=surf<br>call_made=%{x}<br>count=%{y}\", \"legendgroup\": \"plan=surf\", \"marker\": {\"color\": \"#636efa\"}, \"name\": \"plan=surf\", \"offsetgroup\": \"plan=surf\", \"orientation\": \"v\", \"showlegend\": true, \"type\": \"histogram\", \"x\": [0.0, 30.0, 40.666666666666664, 46.43478260869565, 49.714285714285715, 56.06578947368421, 59.94736842105263, 63.05833333333333, 58.062893081761004, 58.04663212435233, 60.47863247863248, 59.245551601423486, 65.41324921135647], \"xaxis\": \"x\", \"yaxis\": \"y\"}, {\"alignmentgroup\": \"True\", \"boxpoints\": \"all\", \"customdata\": [[\"surf\", 0, 0.0, 0.0, 0.0, 0.0, 20.0], [\"surf\", 1, 203.0, 30.0, 4.76060546875, 10.5, 20.0], [\"surf\", 2, 297.0, 40.666666666666664, 11.893401692708332, 12.0, 34.39666666666667], [\"surf\", 3, 330.0, 46.43478260869565, 13.032656249999995, 15.26086956521739, 45.94130434782609], [\"surf\", 4, 357.81632653061223, 49.714285714285715, 11.942166573660714, 17.632653061224488, 41.133265306122446], [\"surf\", 5, 401.6842105263158, 56.06578947368421, 13.788796900699008, 23.657894736842106, 47.99131578947369], [\"surf\", 6, 434.2842105263158, 59.94736842105263, 15.257486944901315, 24.410526315789475, 49.845894736842105], [\"surf\", 7, 449.3666666666667, 63.05833333333333, 16.52682023111979, 26.033333333333335, 62.99941666666668], [\"surf\", 8, 413.8301886792453, 58.062893081761004, 16.711156643081765, 28.38364779874214, 64.72779874213838], [\"surf\", 9, 413.9326424870466, 58.04663212435233, 16.28652075574806, 30.248704663212436, 58.45735751295338], [\"surf\", 10, 431.0897435897436, 60.47863247863248, 17.12233911758814, 33.37179487179487, 65.98982905982908], [\"surf\", 11, 423.9537366548043, 59.245551601423486, 16.069871135453734, 32.05693950177936, 58.24935943060502], [\"surf\", 12, 473.4637223974763, 65.41324921135647, 17.763349208891945, 38.2397476340694, 70.69807570977919]], \"fillcolor\": \"rgba(255,255,255,0)\", \"hoverlabel\": {\"namelength\": 0}, \"hoveron\": \"points\", \"hovertemplate\": \"plan=%{customdata[0]}<br>call_made=%{customdata[3]}<br>month=%{customdata[1]}<br>call_length=%{customdata[2]}<br>gb_used=%{customdata[4]}<br>message_send=%{customdata[5]}<br>monthly_revenue=%{customdata[6]}\", \"jitter\": 0, \"legendgroup\": \"plan=surf\", \"line\": {\"color\": \"rgba(255,255,255,0)\"}, \"marker\": {\"color\": \"#636efa\", \"symbol\": \"line-ns-open\"}, \"name\": \"plan=surf\", \"offsetgroup\": \"plan=surf\", \"showlegend\": false, \"type\": \"box\", \"x\": [0.0, 30.0, 40.666666666666664, 46.43478260869565, 49.714285714285715, 56.06578947368421, 59.94736842105263, 63.05833333333333, 58.062893081761004, 58.04663212435233, 60.47863247863248, 59.245551601423486, 65.41324921135647], \"xaxis\": \"x2\", \"yaxis\": \"y2\"}, {\"alignmentgroup\": \"True\", \"bingroup\": \"x\", \"hoverlabel\": {\"namelength\": 0}, \"hovertemplate\": \"plan=ultimate<br>call_made=%{x}<br>count=%{y}\", \"legendgroup\": \"plan=ultimate\", \"marker\": {\"color\": \"#EF553B\"}, \"name\": \"plan=ultimate\", \"offsetgroup\": \"plan=ultimate\", \"orientation\": \"v\", \"showlegend\": true, \"type\": \"histogram\", \"x\": [0.0, 28.0, 58.285714285714285, 46.0, 47.523809523809526, 57.58620689655172, 52.170212765957444, 58.69491525423729, 60.070422535211264, 61.04651162790697, 64.39047619047619, 62.36220472440945, 64.90066225165563], \"xaxis\": \"x\", \"yaxis\": \"y\"}, {\"alignmentgroup\": \"True\", \"boxpoints\": \"all\", \"customdata\": [[\"ultimate\", 0, 0.0, 0.0, 0.0, 0.0, 70.0], [\"ultimate\", 1, 193.5, 28.0, 6.75594970703125, 15.5, 70.0], [\"ultimate\", 2, 403.14285714285717, 58.285714285714285, 16.727352120535716, 21.571428571428573, 70.0], [\"ultimate\", 3, 304.25, 46.0, 17.892107747395833, 20.25, 74.66666666666667], [\"ultimate\", 4, 336.85714285714283, 47.523809523809526, 15.743803478422619, 22.047619047619047, 73.0], [\"ultimate\", 5, 406.2413793103448, 57.58620689655172, 16.234846107219827, 32.10344827586207, 70.72413793103448], [\"ultimate\", 6, 370.9574468085106, 52.170212765957444, 14.97843853889628, 29.340425531914892, 71.63829787234043], [\"ultimate\", 7, 427.06779661016947, 58.69491525423729, 15.961664459745762, 32.83050847457627, 71.89830508474576], [\"ultimate\", 8, 421.4366197183099, 60.070422535211264, 17.397187637544015, 38.478873239436616, 72.85915492957747], [\"ultimate\", 9, 437.51162790697674, 61.04651162790697, 16.57213821765988, 37.895348837209305, 72.03488372093024], [\"ultimate\", 10, 455.0285714285714, 64.39047619047619, 17.363566406249994, 39.8, 72.33333333333333], [\"ultimate\", 11, 445.1968503937008, 62.36220472440945, 16.634458353838575, 38.60629921259842, 71.70866141732283], [\"ultimate\", 12, 459.0993377483444, 64.90066225165563, 17.89374204521937, 45.00662251655629, 73.29139072847683]], \"fillcolor\": \"rgba(255,255,255,0)\", \"hoverlabel\": {\"namelength\": 0}, \"hoveron\": \"points\", \"hovertemplate\": \"plan=%{customdata[0]}<br>call_made=%{customdata[3]}<br>month=%{customdata[1]}<br>call_length=%{customdata[2]}<br>gb_used=%{customdata[4]}<br>message_send=%{customdata[5]}<br>monthly_revenue=%{customdata[6]}\", \"jitter\": 0, \"legendgroup\": \"plan=ultimate\", \"line\": {\"color\": \"rgba(255,255,255,0)\"}, \"marker\": {\"color\": \"#EF553B\", \"symbol\": \"line-ns-open\"}, \"name\": \"plan=ultimate\", \"offsetgroup\": \"plan=ultimate\", \"showlegend\": false, \"type\": \"box\", \"x\": [0.0, 28.0, 58.285714285714285, 46.0, 47.523809523809526, 57.58620689655172, 52.170212765957444, 58.69491525423729, 60.070422535211264, 61.04651162790697, 64.39047619047619, 62.36220472440945, 64.90066225165563], \"xaxis\": \"x2\", \"yaxis\": \"y2\"}],\n",
              "                        {\"autosize\": false, \"barmode\": \"relative\", \"height\": 400, \"legend\": {\"tracegroupgap\": 0}, \"template\": {\"data\": {\"bar\": [{\"error_x\": {\"color\": \"#2a3f5f\"}, \"error_y\": {\"color\": \"#2a3f5f\"}, \"marker\": {\"line\": {\"color\": \"#E5ECF6\", \"width\": 0.5}}, \"type\": \"bar\"}], \"barpolar\": [{\"marker\": {\"line\": {\"color\": \"#E5ECF6\", \"width\": 0.5}}, \"type\": \"barpolar\"}], \"carpet\": [{\"aaxis\": {\"endlinecolor\": \"#2a3f5f\", \"gridcolor\": \"white\", \"linecolor\": \"white\", \"minorgridcolor\": \"white\", \"startlinecolor\": \"#2a3f5f\"}, \"baxis\": {\"endlinecolor\": \"#2a3f5f\", \"gridcolor\": \"white\", \"linecolor\": \"white\", \"minorgridcolor\": \"white\", \"startlinecolor\": \"#2a3f5f\"}, \"type\": \"carpet\"}], \"choropleth\": [{\"colorbar\": {\"outlinewidth\": 0, \"ticks\": \"\"}, \"type\": \"choropleth\"}], \"contour\": [{\"colorbar\": {\"outlinewidth\": 0, \"ticks\": \"\"}, \"colorscale\": [[0.0, \"#0d0887\"], [0.1111111111111111, \"#46039f\"], [0.2222222222222222, \"#7201a8\"], [0.3333333333333333, \"#9c179e\"], [0.4444444444444444, \"#bd3786\"], [0.5555555555555556, \"#d8576b\"], [0.6666666666666666, \"#ed7953\"], [0.7777777777777778, \"#fb9f3a\"], [0.8888888888888888, \"#fdca26\"], [1.0, \"#f0f921\"]], \"type\": \"contour\"}], \"contourcarpet\": [{\"colorbar\": {\"outlinewidth\": 0, \"ticks\": \"\"}, \"type\": \"contourcarpet\"}], \"heatmap\": [{\"colorbar\": {\"outlinewidth\": 0, \"ticks\": \"\"}, \"colorscale\": [[0.0, \"#0d0887\"], [0.1111111111111111, \"#46039f\"], [0.2222222222222222, \"#7201a8\"], [0.3333333333333333, \"#9c179e\"], [0.4444444444444444, \"#bd3786\"], [0.5555555555555556, \"#d8576b\"], [0.6666666666666666, \"#ed7953\"], [0.7777777777777778, \"#fb9f3a\"], [0.8888888888888888, \"#fdca26\"], [1.0, \"#f0f921\"]], \"type\": \"heatmap\"}], \"heatmapgl\": [{\"colorbar\": {\"outlinewidth\": 0, \"ticks\": \"\"}, \"colorscale\": [[0.0, \"#0d0887\"], [0.1111111111111111, \"#46039f\"], [0.2222222222222222, \"#7201a8\"], [0.3333333333333333, \"#9c179e\"], [0.4444444444444444, \"#bd3786\"], [0.5555555555555556, \"#d8576b\"], [0.6666666666666666, \"#ed7953\"], [0.7777777777777778, \"#fb9f3a\"], [0.8888888888888888, \"#fdca26\"], [1.0, \"#f0f921\"]], \"type\": \"heatmapgl\"}], \"histogram\": [{\"marker\": {\"colorbar\": {\"outlinewidth\": 0, \"ticks\": \"\"}}, \"type\": \"histogram\"}], \"histogram2d\": [{\"colorbar\": {\"outlinewidth\": 0, \"ticks\": \"\"}, \"colorscale\": [[0.0, \"#0d0887\"], [0.1111111111111111, \"#46039f\"], [0.2222222222222222, \"#7201a8\"], [0.3333333333333333, \"#9c179e\"], [0.4444444444444444, \"#bd3786\"], [0.5555555555555556, \"#d8576b\"], [0.6666666666666666, \"#ed7953\"], [0.7777777777777778, \"#fb9f3a\"], [0.8888888888888888, \"#fdca26\"], [1.0, \"#f0f921\"]], \"type\": \"histogram2d\"}], \"histogram2dcontour\": [{\"colorbar\": {\"outlinewidth\": 0, \"ticks\": \"\"}, \"colorscale\": [[0.0, \"#0d0887\"], [0.1111111111111111, \"#46039f\"], [0.2222222222222222, \"#7201a8\"], [0.3333333333333333, \"#9c179e\"], [0.4444444444444444, \"#bd3786\"], [0.5555555555555556, \"#d8576b\"], [0.6666666666666666, \"#ed7953\"], [0.7777777777777778, \"#fb9f3a\"], [0.8888888888888888, \"#fdca26\"], [1.0, \"#f0f921\"]], \"type\": \"histogram2dcontour\"}], \"mesh3d\": [{\"colorbar\": {\"outlinewidth\": 0, \"ticks\": \"\"}, \"type\": \"mesh3d\"}], \"parcoords\": [{\"line\": {\"colorbar\": {\"outlinewidth\": 0, \"ticks\": \"\"}}, \"type\": \"parcoords\"}], \"pie\": [{\"automargin\": true, \"type\": \"pie\"}], \"scatter\": [{\"marker\": {\"colorbar\": {\"outlinewidth\": 0, \"ticks\": \"\"}}, \"type\": \"scatter\"}], \"scatter3d\": [{\"line\": {\"colorbar\": {\"outlinewidth\": 0, \"ticks\": \"\"}}, \"marker\": {\"colorbar\": {\"outlinewidth\": 0, \"ticks\": \"\"}}, \"type\": \"scatter3d\"}], \"scattercarpet\": [{\"marker\": {\"colorbar\": {\"outlinewidth\": 0, \"ticks\": \"\"}}, \"type\": \"scattercarpet\"}], \"scattergeo\": [{\"marker\": {\"colorbar\": {\"outlinewidth\": 0, \"ticks\": \"\"}}, \"type\": \"scattergeo\"}], \"scattergl\": [{\"marker\": {\"colorbar\": {\"outlinewidth\": 0, \"ticks\": \"\"}}, \"type\": \"scattergl\"}], \"scattermapbox\": [{\"marker\": {\"colorbar\": {\"outlinewidth\": 0, \"ticks\": \"\"}}, \"type\": \"scattermapbox\"}], \"scatterpolar\": [{\"marker\": {\"colorbar\": {\"outlinewidth\": 0, \"ticks\": \"\"}}, \"type\": \"scatterpolar\"}], \"scatterpolargl\": [{\"marker\": {\"colorbar\": {\"outlinewidth\": 0, \"ticks\": \"\"}}, \"type\": \"scatterpolargl\"}], \"scatterternary\": [{\"marker\": {\"colorbar\": {\"outlinewidth\": 0, \"ticks\": \"\"}}, \"type\": \"scatterternary\"}], \"surface\": [{\"colorbar\": {\"outlinewidth\": 0, \"ticks\": \"\"}, \"colorscale\": [[0.0, \"#0d0887\"], [0.1111111111111111, \"#46039f\"], [0.2222222222222222, \"#7201a8\"], [0.3333333333333333, \"#9c179e\"], [0.4444444444444444, \"#bd3786\"], [0.5555555555555556, \"#d8576b\"], [0.6666666666666666, \"#ed7953\"], [0.7777777777777778, \"#fb9f3a\"], [0.8888888888888888, \"#fdca26\"], [1.0, \"#f0f921\"]], \"type\": \"surface\"}], \"table\": [{\"cells\": {\"fill\": {\"color\": \"#EBF0F8\"}, \"line\": {\"color\": \"white\"}}, \"header\": {\"fill\": {\"color\": \"#C8D4E3\"}, \"line\": {\"color\": \"white\"}}, \"type\": \"table\"}]}, \"layout\": {\"annotationdefaults\": {\"arrowcolor\": \"#2a3f5f\", \"arrowhead\": 0, \"arrowwidth\": 1}, \"coloraxis\": {\"colorbar\": {\"outlinewidth\": 0, \"ticks\": \"\"}}, \"colorscale\": {\"diverging\": [[0, \"#8e0152\"], [0.1, \"#c51b7d\"], [0.2, \"#de77ae\"], [0.3, \"#f1b6da\"], [0.4, \"#fde0ef\"], [0.5, \"#f7f7f7\"], [0.6, \"#e6f5d0\"], [0.7, \"#b8e186\"], [0.8, \"#7fbc41\"], [0.9, \"#4d9221\"], [1, \"#276419\"]], \"sequential\": [[0.0, \"#0d0887\"], [0.1111111111111111, \"#46039f\"], [0.2222222222222222, \"#7201a8\"], [0.3333333333333333, \"#9c179e\"], [0.4444444444444444, \"#bd3786\"], [0.5555555555555556, \"#d8576b\"], [0.6666666666666666, \"#ed7953\"], [0.7777777777777778, \"#fb9f3a\"], [0.8888888888888888, \"#fdca26\"], [1.0, \"#f0f921\"]], \"sequentialminus\": [[0.0, \"#0d0887\"], [0.1111111111111111, \"#46039f\"], [0.2222222222222222, \"#7201a8\"], [0.3333333333333333, \"#9c179e\"], [0.4444444444444444, \"#bd3786\"], [0.5555555555555556, \"#d8576b\"], [0.6666666666666666, \"#ed7953\"], [0.7777777777777778, \"#fb9f3a\"], [0.8888888888888888, \"#fdca26\"], [1.0, \"#f0f921\"]]}, \"colorway\": [\"#636efa\", \"#EF553B\", \"#00cc96\", \"#ab63fa\", \"#FFA15A\", \"#19d3f3\", \"#FF6692\", \"#B6E880\", \"#FF97FF\", \"#FECB52\"], \"font\": {\"color\": \"#2a3f5f\"}, \"geo\": {\"bgcolor\": \"white\", \"lakecolor\": \"white\", \"landcolor\": \"#E5ECF6\", \"showlakes\": true, \"showland\": true, \"subunitcolor\": \"white\"}, \"hoverlabel\": {\"align\": \"left\"}, \"hovermode\": \"closest\", \"mapbox\": {\"style\": \"light\"}, \"paper_bgcolor\": \"white\", \"plot_bgcolor\": \"#E5ECF6\", \"polar\": {\"angularaxis\": {\"gridcolor\": \"white\", \"linecolor\": \"white\", \"ticks\": \"\"}, \"bgcolor\": \"#E5ECF6\", \"radialaxis\": {\"gridcolor\": \"white\", \"linecolor\": \"white\", \"ticks\": \"\"}}, \"scene\": {\"xaxis\": {\"backgroundcolor\": \"#E5ECF6\", \"gridcolor\": \"white\", \"gridwidth\": 2, \"linecolor\": \"white\", \"showbackground\": true, \"ticks\": \"\", \"zerolinecolor\": \"white\"}, \"yaxis\": {\"backgroundcolor\": \"#E5ECF6\", \"gridcolor\": \"white\", \"gridwidth\": 2, \"linecolor\": \"white\", \"showbackground\": true, \"ticks\": \"\", \"zerolinecolor\": \"white\"}, \"zaxis\": {\"backgroundcolor\": \"#E5ECF6\", \"gridcolor\": \"white\", \"gridwidth\": 2, \"linecolor\": \"white\", \"showbackground\": true, \"ticks\": \"\", \"zerolinecolor\": \"white\"}}, \"shapedefaults\": {\"line\": {\"color\": \"#2a3f5f\"}}, \"ternary\": {\"aaxis\": {\"gridcolor\": \"white\", \"linecolor\": \"white\", \"ticks\": \"\"}, \"baxis\": {\"gridcolor\": \"white\", \"linecolor\": \"white\", \"ticks\": \"\"}, \"bgcolor\": \"#E5ECF6\", \"caxis\": {\"gridcolor\": \"white\", \"linecolor\": \"white\", \"ticks\": \"\"}}, \"title\": {\"x\": 0.05}, \"xaxis\": {\"automargin\": true, \"gridcolor\": \"white\", \"linecolor\": \"white\", \"ticks\": \"\", \"title\": {\"standoff\": 15}, \"zerolinecolor\": \"white\", \"zerolinewidth\": 2}, \"yaxis\": {\"automargin\": true, \"gridcolor\": \"white\", \"linecolor\": \"white\", \"ticks\": \"\", \"title\": {\"standoff\": 15}, \"zerolinecolor\": \"white\", \"zerolinewidth\": 2}}}, \"title\": {\"text\": \"call_made a month\"}, \"width\": 800, \"xaxis\": {\"anchor\": \"y\", \"domain\": [0.0, 1.0], \"title\": {\"text\": \"call_made\"}}, \"xaxis2\": {\"anchor\": \"y2\", \"domain\": [0.0, 1.0], \"matches\": \"x\", \"showgrid\": true, \"showticklabels\": false}, \"yaxis\": {\"anchor\": \"x\", \"domain\": [0.0, 0.7326], \"title\": {\"text\": \"count\"}}, \"yaxis2\": {\"anchor\": \"x2\", \"domain\": [0.7426, 1.0], \"matches\": \"y2\", \"showgrid\": false, \"showline\": false, \"showticklabels\": false, \"ticks\": \"\"}},\n",
              "                        {\"responsive\": true}\n",
              "                    ).then(function(){\n",
              "                            \n",
              "var gd = document.getElementById('e1138d17-61b8-4593-b2c1-229be816f262');\n",
              "var x = new MutationObserver(function (mutations, observer) {{\n",
              "        var display = window.getComputedStyle(gd).display;\n",
              "        if (!display || display === 'none') {{\n",
              "            console.log([gd, 'removed!']);\n",
              "            Plotly.purge(gd);\n",
              "            observer.disconnect();\n",
              "        }}\n",
              "}});\n",
              "\n",
              "// Listen for the removal of the full notebook cells\n",
              "var notebookContainer = gd.closest('#notebook-container');\n",
              "if (notebookContainer) {{\n",
              "    x.observe(notebookContainer, {childList: true});\n",
              "}}\n",
              "\n",
              "// Listen for the clearing of the current output cell\n",
              "var outputEl = gd.closest('.output');\n",
              "if (outputEl) {{\n",
              "    x.observe(outputEl, {childList: true});\n",
              "}}\n",
              "\n",
              "                        })\n",
              "                };\n",
              "                \n",
              "            </script>\n",
              "        </div>\n",
              "</body>\n",
              "</html>"
            ]
          },
          "metadata": {
            "tags": []
          }
        }
      ]
    },
    {
      "cell_type": "markdown",
      "metadata": {
        "id": "DizAWrW2qEqj"
      },
      "source": [
        "in all the graphs above we can see tha the standard deviation of calls, massages and data is the same after about 4-6 month.\n",
        "\n",
        "So there is no difference bettwen plans in that regard"
      ]
    },
    {
      "cell_type": "markdown",
      "metadata": {
        "id": "VL17cIB4BBjl"
      },
      "source": [
        "in a month:\n",
        "\n",
        "\"gb_used\" - most users use between 16-18gb\n",
        "\n",
        "\"message_send\" - most call last 30-40 mints\n",
        "\n",
        "\"call_length\" - most call last 400-500 mints\n",
        "\n",
        "\"call_made\" - most peaople make 50-70 calls\n",
        "\n",
        "there is no significant difference between platforms"
      ]
    },
    {
      "cell_type": "markdown",
      "metadata": {
        "id": "3kvF1lF9zE3V"
      },
      "source": [
        "**conclusion**:\n",
        "1. There twice the number of users in the surf plan\n",
        "2. The ultimate brings more revenue in but the surf is on the rise and at the end of the year we can see there is no a lot of difference in the revenue every plan brings in\n",
        "3. The average messages send, data used, calss length and calls made is pretty much the same\n",
        "4. The standart diviashen is much higher in the surf plan as the outliers can be only over paying because there is base plan price we can deduce that there are more people that over pay in the surf plan.\n",
        "5. The standart diviashen messages send, data used, calss length and calls made is pretty much the same\n",
        "6. The difference in standard deviation beetwen plans is in ravanue were surf monthly revanue is way more spread out\n"
      ]
    },
    {
      "cell_type": "markdown",
      "metadata": {
        "id": "Wuj8MpTWxQo1"
      },
      "source": [
        "# **Step 4: Testing the hypotheses**\n"
      ]
    },
    {
      "cell_type": "code",
      "metadata": {
        "id": "uk3V6xxv7RQ3"
      },
      "source": [
        "#create sub df of the monthly ravenue for eache platform\n",
        "surf_revenue = data.query('plan ==\"surf\"')[\"monthly_revenue\"]\n",
        "ultimate_revenue = data.query('plan ==\"ultimate\"')[\"monthly_revenue\"]"
      ],
      "execution_count": 52,
      "outputs": []
    },
    {
      "cell_type": "markdown",
      "metadata": {
        "id": "MNBzJ2coHynl"
      },
      "source": [
        "Test the hypotheses that the average revenue from users of Ultimate and Surf calling plans differs.\n",
        "\n",
        "using the standard alpha 5% and the test Independent Sample T-Test. In this type of test, you are comparing the average of two independent unrelated groups. Meaning, you are comparing samples from two different populations and are testing whether or not they have a different average.\n",
        "\n",
        "H0: the average revenue from users of Ultimate and Surf calling plans doesn't differ\n",
        "\n",
        "H1: the average revenue from users of Ultimate and Surf calling plans differs\n",
        "\n",
        "we use the ttest_int because its a test of average of two independent unrelated groups the users of surf revanue and users of Ultimate revanue"
      ]
    },
    {
      "cell_type": "code",
      "metadata": {
        "colab": {
          "base_uri": "https://localhost:8080/"
        },
        "id": "jEfgftwH7n3K",
        "outputId": "17b5f65e-aa4c-493a-a628-c2aa22048d55"
      },
      "source": [
        "#Test the hypotheses that the average revenue from users of Ultimate and Surf calling plans differs.\n",
        "results = st.ttest_ind(surf_revenue, ultimate_revenue)\n",
        "\n",
        "print('p-value: {:.2}'.format(results.pvalue))\n",
        "\n",
        "alpha = 0.05\n",
        "if results.pvalue < alpha:\n",
        "    print(\"We reject the null hypothesis that the average revenue from users of Ultimate and Surf calling plans doesn't differ\")\n",
        "else:\n",
        "    print('''We can't reject the null hypothesis that the average revenue from users of Ultimate and Surf calling plans doesn't differ''')\n",
        "    "
      ],
      "execution_count": 53,
      "outputs": [
        {
          "output_type": "stream",
          "text": [
            "p-value: 4.8e-08\n",
            "We reject the null hypothesis that the average revenue from users of Ultimate and Surf calling plans doesn't differ\n"
          ],
          "name": "stdout"
        }
      ]
    },
    {
      "cell_type": "code",
      "metadata": {
        "id": "iSyk2OoiNCNP"
      },
      "source": [
        "#make a db that contains the user id and the city the live in\n",
        "data_users_city = data_users[[\"user_id\", \"city\"]]\n",
        "#make a db that contains only the mean revanue of the user that live in 'NY-NJ'\n",
        "users_ny_nj = data_users_city[data_users_city['city'].str.contains('NY-NJ')][\"user_id\"].tolist()\n",
        "users_ny_nj_mean = data[data['user_id'].isin(users_ny_nj)][\"monthly_revenue\"]\n",
        "#make a db that contains only the mean revanue of the user that do not live in 'NY-NJ'\n",
        "users_ny_nj = data_users_city[data_users_city['city'].str.contains('NY-NJ')][\"user_id\"].tolist()\n",
        "other_users_mean = data[~data['user_id'].isin(users_ny_nj)][\"monthly_revenue\"]"
      ],
      "execution_count": 54,
      "outputs": []
    },
    {
      "cell_type": "markdown",
      "metadata": {
        "id": "AMniLt2PIrYH"
      },
      "source": [
        "Test the hypotheses that the average revenue from users in NY-NJ area is different from that of the users from other regions.\n",
        "\n",
        "using the standard alpha 5% and the test Independent Sample T-Test. In this type of test, you are comparing the average of two independent unrelated groups. Meaning, you are comparing samples from two different populations and are testing whether or not they have a different average.\n",
        "\n",
        "H0:  the average revenue from users in NY-NJ area isn't different from that of the users from other regions\n",
        "\n",
        "H1: the average revenue from users in NY-NJ area is different from that of the users from other regions"
      ]
    },
    {
      "cell_type": "code",
      "metadata": {
        "colab": {
          "base_uri": "https://localhost:8080/"
        },
        "id": "qONBlrh05idS",
        "outputId": "a2e908b5-7ac3-4273-b36b-899676d9439d"
      },
      "source": [
        "#Test the hypotheses that the average revenue from users in NY-NJ area is different from that of the users from other regions.\n",
        "results = st.ttest_ind(users_ny_nj_mean, other_users_mean)\n",
        "\n",
        "print('p-value: {:.2}'.format(results.pvalue))\n",
        "\n",
        "alpha = 0.05\n",
        "if results.pvalue < alpha:\n",
        "    print(\"We reject the null hypothesis that the average revenue from users in NY-NJ area is different from that of the users from other regions\")\n",
        "else:\n",
        "    print(\"We can't reject the null hypothesis that the average revenue from users in NY-NJ area is different from that of the users from other regions\")"
      ],
      "execution_count": 55,
      "outputs": [
        {
          "output_type": "stream",
          "text": [
            "p-value: 0.037\n",
            "We reject the null hypothesis that the average revenue from users in NY-NJ area is different from that of the users from other regions\n"
          ],
          "name": "stdout"
        }
      ]
    },
    {
      "cell_type": "markdown",
      "metadata": {
        "id": "kqxYWTiCNx-N"
      },
      "source": [
        "in conclusion we didn't find that the average revenue from users of Ultimate and Surf calling plans differs\n",
        "\n",
        "and didnt find that the average revenue from users in NY-NJ area is different from that of the users from other regions "
      ]
    },
    {
      "cell_type": "markdown",
      "metadata": {
        "id": "COX2Hr_vNhH0"
      },
      "source": [
        "# **Step 5 : overall conclusion**\n"
      ]
    },
    {
      "cell_type": "markdown",
      "metadata": {
        "id": "mjuh5VhqNqs4"
      },
      "source": [
        "in this project wecarry out a preliminary analysis of the plans based on a relatively small client selection. wehad data on 500 Megaline clients: who the clients are, where they're from, which plan they use, and the number of calls they made and text messages they sent in 2018. Your job was to analyze clients' behavior and determine which prepaid plan brings in more revenue.\n",
        "\n",
        "first of all the are twice the number of users in the surf plan and users on the surf exceed more the phone plan, as a consequences surf pay more even if the plan cost half of the Ultimate plan. other parameters such as call length, massages and data is almost the same. we checked if there is correlation between the plans and the revenue and found they do not differ\n",
        "\n",
        "also we found aoute thete there is no diffrence in revenue in conecshen to the city the user is from\n",
        "\n",
        "do to the information we discovered i would recomend the following to to maximize profits:\n",
        "\n",
        "1. because surf users exceed the plan alot(we have learned it from the distribution graph and monthly usage of data graph) make your money from that exceeding, make them pay more for it. if a  surf plan user exceeds the data usage by 5 GB they pay as much as the ultimate user and we can see (from the number of gb used by month graph) the that on avrage they exceed by 3 GB so we soulde convince them to purchese the ultimate plan and it will make more money  \n",
        "\n",
        "2. because the usage of calls,massages and data usage is the same from both plans if there were more people in the ultimate plan we would make more money \n",
        "\n",
        "\n",
        "i believe this can increase the company's revenue\n",
        "\n",
        "\n"
      ]
    }
  ]
}